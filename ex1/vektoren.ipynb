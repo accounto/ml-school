{
 "cells": [
  {
   "cell_type": "markdown",
   "metadata": {
    "slideshow": {
     "slide_type": "slide"
    }
   },
   "source": [
    "# Vektoren\n",
    "\n",
    "* Im vergleich zu normalen Zahlen (Skalare) sind Vektoren meistens Objekte mit mehreren elementen.\n",
    "\n",
    "\n",
    "* Für unsere Zwecke gehen wir nur von Vektoren aus die Skalare als Elemente haben.\n",
    "\n",
    "\n",
    "* Beispiel für einen 3-dimensionalen Vektor $v_z$ = [2, 5, 1] oder $v_z$ = (2, 5, 1)"
   ]
  },
  {
   "cell_type": "markdown",
   "metadata": {
    "slideshow": {
     "slide_type": "slide"
    }
   },
   "source": [
    "* Wir unterscheiden zwei Typen von Vektoren: Spalten- und Zeilenvektor\n",
    "* Zeilenvektoren schreiben wir horizontal und Spaltenvektoren vertikal\n",
    "* Durch transponieren wandelt man Zeilen in Spaltenvektoren und umgekenrt.\n",
    "* $v_z'$ = $v_s \\quad$ und $\\quad v_s' = v_z$ wobei $'$ für das transponieren steht\n",
    "\n",
    "$$\n",
    "v_s = \\left(\\begin{matrix}2 \\\\ 5 \\\\ 1\\end{matrix}\\right) \\quad v_z = \\left(\\begin{matrix} 2 &5 &1\\end{matrix} \\right)\n",
    "$$"
   ]
  },
  {
   "cell_type": "markdown",
   "metadata": {
    "slideshow": {
     "slide_type": "slide"
    }
   },
   "source": [
    "* Vor allem in der Physik werden Vektoren als Pfeile in einem Koordinatensystem dargestellt.\n",
    "* So ein Pfeil hat 3 wichtige Eigenschaften die ihn definieren:\n",
    " - Richtung\n",
    " - Betrag\n",
    " - Länge (= Anzahl Elemente)\n",
    " \n",
    "Als Beispiel für einen Vektor kann man Windgeschwindigkeit nehmen\n",
    " - Länge = 3 (Weil wir im 3-dimensionalen Raum sind)\n",
    " - Richtung = Nord-West (als Beispiel)\n",
    " - Betrag = 45 km/h\n",
    " \n",
    " \n",
    "Im Gegensatz Dazu sind Dinge wie *Temperatur* oder *Franken* keine Vektoren, denn sie besitzen keine\n",
    "Richtung."
   ]
  },
  {
   "cell_type": "markdown",
   "metadata": {
    "slideshow": {
     "slide_type": "slide"
    }
   },
   "source": [
    "## Addition von Vektoren\n",
    "\n",
    "Vektoren gleicher dimension können addiert werden, dies geschieht elementweise.\n",
    "\n",
    "$$\n",
    "\\left(\\begin{matrix}x_1 \\\\ x_2 \\\\ x_3\\end{matrix}\\right) + \\left(\\begin{matrix}y_1 \\\\ y_2 \\\\ y_3\\end{matrix}\\right) = \\left(\\begin{matrix}x_1+y_1 \\\\ x_2+y_2 \\\\ x_3+y_3\\end{matrix}\\right)\n",
    "$$\n",
    "\n",
    "\n",
    "Und als ein konkretes Beispiel\n",
    "\n",
    "\n",
    "$$\n",
    "\\left(\\begin{matrix}2 \\\\ 5 \\\\ 1\\end{matrix}\\right) + \\left(\\begin{matrix}1 \\\\ -2 \\\\ 0\\end{matrix}\\right) = \\left(\\begin{matrix}2+1 \\\\ 5-2 \\\\ 1+0\\end{matrix}\\right) = \\left(\\begin{matrix}3 \\\\ 3 \\\\ 1\\end{matrix}\\right)\n",
    "$$\n"
   ]
  },
  {
   "cell_type": "markdown",
   "metadata": {
    "slideshow": {
     "slide_type": "slide"
    }
   },
   "source": [
    "## Multiplikation mit Skalar (=Zahl)\n",
    "\n",
    "Wird ein Vektor mit einem Skalar multipliziert, so geschieht das ebenfalls elementweise.\n",
    "$$\n",
    "a \\cdot \\left(\\begin{matrix}x_1 \\\\ x_2 \\\\ x_3\\end{matrix}\\right) = \\left(\\begin{matrix}a\\cdot x_1 \\\\ a\\cdot x_2 \\\\ a\\cdot x_3\\end{matrix}\\right)\n",
    "$$\n",
    "\n",
    "\n",
    "Mit folgendem Zahlenbeispiel\n",
    "\n",
    "\n",
    "$$\n",
    "2 \\cdot \\left(\\begin{matrix}2 \\\\ 5 \\\\ 1\\end{matrix}\\right) = \\left(\\begin{matrix}4 \\\\ 10 \\\\ 2\\end{matrix}\\right)\n",
    "$$"
   ]
  },
  {
   "cell_type": "markdown",
   "metadata": {
    "slideshow": {
     "slide_type": "slide"
    }
   },
   "source": [
    "# Aufgaben\n",
    "\n",
    "a) Skizziere auf ein Blatt die zwei Vektoren **$a$** = (3, 1),  **$b$** = (2, 2) und **$c$** = (-4, 0)\n",
    "\n",
    "b) Skizziere $a$ + $b$\n",
    "\n",
    "c) Skizziere $a + b + c$\n",
    "\n",
    "d) Skizziere $c - b$\n",
    "\n",
    "e) Skizziere $2\\cdot a$\n",
    "\n",
    "f) Skizziere $3\\cdot a$\n",
    "\n",
    "g) Skizziere $(-1)\\cdot b$\n",
    "\n",
    "h) Löse aufgaben b) bis g) mit Julia"
   ]
  },
  {
   "cell_type": "code",
   "execution_count": 12,
   "metadata": {
    "collapsed": false,
    "slideshow": {
     "slide_type": "slide"
    }
   },
   "outputs": [
    {
     "name": "stdout",
     "output_type": "stream",
     "text": [
      "vec_2 = [2,4,0]\n",
      "foo + bar = 9\n"
     ]
    }
   ],
   "source": [
    "# In Julia heissen Vektoren 'Arrays' und werden folgendermassen definiert: A = [1, 2, 3]\n",
    "# Definiere nun die Vektoren a, b, und c in Julia und Löse die vorhergehenden Aufgaben mit Julia.\n",
    "# Um Code auszuführen musst du Shift+Enter drücken.\n",
    "# Versuche den \"Code\" für die Aufgabe zu erraten... :)\n",
    "# Resultate können mit @show(...) ausgegeben werden\n",
    "\n",
    "# Definition von Arrays\n",
    "vec_1 = [1, 2, 3]\n",
    "vec_2 = [2, 4, 0]\n",
    "\n",
    "# Definition von Skalaren\n",
    "foo = 3\n",
    "bar = 6\n",
    "\n",
    "@show(vec_2)\n",
    "@show(foo + bar);\n",
    "\n",
    "\n",
    "##############################################\n",
    "# Setze deinen Code unterhalb dieser Zeile ein\n",
    "\n"
   ]
  },
  {
   "cell_type": "markdown",
   "metadata": {
    "slideshow": {
     "slide_type": "slide"
    }
   },
   "source": [
    "# Inneres Produkt\n",
    "* Das Innere Produkt zwischen zwei Vektoren $a$ und $b$ ist so DEFINIERT, dass es proportional zum cos() des Winkels zwischen den beiden Vektoren ist.\n",
    "\n",
    "* Das Vektorprodukt nimmt also zwei Vektoren und gibt einen Skalar zurück.\n",
    "\n",
    "\n",
    "\n",
    "\n",
    "\n",
    "** Diese Zahl hat folgende nützliche Eigenschaften:**\n",
    "* Das Vektorprodukt ist = 0, wenn die Vektoren senkrecht zueinander stehen.\n",
    "* Das Vektorprodukt ist > 0, falls der Winkel zwischen $a$ und $b$ kleiner als 90 Grad ist.\n",
    "* Das Vektorprodukt ist < 0, falls der Winkel zwischen $a$ und $b$ grösser als 90 Grad ist."
   ]
  },
  {
   "cell_type": "markdown",
   "metadata": {
    "slideshow": {
     "slide_type": "slide"
    }
   },
   "source": [
    "* Das Innere Produkt zwischen zwei Vektoren schreibt sich $a \\cdot b$, also mit einem \"Punkt\" zwischen zwei Vektoren.\n",
    "* Es gilt folgende Definition für Vektoren der Länge n\n",
    "\n",
    "$$ a \\cdot b = \\sum_{i=1}^n{a_i\\: b_i} = a_1 b_1 + a_2b_2 + \\dots + a_n b_n$$\n",
    "\n",
    "* Der Betrag eines Vektors **||a||** misst dessen \"Grösse\", sprich wie lang der Pfeil ist.\n",
    "* Der Betrag eines Vektors wird als das Innere Produkt des Vektors mit sich selbst berechnet:\n",
    "\n",
    "$$ ||a|| = \\sqrt{a \\cdot a} = \\sqrt{\\sum_{i=1}^n{a_i \\: a_i}}$$"
   ]
  },
  {
   "cell_type": "code",
   "execution_count": 34,
   "metadata": {
    "collapsed": false,
    "slideshow": {
     "slide_type": "slide"
    }
   },
   "outputs": [
    {
     "data": {
      "text/plain": [
       "3-element Array{Int64,1}:\n",
       " -6\n",
       "  0\n",
       " -2"
      ]
     },
     "execution_count": 34,
     "metadata": {},
     "output_type": "execute_result"
    }
   ],
   "source": [
    "# AUFGABEN\n",
    "##########\n",
    "# In Julia heisst die Funktion zur Berechnung des Inneren Produkts\n",
    "# \"dot(vec_1, vec_2)\", gemäss dem Punkt in der Notation.\n",
    "# Der Betrag eines Vektors berechnet sich mit der Funktion \"norm()\"\n",
    "# Finde einen Wert für c[2] so dass der Vektor c senkrecht auf a \n",
    "# und auf b steht.\n",
    "\n",
    "a = [1, 2, 3]\n",
    "b = [2, 2, 0]\n",
    "\n",
    "c = [-6, 0, -2]"
   ]
  },
  {
   "cell_type": "code",
   "execution_count": null,
   "metadata": {
    "collapsed": false,
    "slideshow": {
     "slide_type": "slide"
    }
   },
   "outputs": [],
   "source": [
    "# AUFGABEN\n",
    "##########\n",
    "# Du hast eine Liste mit Esswaren die und deren kcal/100g.\n",
    "# Apfel:50 Salat:35, Fleisch:250, Reis:130, Nudeln:160\n",
    "# Yoghurt:95, Schoggi:550\n",
    "# Stell dir ein Menu zusammen (z.B. 100g Apfel, 400g Fleisch etc.)\n",
    "# und berechne die Gesamtkalorienmenge mit hilfe des Skalarprodukts.\n"
   ]
  },
  {
   "cell_type": "code",
   "execution_count": 35,
   "metadata": {
    "collapsed": true
   },
   "outputs": [],
   "source": [
    "# AUFGABE\n",
    "#(alle Angaben in Metern, falls nichts anderes erwähnt)\n",
    "#########################################################\n",
    "\n",
    "# Willhelm Tell steht mit seiner Armbrust parat.\n",
    "# Seine Finger befindet sich am Abzug, und die Pfeilspitze\n",
    "# am Punkt [0.5, 0.0, 1.7]. Walterli steht mit Apfel auf\n",
    "# dem Kopf ebenfalls parat. Die Koordinaten des Apfels\n",
    "# sind [10.5, 22.0, 1.5]. Wie gross ist die Distanz zw.\n",
    "# Pfeilspitze und Apfel?\n",
    "\n",
    "\n",
    "\n",
    "\n",
    "# Bonusaufgabe:\n",
    "###############\n",
    "# Angenommen der Apfel hat einen Radius von\n",
    "# ca. 5 cm, mach eine Abschätzung für den Spielraum den\n",
    "# Tell hat um nicht Walterli in den Kopf zu treffen.\n",
    "# D.h. um welchen Winkel darf er sich vertun ohne seinen\n",
    "# Sohn zu verletzen.\n",
    "\n",
    "# Tipp 1: Für zwei Vektoren a und b und den Winkel w zwischen\n",
    "# ihnen gilt:\n",
    "# cos(w) = a / ||a|| . b / ||b||\n",
    "\n",
    "# Tipp 2: Um von cos(w) auf den Winkel w zu kommen gibt es\n",
    "# in Julia die Funktion acos(). Also acos(cos(w)) = w.\n",
    "\n",
    "# Tipp 3: Der Winkel w ist dann in radian, um auf grad zu\n",
    "# zu kommen rechnet man radian / pi * 180"
   ]
  },
  {
   "cell_type": "code",
   "execution_count": 3,
   "metadata": {
    "collapsed": false
   },
   "outputs": [
    {
     "name": "stderr",
     "output_type": "stream",
     "text": [
      "WARNING: Method definition show_data(Any) in module Main at In[2]:5 overwritten at In[3]:5.\n",
      "WARNING: Method definition show_theta!(Any) in module Main at In[2]:10 overwritten at In[3]:10.\n",
      "WARNING: Method definition show_predicted_labels!(Any, Any) in module Main at In[2]:14 overwritten at In[3]:14.\n"
     ]
    },
    {
     "data": {
      "text/html": [
       "<script src=\"/home/abieler/.julia/v0.5/Plots/src/backends/../../deps/plotly-latest.min.js\"></script>    <div id=\"d8df3e75-2bc5-4113-9b2e-398233b14ba5\" style=\"width:600px;height:400px;\"></div>\n",
       "    <script>\n",
       "    PLOT = document.getElementById('d8df3e75-2bc5-4113-9b2e-398233b14ba5');\n",
       "    Plotly.plot(PLOT, [{\"yaxis\":\"y\",\"y\":[0.55,0.26572210801970136,0.3951433658119196,-0.014930295963423934,0.08889971520273349,-0.118197714229134,-0.03496710268242281,0.6258580792812796,0.7667003582007761,0.29535244717192727,0.5056903970003825,0.12257520140591222,-0.10822292470257017,-0.1295697400939833,0.23386315625167436,0.6763475637023031,0.2728058507668107,0.10931381205236174,0.175501614051283,0.6180864673806201,0.46062209294415973],\"showlegend\":true,\"name\":\"positive\",\"type\":\"scatter\",\"xaxis\":\"x\",\"x\":[-0.15,0.09448162744320698,0.07903722354820308,0.377340781015042,0.7352503076112078,0.8968644939482502,0.2691524606870428,0.01761320692763335,0.15484399117134107,0.14020776306183258,0.5399583573929134,0.8325848633646977,0.8829435749663164,0.6906251637864891,0.728806386334574,0.34592845413757245,0.8474915491833692,0.890327099812483,0.2513832476630884,0.7400795856307385,0.3253153717473165],\"mode\":\"markers\",\"marker\":{\"symbol\":\"circle\",\"line\":{\"width\":0,\"color\":\"rgba(0, 0, 255, 1.000)\"},\"size\":16,\"color\":\"rgba(0, 0, 255, 1.000)\"}},{\"yaxis\":\"y\",\"y\":[-0.2537632503068634,-0.029257368914219928,0.05754003732858792,-0.4134306930433842,-0.09217188460547554,-0.6622627687592393,-0.1987987726239122,-0.43233804794440944,0.054680010093768994,-0.05995286625730811,-0.36644015485079473,0.11399529066024927,-0.35508723562853306,0.14744920610935064,-0.12524604739221612,-0.45817666572178095,0.03774872530528506,-0.7144219131424412,-0.6162228320183856,0.04761088134756508,-0.6],\"showlegend\":true,\"name\":\"negative\",\"type\":\"scatter\",\"xaxis\":\"x\",\"x\":[-0.6986567198860769,-0.36331394232199576,-1.0673564398258661,-1.125180434400341,-0.6670865738745075,-0.2591913383158828,-1.0580203450060364,-0.253530436388939,-0.5016797209195072,-1.0240423613866871,-0.8893563666303381,-1.0432394567509926,-1.0897247368273935,-0.4299998716184723,-0.2897569123328738,-0.8464492102214585,-0.3953725978844913,-1.0388850300408063,-0.880390547222472,-0.3693674937691944,0.1],\"mode\":\"markers\",\"marker\":{\"symbol\":\"circle\",\"line\":{\"width\":0,\"color\":\"rgba(255, 0, 0, 1.000)\"},\"size\":16,\"color\":\"rgba(255, 0, 0, 1.000)\"}}], {\"yaxis\":{\"type\":\"-\",\"titlefont\":{\"size\":15,\"color\":\"rgba(0, 0, 0, 1.000)\",\"family\":\"Helvetica\"},\"title\":\"\",\"tickfont\":{\"size\":11,\"color\":\"rgba(0, 0, 0, 1.000)\",\"family\":\"Helvetica\"},\"ticks\":\"inside\",\"tickmode\":\"array\",\"showgrid\":true,\"tickvals\":[-0.5,0.0,0.5],\"domain\":[0.03762029746281716,0.9901574803149606],\"ticktext\":[\"-0.5\",\"0.0\",\"0.5\"],\"tickangle\":0,\"zeroline\":false,\"linecolor\":\"rgba(0, 0, 0, 1.000)\",\"tickcolor\":\"rgba(0, 0, 0, 1.000)\",\"anchor\":\"x\"},\"annotations\":[],\"width\":600,\"plot_bgcolor\":\"rgba(255, 255, 255, 1.000)\",\"showlegend\":true,\"legend\":{\"bgcolor\":\"rgba(255, 255, 255, 1.000)\",\"y\":1.0,\"font\":{\"size\":11,\"color\":\"rgba(0, 0, 0, 1.000)\",\"family\":\"Helvetica\"},\"bordercolor\":\"rgba(0, 0, 0, 1.000)\",\"x\":1.0},\"xaxis\":{\"type\":\"-\",\"titlefont\":{\"size\":15,\"color\":\"rgba(0, 0, 0, 1.000)\",\"family\":\"Helvetica\"},\"title\":\"\",\"tickfont\":{\"size\":11,\"color\":\"rgba(0, 0, 0, 1.000)\",\"family\":\"Helvetica\"},\"ticks\":\"inside\",\"tickmode\":\"array\",\"showgrid\":true,\"tickvals\":[-1.0,-0.5,0.0,0.5],\"domain\":[0.0658209390492855,0.9934383202099738],\"ticktext\":[\"-1.0\",\"-0.5\",\"0.0\",\"0.5\"],\"tickangle\":0,\"zeroline\":false,\"linecolor\":\"rgba(0, 0, 0, 1.000)\",\"tickcolor\":\"rgba(0, 0, 0, 1.000)\",\"anchor\":\"y\"},\"paper_bgcolor\":\"rgba(255, 255, 255, 1.000)\",\"height\":400,\"margin\":{\"r\":0,\"l\":0,\"b\":0,\"t\":20}});\n",
       "    </script>\n"
      ]
     },
     "execution_count": 3,
     "metadata": {},
     "output_type": "execute_result"
    }
   ],
   "source": [
    "using Plots\n",
    "plotly()\n",
    "\n",
    "function show_data(X)\n",
    "    scatter(X[ipos,1], X[ipos,2], color=:blue, label=\"positive\", marker=(:circle, 8, stroke(0, :blue)))\n",
    "    scatter!(X[ineg,1], X[ineg,2], color=:red, label=\"negative\", marker=(:circle, 8, stroke(0, :red)))\n",
    "end\n",
    "\n",
    "function show_theta!(theta)\n",
    "    plot!([0,theta[1]],[0, theta[2]], color=:black, width=2, label=\"theta\")\n",
    "end\n",
    "\n",
    "function show_predicted_labels!(X, theta)\n",
    "    yhat = sign(X * theta)\n",
    "    \n",
    "    ipos = yhat .== 1.0\n",
    "    ineg = yhat .== -1.0\n",
    "    \n",
    "    accuracy = mean(yhat .== y) * 100\n",
    "    println(\"Classification accuracy: $accuracy %\")\n",
    "    \n",
    "    scatter!(X[ipos,1], X[ipos,2], color=:blue, label=\"predicted-pos\", m=(:circle, 3, stroke(0)))\n",
    "    scatter!(X[ineg,1], X[ineg,2], color=:red, label=\"predicted-neg\", m=(:circle, 3, stroke(0)))\n",
    "end\n",
    "\n",
    "X = readcsv(\"data_ex1.csv\")\n",
    "\n",
    "nPerClass = floor(Int, size(X, 1)/2)\n",
    "ipos = 1:nPerClass\n",
    "ineg = nPerClass+1:2nPerClass\n",
    "\n",
    "y = ones(Int64, 2*nPerClass)\n",
    "y[nPerClass+1:2*nPerClass] *= -1\n",
    "\n",
    "show_data(X)"
   ]
  },
  {
   "cell_type": "code",
   "execution_count": 15,
   "metadata": {
    "collapsed": false
   },
   "outputs": [
    {
     "name": "stdout",
     "output_type": "stream",
     "text": [
      "Classification accuracy: 73.80952380952381 %\n"
     ]
    },
    {
     "data": {
      "text/html": [
       "<script src=\"/opt/julia_packages/.julia/v0.5/Plots/src/backends/../../deps/plotly-latest.min.js\"></script>    <div id=\"a22189b7-8916-4e82-9467-26cf93f9ce65\" style=\"width:600px;height:400px;\"></div>\n",
       "    <script>\n",
       "    PLOT = document.getElementById('a22189b7-8916-4e82-9467-26cf93f9ce65');\n",
       "    Plotly.plot(PLOT, [{\"yaxis\":\"y\",\"y\":[0.55,0.26572210801970136,0.3951433658119196,-0.014930295963423934,0.08889971520273349,-0.118197714229134,-0.03496710268242281,0.6258580792812796,0.7667003582007761,0.29535244717192727,0.5056903970003825,0.12257520140591222,-0.10822292470257017,-0.1295697400939833,0.23386315625167436,0.6763475637023031,0.2728058507668107,0.10931381205236174,0.175501614051283,0.6180864673806201,0.46062209294415973],\"showlegend\":true,\"name\":\"positive\",\"type\":\"scatter\",\"xaxis\":\"x\",\"x\":[-0.15,0.09448162744320698,0.07903722354820308,0.377340781015042,0.7352503076112078,0.8968644939482502,0.2691524606870428,0.01761320692763335,0.15484399117134107,0.14020776306183258,0.5399583573929134,0.8325848633646977,0.8829435749663164,0.6906251637864891,0.728806386334574,0.34592845413757245,0.8474915491833692,0.890327099812483,0.2513832476630884,0.7400795856307385,0.3253153717473165],\"mode\":\"markers\",\"marker\":{\"symbol\":\"circle\",\"line\":{\"width\":0,\"color\":\"rgba(0, 0, 255, 1.000)\"},\"size\":16,\"color\":\"rgba(0, 0, 255, 1.000)\"}},{\"yaxis\":\"y\",\"y\":[-0.2537632503068634,-0.029257368914219928,0.05754003732858792,-0.4134306930433842,-0.09217188460547554,-0.6622627687592393,-0.1987987726239122,-0.43233804794440944,0.054680010093768994,-0.05995286625730811,-0.36644015485079473,0.11399529066024927,-0.35508723562853306,0.14744920610935064,-0.12524604739221612,-0.45817666572178095,0.03774872530528506,-0.7144219131424412,-0.6162228320183856,0.04761088134756508,-0.6],\"showlegend\":true,\"name\":\"negative\",\"type\":\"scatter\",\"xaxis\":\"x\",\"x\":[-0.6986567198860769,-0.36331394232199576,-1.0673564398258661,-1.125180434400341,-0.6670865738745075,-0.2591913383158828,-1.0580203450060364,-0.253530436388939,-0.5016797209195072,-1.0240423613866871,-0.8893563666303381,-1.0432394567509926,-1.0897247368273935,-0.4299998716184723,-0.2897569123328738,-0.8464492102214585,-0.3953725978844913,-1.0388850300408063,-0.880390547222472,-0.3693674937691944,0.1],\"mode\":\"markers\",\"marker\":{\"symbol\":\"circle\",\"line\":{\"width\":0,\"color\":\"rgba(255, 0, 0, 1.000)\"},\"size\":16,\"color\":\"rgba(255, 0, 0, 1.000)\"}},{\"yaxis\":\"y\",\"y\":[-0.014930295963423934,0.08889971520273349,-0.118197714229134,-0.03496710268242281,0.5056903970003825,0.12257520140591222,-0.10822292470257017,-0.1295697400939833,0.23386315625167436,0.2728058507668107,0.10931381205236174,0.175501614051283,0.6180864673806201,-0.6622627687592393,-0.43233804794440944,-0.6],\"showlegend\":true,\"name\":\"predicted-pos\",\"type\":\"scatter\",\"xaxis\":\"x\",\"x\":[0.377340781015042,0.7352503076112078,0.8968644939482502,0.2691524606870428,0.5399583573929134,0.8325848633646977,0.8829435749663164,0.6906251637864891,0.728806386334574,0.8474915491833692,0.890327099812483,0.2513832476630884,0.7400795856307385,-0.2591913383158828,-0.253530436388939,0.1],\"mode\":\"markers\",\"marker\":{\"symbol\":\"circle\",\"line\":{\"width\":0,\"color\":\"rgba(0, 0, 0, 1.000)\"},\"size\":6,\"color\":\"rgba(0, 0, 255, 1.000)\"}},{\"yaxis\":\"y\",\"y\":[0.55,0.26572210801970136,0.3951433658119196,0.6258580792812796,0.7667003582007761,0.29535244717192727,0.6763475637023031,0.46062209294415973,-0.2537632503068634,-0.029257368914219928,0.05754003732858792,-0.4134306930433842,-0.09217188460547554,-0.1987987726239122,0.054680010093768994,-0.05995286625730811,-0.36644015485079473,0.11399529066024927,-0.35508723562853306,0.14744920610935064,-0.12524604739221612,-0.45817666572178095,0.03774872530528506,-0.7144219131424412,-0.6162228320183856,0.04761088134756508],\"showlegend\":true,\"name\":\"predicted-neg\",\"type\":\"scatter\",\"xaxis\":\"x\",\"x\":[-0.15,0.09448162744320698,0.07903722354820308,0.01761320692763335,0.15484399117134107,0.14020776306183258,0.34592845413757245,0.3253153717473165,-0.6986567198860769,-0.36331394232199576,-1.0673564398258661,-1.125180434400341,-0.6670865738745075,-1.0580203450060364,-0.5016797209195072,-1.0240423613866871,-0.8893563666303381,-1.0432394567509926,-1.0897247368273935,-0.4299998716184723,-0.2897569123328738,-0.8464492102214585,-0.3953725978844913,-1.0388850300408063,-0.880390547222472,-0.3693674937691944],\"mode\":\"markers\",\"marker\":{\"symbol\":\"circle\",\"line\":{\"width\":0,\"color\":\"rgba(0, 0, 0, 1.000)\"},\"size\":6,\"color\":\"rgba(255, 0, 0, 1.000)\"}},{\"yaxis\":\"y\",\"y\":[0,-1],\"showlegend\":true,\"name\":\"theta\",\"type\":\"scatter\",\"xaxis\":\"x\",\"line\":{\"width\":2,\"dash\":\"solid\",\"color\":\"rgba(0, 0, 0, 1.000)\",\"shape\":\"linear\"},\"x\":[0,1],\"mode\":\"lines\"}], {\"yaxis\":{\"type\":\"-\",\"titlefont\":{\"size\":15,\"color\":\"rgba(0, 0, 0, 1.000)\",\"family\":\"sans-serif\"},\"title\":\"\",\"tickfont\":{\"size\":11,\"color\":\"rgba(0, 0, 0, 1.000)\",\"family\":\"sans-serif\"},\"ticks\":\"inside\",\"tickmode\":\"array\",\"showgrid\":true,\"tickvals\":[-1.0,-0.5,0.0,0.5],\"domain\":[0.03762029746281716,0.9901574803149606],\"ticktext\":[\"-1.0\",\"-0.5\",\"0.0\",\"0.5\"],\"tickangle\":0,\"zeroline\":false,\"linecolor\":\"rgba(0, 0, 0, 1.000)\",\"tickcolor\":\"rgba(0, 0, 0, 1.000)\",\"anchor\":\"x\"},\"annotations\":[],\"width\":600,\"plot_bgcolor\":\"rgba(255, 255, 255, 1.000)\",\"showlegend\":true,\"legend\":{\"bgcolor\":\"rgba(255, 255, 255, 1.000)\",\"y\":1.0,\"font\":{\"size\":11,\"color\":\"rgba(0, 0, 0, 1.000)\",\"family\":\"sans-serif\"},\"bordercolor\":\"rgba(0, 0, 0, 1.000)\",\"x\":1.0},\"xaxis\":{\"type\":\"-\",\"titlefont\":{\"size\":15,\"color\":\"rgba(0, 0, 0, 1.000)\",\"family\":\"sans-serif\"},\"title\":\"\",\"tickfont\":{\"size\":11,\"color\":\"rgba(0, 0, 0, 1.000)\",\"family\":\"sans-serif\"},\"ticks\":\"inside\",\"tickmode\":\"array\",\"showgrid\":true,\"tickvals\":[-1.0,0.0,1.0],\"domain\":[0.0658209390492855,0.9934383202099738],\"ticktext\":[\"-1\",\"0\",\"1\"],\"tickangle\":0,\"zeroline\":false,\"linecolor\":\"rgba(0, 0, 0, 1.000)\",\"tickcolor\":\"rgba(0, 0, 0, 1.000)\",\"anchor\":\"y\"},\"paper_bgcolor\":\"rgba(255, 255, 255, 1.000)\",\"height\":400,\"margin\":{\"r\":0,\"l\":0,\"b\":0,\"t\":20}});\n",
       "    </script>\n"
      ]
     },
     "execution_count": 15,
     "metadata": {},
     "output_type": "execute_result"
    }
   ],
   "source": [
    "# Machine Learning Aufgabe!\n",
    "###########################\n",
    "\n",
    "# Es wurden 2 dimensionale Daten geladen und in\n",
    "# die Variable X gespeichert. X besteht aus 42(!)\n",
    "# Datenpunkten und jeder Datenpunkt hat zwei\n",
    "# Koordinaten.\n",
    "\n",
    "# Je die Hälfte der Datenpunkte gehört\n",
    "# zu Klasse positiv (blau), die andere zur Klasse negativ (rot).\n",
    "# Die Information zur Klasse ist in der Variable y hinterlegt.\n",
    "# D.h. y ist ein Array mit 42 Zahlen. +1 für die positive Klasse\n",
    "# und -1 für die negative Klasse.\n",
    "\n",
    "# Auch wenn die Daten als blaue oder rote Punkte dargestellt sind,\n",
    "# kannst du dir sie als Vektoren vorstellen. Diese Vektoren haben\n",
    "# den Schwanz bei [0,0] und die Spitze beim jeweiligen (blauen oder roten)\n",
    "# Kreis.\n",
    "\n",
    "# Das Ziel ist nun ein Modell zu finden, welches die blauen von den \n",
    "# roten Punkten unterscheiden kann. Und zwar mit Hilfe des Skalarprodukts.\n",
    "\n",
    "\n",
    "\n",
    "# a) Finde einen Vektor 'theta' so dass:\n",
    "# theta . x > 0 für alle blauen Datenpunkte\n",
    "# theta . x < 0 für alle roten Datenpunkte.\n",
    "# Verändere die Werte in theta so dass du 100 % classification\n",
    "# erreichst. Die Grafik zeigt die eigentlichen Werte und die \n",
    "# Werte die durch das Modell\n",
    "\n",
    "# b) Erkläre in Worten was für einen Zusammenhang du zwischen\n",
    "# dem Vektor theta und den Resultaten deines Modells du erkennen\n",
    "# kannst.\n",
    "\n",
    "# c) Falls in b) nicht beantwortet: Was spielt das Skalarpodukt\n",
    "# bei diesem Modell für eine Rolle?\n",
    "\n",
    " \n",
    "\n",
    "theta = [1, -1]\n",
    "\n",
    "show_data(X)\n",
    "show_predicted_labels!(X, theta)\n",
    "show_theta!(theta)"
   ]
  },
  {
   "cell_type": "code",
   "execution_count": null,
   "metadata": {
    "collapsed": false
   },
   "outputs": [],
   "source": []
  },
  {
   "cell_type": "markdown",
   "metadata": {
    "slideshow": {
     "slide_type": "slide"
    }
   },
   "source": [
    "# Lineare Gleichungssysteme\n",
    "\n",
    "* Wenn mehr als eine Unbekannte vorkommen, müssen auch mehrere Gleichungen definiert werden, da sonst das Problem unbestimmt ist.\n",
    "\n",
    "* Beispiel: Die folgende Gleichung mit zwei Unbekannten hat unendlich viele Lösungen:\n",
    "\n",
    "$$ x_1 + x_2 = 10$$\n",
    "\n",
    "$$ 1 + 9 = 10$$\n",
    "$$ 2 + 8 = 10$$\n",
    "$$ \\vdots $$\n",
    "$$   $$\n",
    "$$ 5 + 5 = 10$$"
   ]
  },
  {
   "cell_type": "markdown",
   "metadata": {
    "slideshow": {
     "slide_type": "slide"
    }
   },
   "source": [
    "* Erst durch zusätzliche Bedingungen wird eine eindeutige Lösung bestimmt.\n",
    "* Es wird erwartet dass $x_1$ und $x_2$ so gefunden werden, dass alle Bedingungen erfüllt werden.\n",
    "* Es gibt also einen Zusammenhang zwischen den Gleichungen, ein Gleichungssystem.\n",
    "\n",
    "$$ \\begin{align}\n",
    "x_1 + x_2 &= 10\\\\\n",
    "x_1 - 3x_2 &= -2\\\\\n",
    "\\end{align}$$\n",
    "\n",
    "In der allgemeinen Form:\n",
    "\n",
    "$$ \\begin{align}\n",
    "a_{11} x_1 + a_{12} x_2 &= y_1\\\\\n",
    "a_{21} x_1 + a_{22} x_2 &= y_2\\\\\n",
    "\\end{align}\n",
    "$$\n",
    "\n",
    "Finde $a_{ij}$ und ${y_i}$ für obiges Gleichungssystem\n"
   ]
  },
  {
   "cell_type": "markdown",
   "metadata": {
    "slideshow": {
     "slide_type": "slide"
    }
   },
   "source": [
    "# Lösungsmethoden für Gleichungssysteme\n",
    "Alle Lösungsmethoden beziehen sich auf das Gleichungssystem\n",
    "\n",
    "$$ \\begin{align}\n",
    "x_1 + x_2 &= 10\\\\\n",
    "x_1 - 3x_2 &= -2\\\\\n",
    "\\end{align}$$\n",
    "\n"
   ]
  },
  {
   "cell_type": "markdown",
   "metadata": {
    "slideshow": {
     "slide_type": "slide"
    }
   },
   "source": [
    "## 1. Gleichsetzen\n",
    "Zum Beispiel beide Gleichungen oben nach $x_1$ auflösen und diese gleichsetzen.\n",
    "$$\\begin{align}\n",
    "x_1 &= 10 - x_2\\\\\n",
    "x_1 &= -2 + 3x_2\\\\\n",
    "\\end{align}$$\n",
    "\n",
    "\n",
    "$$\\begin{align}\n",
    "10 - x_2 &= -2 + 3x_2\\\\\n",
    "12 - x_2 &= 3x_2\\\\\n",
    "12 &= 4x_2\\\\\n",
    "3 &= x_2\\\\\n",
    "\\end{align}$$\n",
    "\n",
    "\n",
    "\n"
   ]
  },
  {
   "cell_type": "markdown",
   "metadata": {
    "slideshow": {
     "slide_type": "slide"
    }
   },
   "source": [
    "## 2. Einsetzen\n",
    "Alternativ kann auch nach einer Variablen aufgelöst werden und diese dann in die anderen Formeln einsetzen.\n",
    "\n",
    "$$ x = 10 - y$$\n",
    "\n",
    "\n",
    "Den gefundenen Ausdruck für $x$ jetzt in die zweite Gleichung $x - 3y = -2$ einsetzen.\n",
    "\n",
    "\n",
    "$$\n",
    "\\begin{align}\n",
    "10 - y - 3y &= -2\\\\\n",
    "10 -4y &= -2\\\\\n",
    "-4y &= -12\\\\\n",
    "-y &= -3\\\\\n",
    "y &= 3\\\\\n",
    "\\end{align}$$"
   ]
  },
  {
   "cell_type": "markdown",
   "metadata": {
    "slideshow": {
     "slide_type": "slide"
    }
   },
   "source": [
    "## 3. Eliminationsverfahren\n",
    "Die gebräuchlichste und effizienteste Methode ist das Eliminationsverfahren. Dabei werden Gleichungen miteinander addiert oder subtrahiert, so dass dadurch Variablen sich gegenseitig rauskürzen. Wenn man im oberen Beispiel von der oberen Gleichung die Untere abzieht, erhält man\n",
    "\n",
    "$$\\begin{align}\n",
    "4y &= 12\\\\\n",
    "y &= 3\n",
    "\\end{align}$$\n",
    "\n",
    "Das Eliminationsverfahren wird auch von Computern verwendet um Gleichungssysteme zu lösen und skaliert sehr gut für den Fall von vielen Gleichungen und Unbekannten.\n"
   ]
  },
  {
   "cell_type": "code",
   "execution_count": null,
   "metadata": {
    "collapsed": true
   },
   "outputs": [],
   "source": []
  },
  {
   "cell_type": "markdown",
   "metadata": {},
   "source": [
    "$$ a_{11}x_1 + a_{12}x_2 + a_{13}x_3 = y_1$$\n",
    "$$ a_{21}x_1 + a_{22}x_2 + a_{23}x_3 = y_2$$\n",
    "$$ a_{31}x_1 + a_{32}x_2 + a_{33}x_3 = y_3$$"
   ]
  },
  {
   "cell_type": "code",
   "execution_count": 3,
   "metadata": {
    "collapsed": false
   },
   "outputs": [
    {
     "name": "stderr",
     "output_type": "stream",
     "text": [
      "WARNING: Method definition solver1(Any, Any) in module Main at In[2]:2 overwritten at In[3]:2.\n",
      "WARNING: Method definition solver2(Any, Any) in module Main at In[2]:6 overwritten at In[3]:6.\n"
     ]
    },
    {
     "data": {
      "text/plain": [
       "solver2 (generic function with 1 method)"
      ]
     },
     "execution_count": 3,
     "metadata": {},
     "output_type": "execute_result"
    }
   ],
   "source": [
    "function solver1(X, y)\n",
    "    inv(X' * X) * X' * y\n",
    "end\n",
    "\n",
    "function solver2(X, y)\n",
    "    X \\ y\n",
    "end"
   ]
  },
  {
   "cell_type": "code",
   "execution_count": 5,
   "metadata": {
    "collapsed": false
   },
   "outputs": [
    {
     "name": "stdout",
     "output_type": "stream",
     "text": [
      "y = [90.0,55.0,86.0,25.0,95.5]\n"
     ]
    },
    {
     "data": {
      "text/plain": [
       "5×4 Array{Int64,2}:\n",
       " 4  2  3  1\n",
       " 2  0  2  1\n",
       " 5  5  0  2\n",
       " 1  1  1  0\n",
       " 1  4  2  2"
      ]
     },
     "execution_count": 5,
     "metadata": {},
     "output_type": "execute_result"
    }
   ],
   "source": [
    "#              Getraenk, Salat, Menu I, Pizza   Total_CHF\n",
    "##########################################################\n",
    "# Montag     :     4        2      3       1    |   90.0       \n",
    "# Dienstag   :     2        0      2       1    |   55.0\n",
    "# Mittwoch   :     5        5      0       2    |   86.0\n",
    "# Donnerstag :     1        1      1       0    |   25.0\n",
    "# Freitag    :     1        4      2       2    |   95.5\n",
    "\n",
    "\n",
    "item_price = [3.5, 6.5, 15.0, 18.0]\n",
    "A = [4 2 3 1; 2 0 2 1; 5 5 0 2; 1 1 1 0; 1 4 2 2]\n",
    "\n",
    "y = A * item_price\n",
    "@show(y);\n",
    "A"
   ]
  },
  {
   "cell_type": "code",
   "execution_count": 7,
   "metadata": {
    "collapsed": false,
    "scrolled": true
   },
   "outputs": [
    {
     "name": "stdout",
     "output_type": "stream",
     "text": [
      "  0.000049 seconds (23 allocations: 4.297 KB)\n"
     ]
    },
    {
     "data": {
      "text/plain": [
       "4-element Array{Float64,1}:\n",
       "  3.5\n",
       "  6.5\n",
       " 15.0\n",
       " 18.0"
      ]
     },
     "execution_count": 7,
     "metadata": {},
     "output_type": "execute_result"
    }
   ],
   "source": [
    "@time solver1(A, y)"
   ]
  },
  {
   "cell_type": "code",
   "execution_count": 12,
   "metadata": {
    "collapsed": false
   },
   "outputs": [
    {
     "name": "stdout",
     "output_type": "stream",
     "text": [
      "  0.000105 seconds (87 allocations: 72.609 KB)\n"
     ]
    },
    {
     "data": {
      "text/plain": [
       "4-element Array{Float64,1}:\n",
       "  3.5\n",
       "  6.5\n",
       " 15.0\n",
       " 18.0"
      ]
     },
     "execution_count": 12,
     "metadata": {},
     "output_type": "execute_result"
    }
   ],
   "source": [
    "@time solver2(A, y)"
   ]
  },
  {
   "cell_type": "code",
   "execution_count": 14,
   "metadata": {
    "collapsed": false
   },
   "outputs": [
    {
     "ename": "LoadError",
     "evalue": "LoadError: UndefVarError: theta not defined\nwhile loading In[14], in expression starting on line 1",
     "output_type": "error",
     "traceback": [
      "LoadError: UndefVarError: theta not defined\nwhile loading In[14], in expression starting on line 1",
      ""
     ]
    }
   ],
   "source": [
    "(A*theta - A*theta_real) ./ y"
   ]
  },
  {
   "cell_type": "code",
   "execution_count": 47,
   "metadata": {
    "collapsed": false
   },
   "outputs": [
    {
     "data": {
      "text/plain": [
       "solver2 (generic function with 1 method)"
      ]
     },
     "execution_count": 47,
     "metadata": {},
     "output_type": "execute_result"
    }
   ],
   "source": []
  },
  {
   "cell_type": "code",
   "execution_count": 35,
   "metadata": {
    "collapsed": false
   },
   "outputs": [
    {
     "data": {
      "text/plain": [
       "4-element Array{Float64,1}:\n",
       " 0.243983\n",
       " 0.844875\n",
       " 0.694701\n",
       " 0.799641"
      ]
     },
     "execution_count": 35,
     "metadata": {},
     "output_type": "execute_result"
    }
   ],
   "source": []
  },
  {
   "cell_type": "code",
   "execution_count": null,
   "metadata": {
    "collapsed": true
   },
   "outputs": [],
   "source": []
  }
 ],
 "metadata": {
  "celltoolbar": "Slideshow",
  "kernelspec": {
   "display_name": "Julia 0.5.0",
   "language": "julia",
   "name": "julia-0.5"
  },
  "language_info": {
   "file_extension": ".jl",
   "mimetype": "application/julia",
   "name": "julia",
   "version": "0.5.0"
  }
 },
 "nbformat": 4,
 "nbformat_minor": 0
}
