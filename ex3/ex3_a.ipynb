{
 "cells": [
  {
   "cell_type": "code",
   "execution_count": 1,
   "metadata": {
    "collapsed": false
   },
   "outputs": [],
   "source": [
    "using DataFrames\n",
    "using StatsBase\n",
    "\n",
    "df = readtable(\"train.csv\");"
   ]
  },
  {
   "cell_type": "code",
   "execution_count": 4,
   "metadata": {
    "collapsed": false
   },
   "outputs": [],
   "source": [
    "# Der Datensatz ist in der Variable \"df\" gespeichert.\n",
    "# Untersuche den Datensatz mithilfe der Funktionen\n",
    "# head(df), size(df), describe(df), names(df) countmap(), proportionmap()\n",
    "\n",
    "# JULIA tutorial\n",
    "# df[:Varname] wählt die entsprechende Kolonne\n",
    "# df[1:10, :Varname] die ersten 10 Einträge in dieser Kolonne\n",
    "# df[1:10, [:Varname1, :Varname2]] 10 Einträge von zwei Kolonnen\n",
    "# x .== y  Vergleich elementweise: gibt einen Bool-Array zurück.\n",
    "# df[:Age] .> 10\n",
    "\n",
    "# Fancy Indexing:\n",
    "# df[df[:Age] .> 0, :Age] = 0 --> setzte alle Werte von Age < 10 auf 0.\n",
    "# \n",
    "\n",
    "# 1) Wieviele Variablen? \n",
    "\n",
    "# 2) Wieviele Messungen?\n",
    "\n",
    "# 3) Was sind das für Daten?\n",
    "\n",
    "# 3) Kandidat für die abhängige Variable:\n",
    "\n",
    "# 4) Durchschnittsalter der Passagiere:\n",
    "\n",
    "# 5) Wieviel % haben überlebt?\n",
    "\n",
    "# 6) Was gibt es für Arten von Variablen?\n",
    "\n",
    "# 7) Besondere Werte?\n"
   ]
  },
  {
   "cell_type": "markdown",
   "metadata": {},
   "source": [
    "![title](data_dict.png)"
   ]
  },
  {
   "cell_type": "code",
   "execution_count": 2,
   "metadata": {
    "collapsed": false
   },
   "outputs": [
    {
     "data": {
      "text/plain": [
       "(891,12)"
      ]
     },
     "execution_count": 2,
     "metadata": {},
     "output_type": "execute_result"
    }
   ],
   "source": [
    "size(df)"
   ]
  },
  {
   "cell_type": "code",
   "execution_count": 3,
   "metadata": {
    "collapsed": false
   },
   "outputs": [
    {
     "data": {
      "text/html": [
       "<table class=\"data-frame\"><thead><tr><th></th><th>PassengerId</th><th>Survived</th><th>Pclass</th><th>Name</th><th>Sex</th><th>Age</th><th>SibSp</th><th>Parch</th><th>Ticket</th><th>Fare</th><th>Cabin</th><th>Embarked</th></tr></thead><tbody><tr><th>1</th><td>1</td><td>0</td><td>3</td><td>Braund, Mr. Owen Harris</td><td>male</td><td>22.0</td><td>1</td><td>0</td><td>A/5 21171</td><td>7.25</td><td>NA</td><td>S</td></tr><tr><th>2</th><td>2</td><td>1</td><td>1</td><td>Cumings, Mrs. John Bradley (Florence Briggs Thayer)</td><td>female</td><td>38.0</td><td>1</td><td>0</td><td>PC 17599</td><td>71.2833</td><td>C85</td><td>C</td></tr><tr><th>3</th><td>3</td><td>1</td><td>3</td><td>Heikkinen, Miss. Laina</td><td>female</td><td>26.0</td><td>0</td><td>0</td><td>STON/O2. 3101282</td><td>7.925</td><td>NA</td><td>S</td></tr><tr><th>4</th><td>4</td><td>1</td><td>1</td><td>Futrelle, Mrs. Jacques Heath (Lily May Peel)</td><td>female</td><td>35.0</td><td>1</td><td>0</td><td>113803</td><td>53.1</td><td>C123</td><td>S</td></tr><tr><th>5</th><td>5</td><td>0</td><td>3</td><td>Allen, Mr. William Henry</td><td>male</td><td>35.0</td><td>0</td><td>0</td><td>373450</td><td>8.05</td><td>NA</td><td>S</td></tr><tr><th>6</th><td>6</td><td>0</td><td>3</td><td>Moran, Mr. James</td><td>male</td><td>NA</td><td>0</td><td>0</td><td>330877</td><td>8.4583</td><td>NA</td><td>Q</td></tr></tbody></table>"
      ],
      "text/plain": [
       "6×12 DataFrames.DataFrame\n",
       "│ Row │ PassengerId │ Survived │ Pclass │\n",
       "├─────┼─────────────┼──────────┼────────┤\n",
       "│ 1   │ 1           │ 0        │ 3      │\n",
       "│ 2   │ 2           │ 1        │ 1      │\n",
       "│ 3   │ 3           │ 1        │ 3      │\n",
       "│ 4   │ 4           │ 1        │ 1      │\n",
       "│ 5   │ 5           │ 0        │ 3      │\n",
       "│ 6   │ 6           │ 0        │ 3      │\n",
       "\n",
       "│ Row │ Name                                                  │ Sex      │\n",
       "├─────┼───────────────────────────────────────────────────────┼──────────┤\n",
       "│ 1   │ \"Braund, Mr. Owen Harris\"                             │ \"male\"   │\n",
       "│ 2   │ \"Cumings, Mrs. John Bradley (Florence Briggs Thayer)\" │ \"female\" │\n",
       "│ 3   │ \"Heikkinen, Miss. Laina\"                              │ \"female\" │\n",
       "│ 4   │ \"Futrelle, Mrs. Jacques Heath (Lily May Peel)\"        │ \"female\" │\n",
       "│ 5   │ \"Allen, Mr. William Henry\"                            │ \"male\"   │\n",
       "│ 6   │ \"Moran, Mr. James\"                                    │ \"male\"   │\n",
       "\n",
       "│ Row │ Age  │ SibSp │ Parch │ Ticket             │ Fare    │ Cabin  │\n",
       "├─────┼──────┼───────┼───────┼────────────────────┼─────────┼────────┤\n",
       "│ 1   │ 22.0 │ 1     │ 0     │ \"A/5 21171\"        │ 7.25    │ NA     │\n",
       "│ 2   │ 38.0 │ 1     │ 0     │ \"PC 17599\"         │ 71.2833 │ \"C85\"  │\n",
       "│ 3   │ 26.0 │ 0     │ 0     │ \"STON/O2. 3101282\" │ 7.925   │ NA     │\n",
       "│ 4   │ 35.0 │ 1     │ 0     │ \"113803\"           │ 53.1    │ \"C123\" │\n",
       "│ 5   │ 35.0 │ 0     │ 0     │ \"373450\"           │ 8.05    │ NA     │\n",
       "│ 6   │ NA   │ 0     │ 0     │ \"330877\"           │ 8.4583  │ NA     │\n",
       "\n",
       "│ Row │ Embarked │\n",
       "├─────┼──────────┤\n",
       "│ 1   │ \"S\"      │\n",
       "│ 2   │ \"C\"      │\n",
       "│ 3   │ \"S\"      │\n",
       "│ 4   │ \"S\"      │\n",
       "│ 5   │ \"S\"      │\n",
       "│ 6   │ \"Q\"      │"
      ]
     },
     "execution_count": 3,
     "metadata": {},
     "output_type": "execute_result"
    }
   ],
   "source": [
    "head(df)"
   ]
  },
  {
   "cell_type": "code",
   "execution_count": null,
   "metadata": {
    "collapsed": true
   },
   "outputs": [],
   "source": []
  }
 ],
 "metadata": {
  "kernelspec": {
   "display_name": "Julia 0.5.1",
   "language": "julia",
   "name": "julia-0.5"
  },
  "language_info": {
   "file_extension": ".jl",
   "mimetype": "application/julia",
   "name": "julia",
   "version": "0.5.1"
  }
 },
 "nbformat": 4,
 "nbformat_minor": 0
}
