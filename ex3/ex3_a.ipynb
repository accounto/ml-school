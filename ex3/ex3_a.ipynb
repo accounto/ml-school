{
 "cells": [
  {
   "cell_type": "code",
   "execution_count": 3,
   "metadata": {
    "collapsed": false
   },
   "outputs": [],
   "source": [
    "using DataFrames\n",
    "\n",
    "df = readtable(\"train.csv\");"
   ]
  },
  {
   "cell_type": "code",
   "execution_count": 4,
   "metadata": {
    "collapsed": false
   },
   "outputs": [],
   "source": [
    "# Der Datensatz ist in der Variable \"df\" gespeichert.\n",
    "# Untersuche den Datensatz mithilfe der Funktionen\n",
    "# head(df), size(df), describe(df)\n",
    "# \n",
    "\n",
    "# 1) Wieviele Variablen? \n",
    "\n",
    "# 2) Wieviele Messungen?\n",
    "\n",
    "# 3) Kandidat für die abhängige Variable:\n",
    "\n",
    "# 4) Durchschnittsalter der Passagiere:\n",
    "\n",
    "# 5) Wieviel % haben überlebt?\n",
    "\n",
    "# 6) Was gibt es für Arten von Variablen?\n",
    "\n",
    "# 7) Besondere Werte?\n"
   ]
  },
  {
   "cell_type": "markdown",
   "metadata": {},
   "source": [
    "![title](.png)"
   ]
  },
  {
   "cell_type": "code",
   "execution_count": null,
   "metadata": {
    "collapsed": true
   },
   "outputs": [],
   "source": []
  },
  {
   "cell_type": "code",
   "execution_count": null,
   "metadata": {
    "collapsed": true
   },
   "outputs": [],
   "source": []
  },
  {
   "cell_type": "code",
   "execution_count": null,
   "metadata": {
    "collapsed": true
   },
   "outputs": [],
   "source": []
  }
 ],
 "metadata": {
  "kernelspec": {
   "display_name": "Julia 0.5.0",
   "language": "julia",
   "name": "julia-0.5"
  },
  "language_info": {
   "file_extension": ".jl",
   "mimetype": "application/julia",
   "name": "julia",
   "version": "0.5.0"
  }
 },
 "nbformat": 4,
 "nbformat_minor": 0
}
