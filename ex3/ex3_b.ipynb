{
 "cells": [
  {
   "cell_type": "code",
   "execution_count": 1,
   "metadata": {
    "collapsed": false
   },
   "outputs": [],
   "source": [
    "using DataFrames\n",
    "\n",
    "df = readtable(\"train.csv\");"
   ]
  },
  {
   "cell_type": "markdown",
   "metadata": {
    "collapsed": false
   },
   "source": [
    "# Variablen-Typen\n",
    "Für statistische Variablen lassen sich gewisse Kenngrössen bestimmen welche die \n",
    "**allgemeine/durchschnittliche Tendenz**, die **Streuung** oder die **Form** der zugrundeliegenden\n",
    "Verteilung beschreiben. Je nach dem welche von diesen Grössen für den konkreten Fall (=Variable)\n",
    "wohldefiniert sind, kann man zwischen 3 Haupttypen unterscheiden.\n",
    "\n",
    "### Allgemeine Tendenz\n",
    "- Arithmetisches Mittel: $\\bar{x} = \\frac{1}{n}\\sum_{i=1}^n x_i$\n",
    "- Median: Es gibt $\\frac{n}{2}$ Werte die Grösser sind als der Median und $\\frac{n}{2}$ die kleiner sind.\n",
    "- Mode: Der am häufigsten vorkommende Wert.\n",
    "\n",
    "### Streuung\n",
    "- Gesamter Wertebereich (min bis max)\n",
    "- Quantile (die ersten, zweiten, letzten.. x-ten Prozent)\n",
    "- Varianz: $\\sigma^2 = \\frac{1}{n}\\sum_{i=1}^n (x_i - \\bar{x})^2$\n",
    "- Standardabweichung: $\\sigma = \\sqrt{\\sigma^2}$\n",
    "\n",
    "### Form\n",
    "- Skewness (Schiefe): Wie symmetrisch ist die Verteilung? $\\frac{1}{n}\\sum_{i=1}^n (x_i - \\bar{x})^3$\n",
    "- Kurtosis (Wölbung): Wie spitzig ist die Verteilung $\\frac{1}{n}\\sum_{i=1}^n (x_i - \\bar{x})^4$\n",
    "\n",
    "# Quantitative Variablen\n",
    "Lassen Berechnungen für alle oben genannten Kenngrössen zu und\n",
    "werden in der Regel durch Reale Zahlen dargestellt, wie z.B:\n",
    "- Körpergewicht in kg\n",
    "- Temperatur in Grad Kelvin\n",
    "- Kokainverbrauch pro Person pro Jahr\n",
    "- Anzahl Einwohner\n",
    "\n",
    "Weiter liegt Quantitativen Variablen eine sinnvolle numerische Skala zugrunde auf der sich eine\n",
    "\"Distanz\" berechnen lässt. Als Beispiel ist es sinnvoll zu sagen 2000 kg sind 4 mal so viel wie 500 kg.\n",
    "\n",
    "**Alle oben genannten Kenngrössen sind wohldefiniert.**\n",
    "\n",
    "# Ordinale Variablen\n",
    "Haben keine sinnvolle nuerische Skala als Grundlage, es gibt aber eine eindeutig definierte Reihenfolge der Elemente. Man kann also Elemente sortieren, aber keine sinnvolle euklidische Distanz zwischen ihen Bestimmen.\n",
    "- Hausnummern\n",
    "- T-shirt Grössen\n",
    "- Akunto Abo-Preise\n",
    "\n",
    "**Definierte Kenngrössen: Reihenfolge, Median, Mode, Quantile**\n",
    "\n",
    "# Kategorische Variablen\n",
    "Es lassen sich weder eine Reihenfolge, noch eine Distanz zwischen Elementen sinnvoll definieren.\n",
    "\n",
    "- Farben\n",
    "- Vornamen\n",
    "- Nationalität\n",
    "\n",
    "**Definierte Kenngrössen: Mode**\n",
    "\n",
    "\n",
    "\n",
    "\n"
   ]
  },
  {
   "cell_type": "code",
   "execution_count": 2,
   "metadata": {
    "collapsed": false
   },
   "outputs": [
    {
     "data": {
      "text/plain": [
       "12-element Array{Symbol,1}:\n",
       " :PassengerId\n",
       " :Survived   \n",
       " :Pclass     \n",
       " :Name       \n",
       " :Sex        \n",
       " :Age        \n",
       " :SibSp      \n",
       " :Parch      \n",
       " :Ticket     \n",
       " :Fare       \n",
       " :Cabin      \n",
       " :Embarked   "
      ]
     },
     "execution_count": 2,
     "metadata": {},
     "output_type": "execute_result"
    }
   ],
   "source": [
    "# Untersuche nochmals die Daten und Bestimme den Typ für jede Variable:\n",
    "names(df)"
   ]
  },
  {
   "cell_type": "code",
   "execution_count": null,
   "metadata": {
    "collapsed": true
   },
   "outputs": [],
   "source": []
  },
  {
   "cell_type": "code",
   "execution_count": null,
   "metadata": {
    "collapsed": true
   },
   "outputs": [],
   "source": []
  },
  {
   "cell_type": "code",
   "execution_count": null,
   "metadata": {
    "collapsed": true
   },
   "outputs": [],
   "source": []
  }
 ],
 "metadata": {
  "kernelspec": {
   "display_name": "Julia 0.5.0",
   "language": "julia",
   "name": "julia-0.5"
  },
  "language_info": {
   "file_extension": ".jl",
   "mimetype": "application/julia",
   "name": "julia",
   "version": "0.5.0"
  }
 },
 "nbformat": 4,
 "nbformat_minor": 0
}
