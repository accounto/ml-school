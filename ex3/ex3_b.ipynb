{
 "cells": [
  {
   "cell_type": "code",
   "execution_count": 8,
   "metadata": {
    "collapsed": false
   },
   "outputs": [],
   "source": [
    "using DataFrames\n",
    "using Plots\n",
    "\n",
    "df = readtable(\"train.csv\");"
   ]
  },
  {
   "cell_type": "markdown",
   "metadata": {
    "collapsed": false
   },
   "source": [
    "# Variablen-Typen\n",
    "Für statistische Variablen lassen sich gewisse Kenngrössen bestimmen welche die \n",
    "**allgemeine/durchschnittliche Tendenz**, die **Streuung** oder die **Form** der zugrundeliegenden\n",
    "Verteilung beschreiben. Je nach dem welche von diesen Grössen für den konkreten Fall (=Variable)\n",
    "wohldefiniert sind, kann man zwischen 3 Haupttypen unterscheiden.\n",
    "\n",
    "### Allgemeine Tendenz\n",
    "- Arithmetisches Mittel: $\\bar{x} = \\frac{1}{n}\\sum_{i=1}^n x_i$\n",
    "- Median: Es gibt $\\frac{n}{2}$ Werte die Grösser sind als der Median und $\\frac{n}{2}$ die kleiner sind.\n",
    "- Mode: Der am häufigsten vorkommende Wert.\n",
    "\n",
    "### Streuung\n",
    "- Gesamter Wertebereich (min bis max)\n",
    "- Quantile (die ersten, zweiten, letzten.. x-ten Prozent)\n",
    "- Varianz: $\\sigma^2 = \\frac{1}{n}\\sum_{i=1}^n (x_i - \\bar{x})^2$\n",
    "- Standardabweichung: $\\sigma = \\sqrt{\\sigma^2}$\n",
    "\n",
    "### Form\n",
    "- Skewness (Schiefe): Wie symmetrisch ist die Verteilung? $\\frac{1}{n}\\sum_{i=1}^n (x_i - \\bar{x})^3$\n",
    "- Kurtosis (Wölbung): Wie spitzig ist die Verteilung $\\frac{1}{n}\\sum_{i=1}^n (x_i - \\bar{x})^4$\n",
    "\n",
    "# Quantitative Variablen\n",
    "Lassen Berechnungen für alle oben genannten Kenngrössen zu und\n",
    "werden in der Regel durch Reale Zahlen dargestellt, wie z.B:\n",
    "- Körpergewicht in kg\n",
    "- Temperatur in Grad Kelvin\n",
    "- Kokainverbrauch pro Person pro Jahr\n",
    "- Anzahl Einwohner\n",
    "\n",
    "Weiter liegt Quantitativen Variablen eine sinnvolle numerische Skala zugrunde auf der sich eine\n",
    "\"Distanz\" berechnen lässt. Als Beispiel ist es sinnvoll zu sagen 2000 kg sind 4 mal so viel wie 500 kg.\n",
    "\n",
    "**Alle oben genannten Kenngrössen sind wohldefiniert.**\n",
    "\n",
    "# Ordinale Variablen\n",
    "Haben keine sinnvolle nuerische Skala als Grundlage, es gibt aber eine eindeutig definierte Reihenfolge der Elemente. Man kann also Elemente sortieren, aber keine sinnvolle euklidische Distanz zwischen ihen Bestimmen.\n",
    "- Hausnummern\n",
    "- T-shirt Grössen\n",
    "- Akunto Abo-Preise\n",
    "\n",
    "**Definierte Kenngrössen: Reihenfolge, Median, Mode, Quantile**\n",
    "\n",
    "# Kategorische Variablen\n",
    "Es lassen sich weder eine Reihenfolge, noch eine Distanz zwischen Elementen sinnvoll definieren.\n",
    "\n",
    "- Farben\n",
    "- Vornamen\n",
    "- Nationalität\n",
    "\n",
    "**Definierte Kenngrössen: Mode**\n",
    "\n",
    "\n",
    "\n",
    "\n"
   ]
  },
  {
   "cell_type": "code",
   "execution_count": 9,
   "metadata": {
    "collapsed": false,
    "scrolled": true
   },
   "outputs": [
    {
     "data": {
      "text/plain": [
       "12-element Array{Symbol,1}:\n",
       " :PassengerId\n",
       " :Survived   \n",
       " :Pclass     \n",
       " :Name       \n",
       " :Sex        \n",
       " :Age        \n",
       " :SibSp      \n",
       " :Parch      \n",
       " :Ticket     \n",
       " :Fare       \n",
       " :Cabin      \n",
       " :Embarked   "
      ]
     },
     "execution_count": 9,
     "metadata": {},
     "output_type": "execute_result"
    }
   ],
   "source": [
    "# Untersuche nochmals die Daten und Bestimme den Typ für jede Variable:\n",
    "names(df)"
   ]
  },
  {
   "cell_type": "code",
   "execution_count": 10,
   "metadata": {
    "collapsed": false
   },
   "outputs": [
    {
     "name": "stderr",
     "output_type": "stream",
     "text": [
      "WARNING: Method definition onehot!(Any, Any) in module Main at In[3]:2 overwritten at In[10]:2.\n",
      "WARNING: Method definition binarize!(Any, Any) in module Main at In[3]:14 overwritten at In[10]:14.\n"
     ]
    },
    {
     "data": {
      "text/plain": [
       "binarize! (generic function with 1 method)"
      ]
     },
     "execution_count": 10,
     "metadata": {},
     "output_type": "execute_result"
    }
   ],
   "source": [
    "function onehot!(df, varname)\n",
    "    for keyword in unique(df[:, varname])\n",
    "        sym_keyword = Symbol(keyword)\n",
    "        df[sym_keyword] = zeros(Int, size(df, 1))\n",
    "        for i in 1:size(df, 1)\n",
    "            if df[i, varname] == keyword\n",
    "                df[i, sym_keyword] = 1\n",
    "            end\n",
    "        end\n",
    "    end\n",
    "end\n",
    "\n",
    "function binarize!(df, varname)\n",
    "    tmp = zeros(Int, size(df, 1))\n",
    "    for (i, keyword) in enumerate(unique(df[varname]))\n",
    "        flt = df[varname] .== keyword\n",
    "        tmp[flt] = i-1\n",
    "    end\n",
    "    df[varname] = tmp\n",
    "end"
   ]
  },
  {
   "cell_type": "code",
   "execution_count": 11,
   "metadata": {
    "collapsed": false
   },
   "outputs": [],
   "source": [
    "df[isna(df[:Embarked]), :Embarked] = \"S\"\n",
    "onehot!(df, :Embarked)\n",
    "binarize!(df, :Sex);"
   ]
  },
  {
   "cell_type": "code",
   "execution_count": 12,
   "metadata": {
    "collapsed": false
   },
   "outputs": [
    {
     "data": {
      "text/html": [
       "<table class=\"data-frame\"><thead><tr><th></th><th>PassengerId</th><th>Survived</th><th>Pclass</th><th>Name</th><th>Sex</th><th>Age</th><th>SibSp</th><th>Parch</th><th>Ticket</th><th>Fare</th><th>Cabin</th><th>Embarked</th><th>S</th><th>C</th><th>Q</th></tr></thead><tbody><tr><th>1</th><td>1</td><td>0</td><td>3</td><td>Braund, Mr. Owen Harris</td><td>0</td><td>22.0</td><td>1</td><td>0</td><td>A/5 21171</td><td>7.25</td><td>NA</td><td>S</td><td>1</td><td>0</td><td>0</td></tr><tr><th>2</th><td>2</td><td>1</td><td>1</td><td>Cumings, Mrs. John Bradley (Florence Briggs Thayer)</td><td>1</td><td>38.0</td><td>1</td><td>0</td><td>PC 17599</td><td>71.2833</td><td>C85</td><td>C</td><td>0</td><td>1</td><td>0</td></tr><tr><th>3</th><td>3</td><td>1</td><td>3</td><td>Heikkinen, Miss. Laina</td><td>1</td><td>26.0</td><td>0</td><td>0</td><td>STON/O2. 3101282</td><td>7.925</td><td>NA</td><td>S</td><td>1</td><td>0</td><td>0</td></tr><tr><th>4</th><td>4</td><td>1</td><td>1</td><td>Futrelle, Mrs. Jacques Heath (Lily May Peel)</td><td>1</td><td>35.0</td><td>1</td><td>0</td><td>113803</td><td>53.1</td><td>C123</td><td>S</td><td>1</td><td>0</td><td>0</td></tr><tr><th>5</th><td>5</td><td>0</td><td>3</td><td>Allen, Mr. William Henry</td><td>0</td><td>35.0</td><td>0</td><td>0</td><td>373450</td><td>8.05</td><td>NA</td><td>S</td><td>1</td><td>0</td><td>0</td></tr><tr><th>6</th><td>6</td><td>0</td><td>3</td><td>Moran, Mr. James</td><td>0</td><td>NA</td><td>0</td><td>0</td><td>330877</td><td>8.4583</td><td>NA</td><td>Q</td><td>0</td><td>0</td><td>1</td></tr><tr><th>7</th><td>7</td><td>0</td><td>1</td><td>McCarthy, Mr. Timothy J</td><td>0</td><td>54.0</td><td>0</td><td>0</td><td>17463</td><td>51.8625</td><td>E46</td><td>S</td><td>1</td><td>0</td><td>0</td></tr><tr><th>8</th><td>8</td><td>0</td><td>3</td><td>Palsson, Master. Gosta Leonard</td><td>0</td><td>2.0</td><td>3</td><td>1</td><td>349909</td><td>21.075</td><td>NA</td><td>S</td><td>1</td><td>0</td><td>0</td></tr><tr><th>9</th><td>9</td><td>1</td><td>3</td><td>Johnson, Mrs. Oscar W (Elisabeth Vilhelmina Berg)</td><td>1</td><td>27.0</td><td>0</td><td>2</td><td>347742</td><td>11.1333</td><td>NA</td><td>S</td><td>1</td><td>0</td><td>0</td></tr><tr><th>10</th><td>10</td><td>1</td><td>2</td><td>Nasser, Mrs. Nicholas (Adele Achem)</td><td>1</td><td>14.0</td><td>1</td><td>0</td><td>237736</td><td>30.0708</td><td>NA</td><td>C</td><td>0</td><td>1</td><td>0</td></tr><tr><th>11</th><td>11</td><td>1</td><td>3</td><td>Sandstrom, Miss. Marguerite Rut</td><td>1</td><td>4.0</td><td>1</td><td>1</td><td>PP 9549</td><td>16.7</td><td>G6</td><td>S</td><td>1</td><td>0</td><td>0</td></tr><tr><th>12</th><td>12</td><td>1</td><td>1</td><td>Bonnell, Miss. Elizabeth</td><td>1</td><td>58.0</td><td>0</td><td>0</td><td>113783</td><td>26.55</td><td>C103</td><td>S</td><td>1</td><td>0</td><td>0</td></tr><tr><th>13</th><td>13</td><td>0</td><td>3</td><td>Saundercock, Mr. William Henry</td><td>0</td><td>20.0</td><td>0</td><td>0</td><td>A/5. 2151</td><td>8.05</td><td>NA</td><td>S</td><td>1</td><td>0</td><td>0</td></tr><tr><th>14</th><td>14</td><td>0</td><td>3</td><td>Andersson, Mr. Anders Johan</td><td>0</td><td>39.0</td><td>1</td><td>5</td><td>347082</td><td>31.275</td><td>NA</td><td>S</td><td>1</td><td>0</td><td>0</td></tr><tr><th>15</th><td>15</td><td>0</td><td>3</td><td>Vestrom, Miss. Hulda Amanda Adolfina</td><td>1</td><td>14.0</td><td>0</td><td>0</td><td>350406</td><td>7.8542</td><td>NA</td><td>S</td><td>1</td><td>0</td><td>0</td></tr><tr><th>16</th><td>16</td><td>1</td><td>2</td><td>Hewlett, Mrs. (Mary D Kingcome) </td><td>1</td><td>55.0</td><td>0</td><td>0</td><td>248706</td><td>16.0</td><td>NA</td><td>S</td><td>1</td><td>0</td><td>0</td></tr><tr><th>17</th><td>17</td><td>0</td><td>3</td><td>Rice, Master. Eugene</td><td>0</td><td>2.0</td><td>4</td><td>1</td><td>382652</td><td>29.125</td><td>NA</td><td>Q</td><td>0</td><td>0</td><td>1</td></tr><tr><th>18</th><td>18</td><td>1</td><td>2</td><td>Williams, Mr. Charles Eugene</td><td>0</td><td>NA</td><td>0</td><td>0</td><td>244373</td><td>13.0</td><td>NA</td><td>S</td><td>1</td><td>0</td><td>0</td></tr><tr><th>19</th><td>19</td><td>0</td><td>3</td><td>Vander Planke, Mrs. Julius (Emelia Maria Vandemoortele)</td><td>1</td><td>31.0</td><td>1</td><td>0</td><td>345763</td><td>18.0</td><td>NA</td><td>S</td><td>1</td><td>0</td><td>0</td></tr><tr><th>20</th><td>20</td><td>1</td><td>3</td><td>Masselmani, Mrs. Fatima</td><td>1</td><td>NA</td><td>0</td><td>0</td><td>2649</td><td>7.225</td><td>NA</td><td>C</td><td>0</td><td>1</td><td>0</td></tr><tr><th>21</th><td>21</td><td>0</td><td>2</td><td>Fynney, Mr. Joseph J</td><td>0</td><td>35.0</td><td>0</td><td>0</td><td>239865</td><td>26.0</td><td>NA</td><td>S</td><td>1</td><td>0</td><td>0</td></tr><tr><th>22</th><td>22</td><td>1</td><td>2</td><td>Beesley, Mr. Lawrence</td><td>0</td><td>34.0</td><td>0</td><td>0</td><td>248698</td><td>13.0</td><td>D56</td><td>S</td><td>1</td><td>0</td><td>0</td></tr><tr><th>23</th><td>23</td><td>1</td><td>3</td><td>McGowan, Miss. Anna \"Annie\"</td><td>1</td><td>15.0</td><td>0</td><td>0</td><td>330923</td><td>8.0292</td><td>NA</td><td>Q</td><td>0</td><td>0</td><td>1</td></tr><tr><th>24</th><td>24</td><td>1</td><td>1</td><td>Sloper, Mr. William Thompson</td><td>0</td><td>28.0</td><td>0</td><td>0</td><td>113788</td><td>35.5</td><td>A6</td><td>S</td><td>1</td><td>0</td><td>0</td></tr><tr><th>25</th><td>25</td><td>0</td><td>3</td><td>Palsson, Miss. Torborg Danira</td><td>1</td><td>8.0</td><td>3</td><td>1</td><td>349909</td><td>21.075</td><td>NA</td><td>S</td><td>1</td><td>0</td><td>0</td></tr><tr><th>26</th><td>26</td><td>1</td><td>3</td><td>Asplund, Mrs. Carl Oscar (Selma Augusta Emilia Johansson)</td><td>1</td><td>38.0</td><td>1</td><td>5</td><td>347077</td><td>31.3875</td><td>NA</td><td>S</td><td>1</td><td>0</td><td>0</td></tr><tr><th>27</th><td>27</td><td>0</td><td>3</td><td>Emir, Mr. Farred Chehab</td><td>0</td><td>NA</td><td>0</td><td>0</td><td>2631</td><td>7.225</td><td>NA</td><td>C</td><td>0</td><td>1</td><td>0</td></tr><tr><th>28</th><td>28</td><td>0</td><td>1</td><td>Fortune, Mr. Charles Alexander</td><td>0</td><td>19.0</td><td>3</td><td>2</td><td>19950</td><td>263.0</td><td>C23 C25 C27</td><td>S</td><td>1</td><td>0</td><td>0</td></tr><tr><th>29</th><td>29</td><td>1</td><td>3</td><td>O'Dwyer, Miss. Ellen \"Nellie\"</td><td>1</td><td>NA</td><td>0</td><td>0</td><td>330959</td><td>7.8792</td><td>NA</td><td>Q</td><td>0</td><td>0</td><td>1</td></tr><tr><th>30</th><td>30</td><td>0</td><td>3</td><td>Todoroff, Mr. Lalio</td><td>0</td><td>NA</td><td>0</td><td>0</td><td>349216</td><td>7.8958</td><td>NA</td><td>S</td><td>1</td><td>0</td><td>0</td></tr><tr><th>&vellip;</th><td>&vellip;</td><td>&vellip;</td><td>&vellip;</td><td>&vellip;</td><td>&vellip;</td><td>&vellip;</td><td>&vellip;</td><td>&vellip;</td><td>&vellip;</td><td>&vellip;</td><td>&vellip;</td><td>&vellip;</td><td>&vellip;</td><td>&vellip;</td><td>&vellip;</td></tr></tbody></table>"
      ],
      "text/plain": [
       "891×15 DataFrames.DataFrame\n",
       "│ Row │ PassengerId │ Survived │ Pclass │\n",
       "├─────┼─────────────┼──────────┼────────┤\n",
       "│ 1   │ 1           │ 0        │ 3      │\n",
       "│ 2   │ 2           │ 1        │ 1      │\n",
       "│ 3   │ 3           │ 1        │ 3      │\n",
       "│ 4   │ 4           │ 1        │ 1      │\n",
       "│ 5   │ 5           │ 0        │ 3      │\n",
       "│ 6   │ 6           │ 0        │ 3      │\n",
       "│ 7   │ 7           │ 0        │ 1      │\n",
       "│ 8   │ 8           │ 0        │ 3      │\n",
       "│ 9   │ 9           │ 1        │ 3      │\n",
       "│ 10  │ 10          │ 1        │ 2      │\n",
       "│ 11  │ 11          │ 1        │ 3      │\n",
       "⋮\n",
       "│ 880 │ 880         │ 1        │ 1      │\n",
       "│ 881 │ 881         │ 1        │ 2      │\n",
       "│ 882 │ 882         │ 0        │ 3      │\n",
       "│ 883 │ 883         │ 0        │ 3      │\n",
       "│ 884 │ 884         │ 0        │ 2      │\n",
       "│ 885 │ 885         │ 0        │ 3      │\n",
       "│ 886 │ 886         │ 0        │ 3      │\n",
       "│ 887 │ 887         │ 0        │ 2      │\n",
       "│ 888 │ 888         │ 1        │ 1      │\n",
       "│ 889 │ 889         │ 0        │ 3      │\n",
       "│ 890 │ 890         │ 1        │ 1      │\n",
       "│ 891 │ 891         │ 0        │ 3      │\n",
       "\n",
       "│ Row │ Name                                                  │ Sex │ Age  │\n",
       "├─────┼───────────────────────────────────────────────────────┼─────┼──────┤\n",
       "│ 1   │ \"Braund, Mr. Owen Harris\"                             │ 0   │ 22.0 │\n",
       "│ 2   │ \"Cumings, Mrs. John Bradley (Florence Briggs Thayer)\" │ 1   │ 38.0 │\n",
       "│ 3   │ \"Heikkinen, Miss. Laina\"                              │ 1   │ 26.0 │\n",
       "│ 4   │ \"Futrelle, Mrs. Jacques Heath (Lily May Peel)\"        │ 1   │ 35.0 │\n",
       "│ 5   │ \"Allen, Mr. William Henry\"                            │ 0   │ 35.0 │\n",
       "│ 6   │ \"Moran, Mr. James\"                                    │ 0   │ NA   │\n",
       "│ 7   │ \"McCarthy, Mr. Timothy J\"                             │ 0   │ 54.0 │\n",
       "│ 8   │ \"Palsson, Master. Gosta Leonard\"                      │ 0   │ 2.0  │\n",
       "│ 9   │ \"Johnson, Mrs. Oscar W (Elisabeth Vilhelmina Berg)\"   │ 1   │ 27.0 │\n",
       "│ 10  │ \"Nasser, Mrs. Nicholas (Adele Achem)\"                 │ 1   │ 14.0 │\n",
       "│ 11  │ \"Sandstrom, Miss. Marguerite Rut\"                     │ 1   │ 4.0  │\n",
       "⋮\n",
       "│ 880 │ \"Potter, Mrs. Thomas Jr (Lily Alexenia Wilson)\"       │ 1   │ 56.0 │\n",
       "│ 881 │ \"Shelley, Mrs. William (Imanita Parrish Hall)\"        │ 1   │ 25.0 │\n",
       "│ 882 │ \"Markun, Mr. Johann\"                                  │ 0   │ 33.0 │\n",
       "│ 883 │ \"Dahlberg, Miss. Gerda Ulrika\"                        │ 1   │ 22.0 │\n",
       "│ 884 │ \"Banfield, Mr. Frederick James\"                       │ 0   │ 28.0 │\n",
       "│ 885 │ \"Sutehall, Mr. Henry Jr\"                              │ 0   │ 25.0 │\n",
       "│ 886 │ \"Rice, Mrs. William (Margaret Norton)\"                │ 1   │ 39.0 │\n",
       "│ 887 │ \"Montvila, Rev. Juozas\"                               │ 0   │ 27.0 │\n",
       "│ 888 │ \"Graham, Miss. Margaret Edith\"                        │ 1   │ 19.0 │\n",
       "│ 889 │ \"Johnston, Miss. Catherine Helen \\\"Carrie\\\"\"            │ 1   │ NA   │\n",
       "│ 890 │ \"Behr, Mr. Karl Howell\"                               │ 0   │ 26.0 │\n",
       "│ 891 │ \"Dooley, Mr. Patrick\"                                 │ 0   │ 32.0 │\n",
       "\n",
       "│ Row │ SibSp │ Parch │ Ticket             │ Fare    │ Cabin  │ Embarked │ S │\n",
       "├─────┼───────┼───────┼────────────────────┼─────────┼────────┼──────────┼───┤\n",
       "│ 1   │ 1     │ 0     │ \"A/5 21171\"        │ 7.25    │ NA     │ \"S\"      │ 1 │\n",
       "│ 2   │ 1     │ 0     │ \"PC 17599\"         │ 71.2833 │ \"C85\"  │ \"C\"      │ 0 │\n",
       "│ 3   │ 0     │ 0     │ \"STON/O2. 3101282\" │ 7.925   │ NA     │ \"S\"      │ 1 │\n",
       "│ 4   │ 1     │ 0     │ \"113803\"           │ 53.1    │ \"C123\" │ \"S\"      │ 1 │\n",
       "│ 5   │ 0     │ 0     │ \"373450\"           │ 8.05    │ NA     │ \"S\"      │ 1 │\n",
       "│ 6   │ 0     │ 0     │ \"330877\"           │ 8.4583  │ NA     │ \"Q\"      │ 0 │\n",
       "│ 7   │ 0     │ 0     │ \"17463\"            │ 51.8625 │ \"E46\"  │ \"S\"      │ 1 │\n",
       "│ 8   │ 3     │ 1     │ \"349909\"           │ 21.075  │ NA     │ \"S\"      │ 1 │\n",
       "│ 9   │ 0     │ 2     │ \"347742\"           │ 11.1333 │ NA     │ \"S\"      │ 1 │\n",
       "│ 10  │ 1     │ 0     │ \"237736\"           │ 30.0708 │ NA     │ \"C\"      │ 0 │\n",
       "│ 11  │ 1     │ 1     │ \"PP 9549\"          │ 16.7    │ \"G6\"   │ \"S\"      │ 1 │\n",
       "⋮\n",
       "│ 880 │ 0     │ 1     │ \"11767\"            │ 83.1583 │ \"C50\"  │ \"C\"      │ 0 │\n",
       "│ 881 │ 0     │ 1     │ \"230433\"           │ 26.0    │ NA     │ \"S\"      │ 1 │\n",
       "│ 882 │ 0     │ 0     │ \"349257\"           │ 7.8958  │ NA     │ \"S\"      │ 1 │\n",
       "│ 883 │ 0     │ 0     │ \"7552\"             │ 10.5167 │ NA     │ \"S\"      │ 1 │\n",
       "│ 884 │ 0     │ 0     │ \"C.A./SOTON 34068\" │ 10.5    │ NA     │ \"S\"      │ 1 │\n",
       "│ 885 │ 0     │ 0     │ \"SOTON/OQ 392076\"  │ 7.05    │ NA     │ \"S\"      │ 1 │\n",
       "│ 886 │ 0     │ 5     │ \"382652\"           │ 29.125  │ NA     │ \"Q\"      │ 0 │\n",
       "│ 887 │ 0     │ 0     │ \"211536\"           │ 13.0    │ NA     │ \"S\"      │ 1 │\n",
       "│ 888 │ 0     │ 0     │ \"112053\"           │ 30.0    │ \"B42\"  │ \"S\"      │ 1 │\n",
       "│ 889 │ 1     │ 2     │ \"W./C. 6607\"       │ 23.45   │ NA     │ \"S\"      │ 1 │\n",
       "│ 890 │ 0     │ 0     │ \"111369\"           │ 30.0    │ \"C148\" │ \"C\"      │ 0 │\n",
       "│ 891 │ 0     │ 0     │ \"370376\"           │ 7.75    │ NA     │ \"Q\"      │ 0 │\n",
       "\n",
       "│ Row │ C │ Q │\n",
       "├─────┼───┼───┤\n",
       "│ 1   │ 0 │ 0 │\n",
       "│ 2   │ 1 │ 0 │\n",
       "│ 3   │ 0 │ 0 │\n",
       "│ 4   │ 0 │ 0 │\n",
       "│ 5   │ 0 │ 0 │\n",
       "│ 6   │ 0 │ 1 │\n",
       "│ 7   │ 0 │ 0 │\n",
       "│ 8   │ 0 │ 0 │\n",
       "│ 9   │ 0 │ 0 │\n",
       "│ 10  │ 1 │ 0 │\n",
       "│ 11  │ 0 │ 0 │\n",
       "⋮\n",
       "│ 880 │ 1 │ 0 │\n",
       "│ 881 │ 0 │ 0 │\n",
       "│ 882 │ 0 │ 0 │\n",
       "│ 883 │ 0 │ 0 │\n",
       "│ 884 │ 0 │ 0 │\n",
       "│ 885 │ 0 │ 0 │\n",
       "│ 886 │ 0 │ 1 │\n",
       "│ 887 │ 0 │ 0 │\n",
       "│ 888 │ 0 │ 0 │\n",
       "│ 889 │ 0 │ 0 │\n",
       "│ 890 │ 1 │ 0 │\n",
       "│ 891 │ 0 │ 1 │"
      ]
     },
     "execution_count": 12,
     "metadata": {},
     "output_type": "execute_result"
    }
   ],
   "source": [
    "df"
   ]
  },
  {
   "cell_type": "code",
   "execution_count": 26,
   "metadata": {
    "collapsed": false
   },
   "outputs": [
    {
     "data": {},
     "metadata": {},
     "output_type": "display_data"
    },
    {
     "name": "stdout",
     "output_type": "stream",
     "text": [
      "mean(dropna(df[:Age])) = 29.69911764705882\n",
      "median(dropna(df[:Age])) = 28.0\n",
      "mode(dropna(df[:Age])) = 24.0\n"
     ]
    },
    {
     "data": {
      "text/html": [
       "<div id=\"fe89840c-63ef-45b4-84d4-ffb5597f49e9\" class=\"plotly-graph-div\"></div>\n",
       "\n",
       "<script>\n",
       "    window.PLOTLYENV=window.PLOTLYENV || {};\n",
       "    window.PLOTLYENV.BASE_URL=\"https://plot.ly\";\n",
       "    require(['plotly'], function(Plotly) {\n",
       "        Plotly.newPlot('fe89840c-63ef-45b4-84d4-ffb5597f49e9', [{\"yaxis\":\"y\",\"y\":[40.0,14.0,15.0,31.0,79.0,98.0,85.0,84.0,73.0,45.0,35.0,35.0,29.0,16.0,13.0,11.0,4.0,5.0,1.0,1.0],\"showlegend\":true,\"name\":\"y1\",\"type\":\"bar\",\"xaxis\":\"x\",\"orientation\":\"v\",\"x\":[2.0,6.0,10.0,14.0,18.0,22.0,26.0,30.0,34.0,38.0,42.0,46.0,50.0,54.0,58.0,62.0,66.0,70.0,74.0,78.0],\"marker\":{\"color\":\"rgba(0, 154, 250, 1.000)\"}}],\n",
       "               {\"yaxis\":{\"type\":\"-\",\"titlefont\":{\"size\":15,\"color\":\"rgba(0, 0, 0, 1.000)\",\"family\":\"sans-serif\"},\"title\":\"\",\"tickfont\":{\"size\":11,\"color\":\"rgba(0, 0, 0, 1.000)\",\"family\":\"sans-serif\"},\"ticks\":\"inside\",\"tickmode\":\"array\",\"showgrid\":true,\"tickvals\":[0.0,25.0,50.0,75.0],\"domain\":[0.03762029746281716,0.9901574803149606],\"ticktext\":[\"0\",\"25\",\"50\",\"75\"],\"tickangle\":0,\"zeroline\":false,\"linecolor\":\"rgba(0, 0, 0, 1.000)\",\"tickcolor\":\"rgba(0, 0, 0, 1.000)\",\"anchor\":\"x\"},\"annotations\":[],\"width\":600,\"plot_bgcolor\":\"rgba(255, 255, 255, 1.000)\",\"showlegend\":true,\"legend\":{\"bgcolor\":\"rgba(255, 255, 255, 1.000)\",\"y\":1.0,\"font\":{\"size\":11,\"color\":\"rgba(0, 0, 0, 1.000)\",\"family\":\"sans-serif\"},\"bordercolor\":\"rgba(0, 0, 0, 1.000)\",\"x\":1.0},\"xaxis\":{\"type\":\"-\",\"titlefont\":{\"size\":15,\"color\":\"rgba(0, 0, 0, 1.000)\",\"family\":\"sans-serif\"},\"title\":\"\",\"tickfont\":{\"size\":11,\"color\":\"rgba(0, 0, 0, 1.000)\",\"family\":\"sans-serif\"},\"ticks\":\"inside\",\"tickmode\":\"array\",\"showgrid\":true,\"tickvals\":[0.0,20.0,40.0,60.0,80.0],\"domain\":[0.03619130941965587,0.9934383202099738],\"ticktext\":[\"0\",\"20\",\"40\",\"60\",\"80\"],\"tickangle\":0,\"zeroline\":false,\"linecolor\":\"rgba(0, 0, 0, 1.000)\",\"tickcolor\":\"rgba(0, 0, 0, 1.000)\",\"anchor\":\"y\"},\"paper_bgcolor\":\"rgba(255, 255, 255, 1.000)\",\"margin\":{\"r\":0,\"l\":0,\"b\":0,\"t\":20},\"height\":400}, {showLink: false});\n",
       "\n",
       "    });\n",
       " </script>\n"
      ]
     },
     "execution_count": 26,
     "metadata": {},
     "output_type": "execute_result"
    }
   ],
   "source": [
    "@show(mean(dropna(df[:Age])))\n",
    "@show(median(dropna(df[:Age])))\n",
    "@show(mode(dropna(df[:Age])))\n",
    "histogram(dropna(df[:Age]), bins=0:4:80, show=true)\n"
   ]
  },
  {
   "cell_type": "code",
   "execution_count": 28,
   "metadata": {
    "collapsed": false
   },
   "outputs": [
    {
     "data": {
      "text/plain": [
       "30"
      ]
     },
     "execution_count": 28,
     "metadata": {},
     "output_type": "execute_result"
    }
   ],
   "source": [
    "agenew = copy(df[:Age]);\n",
    "flt = isna(agenew)\n",
    "agenew[flt] = 30"
   ]
  },
  {
   "cell_type": "code",
   "execution_count": 36,
   "metadata": {
    "collapsed": false
   },
   "outputs": [
    {
     "data": {
      "text/html": [
       "<table class=\"data-frame\"><thead><tr><th></th><th>PassengerId</th><th>Survived</th><th>Pclass</th><th>Name</th><th>Sex</th><th>Age</th><th>SibSp</th><th>Parch</th><th>Ticket</th><th>Fare</th><th>Cabin</th><th>Embarked</th><th>S</th><th>C</th><th>Q</th></tr></thead><tbody><tr><th>1</th><td>6</td><td>0</td><td>3</td><td>Moran, Mr. James</td><td>0</td><td>NA</td><td>0</td><td>0</td><td>330877</td><td>8.4583</td><td>NA</td><td>Q</td><td>0</td><td>0</td><td>1</td></tr><tr><th>2</th><td>18</td><td>1</td><td>2</td><td>Williams, Mr. Charles Eugene</td><td>0</td><td>NA</td><td>0</td><td>0</td><td>244373</td><td>13.0</td><td>NA</td><td>S</td><td>1</td><td>0</td><td>0</td></tr><tr><th>3</th><td>20</td><td>1</td><td>3</td><td>Masselmani, Mrs. Fatima</td><td>1</td><td>NA</td><td>0</td><td>0</td><td>2649</td><td>7.225</td><td>NA</td><td>C</td><td>0</td><td>1</td><td>0</td></tr><tr><th>4</th><td>27</td><td>0</td><td>3</td><td>Emir, Mr. Farred Chehab</td><td>0</td><td>NA</td><td>0</td><td>0</td><td>2631</td><td>7.225</td><td>NA</td><td>C</td><td>0</td><td>1</td><td>0</td></tr><tr><th>5</th><td>29</td><td>1</td><td>3</td><td>O'Dwyer, Miss. Ellen \"Nellie\"</td><td>1</td><td>NA</td><td>0</td><td>0</td><td>330959</td><td>7.8792</td><td>NA</td><td>Q</td><td>0</td><td>0</td><td>1</td></tr><tr><th>6</th><td>30</td><td>0</td><td>3</td><td>Todoroff, Mr. Lalio</td><td>0</td><td>NA</td><td>0</td><td>0</td><td>349216</td><td>7.8958</td><td>NA</td><td>S</td><td>1</td><td>0</td><td>0</td></tr><tr><th>7</th><td>32</td><td>1</td><td>1</td><td>Spencer, Mrs. William Augustus (Marie Eugenie)</td><td>1</td><td>NA</td><td>1</td><td>0</td><td>PC 17569</td><td>146.5208</td><td>B78</td><td>C</td><td>0</td><td>1</td><td>0</td></tr><tr><th>8</th><td>33</td><td>1</td><td>3</td><td>Glynn, Miss. Mary Agatha</td><td>1</td><td>NA</td><td>0</td><td>0</td><td>335677</td><td>7.75</td><td>NA</td><td>Q</td><td>0</td><td>0</td><td>1</td></tr><tr><th>9</th><td>37</td><td>1</td><td>3</td><td>Mamee, Mr. Hanna</td><td>0</td><td>NA</td><td>0</td><td>0</td><td>2677</td><td>7.2292</td><td>NA</td><td>C</td><td>0</td><td>1</td><td>0</td></tr><tr><th>10</th><td>43</td><td>0</td><td>3</td><td>Kraeff, Mr. Theodor</td><td>0</td><td>NA</td><td>0</td><td>0</td><td>349253</td><td>7.8958</td><td>NA</td><td>C</td><td>0</td><td>1</td><td>0</td></tr><tr><th>11</th><td>46</td><td>0</td><td>3</td><td>Rogers, Mr. William John</td><td>0</td><td>NA</td><td>0</td><td>0</td><td>S.C./A.4. 23567</td><td>8.05</td><td>NA</td><td>S</td><td>1</td><td>0</td><td>0</td></tr><tr><th>12</th><td>47</td><td>0</td><td>3</td><td>Lennon, Mr. Denis</td><td>0</td><td>NA</td><td>1</td><td>0</td><td>370371</td><td>15.5</td><td>NA</td><td>Q</td><td>0</td><td>0</td><td>1</td></tr><tr><th>13</th><td>48</td><td>1</td><td>3</td><td>O'Driscoll, Miss. Bridget</td><td>1</td><td>NA</td><td>0</td><td>0</td><td>14311</td><td>7.75</td><td>NA</td><td>Q</td><td>0</td><td>0</td><td>1</td></tr><tr><th>14</th><td>49</td><td>0</td><td>3</td><td>Samaan, Mr. Youssef</td><td>0</td><td>NA</td><td>2</td><td>0</td><td>2662</td><td>21.6792</td><td>NA</td><td>C</td><td>0</td><td>1</td><td>0</td></tr><tr><th>15</th><td>56</td><td>1</td><td>1</td><td>Woolner, Mr. Hugh</td><td>0</td><td>NA</td><td>0</td><td>0</td><td>19947</td><td>35.5</td><td>C52</td><td>S</td><td>1</td><td>0</td><td>0</td></tr><tr><th>16</th><td>65</td><td>0</td><td>1</td><td>Stewart, Mr. Albert A</td><td>0</td><td>NA</td><td>0</td><td>0</td><td>PC 17605</td><td>27.7208</td><td>NA</td><td>C</td><td>0</td><td>1</td><td>0</td></tr><tr><th>17</th><td>66</td><td>1</td><td>3</td><td>Moubarek, Master. Gerios</td><td>0</td><td>NA</td><td>1</td><td>1</td><td>2661</td><td>15.2458</td><td>NA</td><td>C</td><td>0</td><td>1</td><td>0</td></tr><tr><th>18</th><td>77</td><td>0</td><td>3</td><td>Staneff, Mr. Ivan</td><td>0</td><td>NA</td><td>0</td><td>0</td><td>349208</td><td>7.8958</td><td>NA</td><td>S</td><td>1</td><td>0</td><td>0</td></tr><tr><th>19</th><td>78</td><td>0</td><td>3</td><td>Moutal, Mr. Rahamin Haim</td><td>0</td><td>NA</td><td>0</td><td>0</td><td>374746</td><td>8.05</td><td>NA</td><td>S</td><td>1</td><td>0</td><td>0</td></tr><tr><th>20</th><td>83</td><td>1</td><td>3</td><td>McDermott, Miss. Brigdet Delia</td><td>1</td><td>NA</td><td>0</td><td>0</td><td>330932</td><td>7.7875</td><td>NA</td><td>Q</td><td>0</td><td>0</td><td>1</td></tr><tr><th>21</th><td>88</td><td>0</td><td>3</td><td>Slocovski, Mr. Selman Francis</td><td>0</td><td>NA</td><td>0</td><td>0</td><td>SOTON/OQ 392086</td><td>8.05</td><td>NA</td><td>S</td><td>1</td><td>0</td><td>0</td></tr><tr><th>22</th><td>96</td><td>0</td><td>3</td><td>Shorney, Mr. Charles Joseph</td><td>0</td><td>NA</td><td>0</td><td>0</td><td>374910</td><td>8.05</td><td>NA</td><td>S</td><td>1</td><td>0</td><td>0</td></tr><tr><th>23</th><td>102</td><td>0</td><td>3</td><td>Petroff, Mr. Pastcho (\"Pentcho\")</td><td>0</td><td>NA</td><td>0</td><td>0</td><td>349215</td><td>7.8958</td><td>NA</td><td>S</td><td>1</td><td>0</td><td>0</td></tr><tr><th>24</th><td>108</td><td>1</td><td>3</td><td>Moss, Mr. Albert Johan</td><td>0</td><td>NA</td><td>0</td><td>0</td><td>312991</td><td>7.775</td><td>NA</td><td>S</td><td>1</td><td>0</td><td>0</td></tr><tr><th>25</th><td>110</td><td>1</td><td>3</td><td>Moran, Miss. Bertha</td><td>1</td><td>NA</td><td>1</td><td>0</td><td>371110</td><td>24.15</td><td>NA</td><td>Q</td><td>0</td><td>0</td><td>1</td></tr><tr><th>26</th><td>122</td><td>0</td><td>3</td><td>Moore, Mr. Leonard Charles</td><td>0</td><td>NA</td><td>0</td><td>0</td><td>A4. 54510</td><td>8.05</td><td>NA</td><td>S</td><td>1</td><td>0</td><td>0</td></tr><tr><th>27</th><td>127</td><td>0</td><td>3</td><td>McMahon, Mr. Martin</td><td>0</td><td>NA</td><td>0</td><td>0</td><td>370372</td><td>7.75</td><td>NA</td><td>Q</td><td>0</td><td>0</td><td>1</td></tr><tr><th>28</th><td>129</td><td>1</td><td>3</td><td>Peter, Miss. Anna</td><td>1</td><td>NA</td><td>1</td><td>1</td><td>2668</td><td>22.3583</td><td>F E69</td><td>C</td><td>0</td><td>1</td><td>0</td></tr><tr><th>29</th><td>141</td><td>0</td><td>3</td><td>Boulos, Mrs. Joseph (Sultana)</td><td>1</td><td>NA</td><td>0</td><td>2</td><td>2678</td><td>15.2458</td><td>NA</td><td>C</td><td>0</td><td>1</td><td>0</td></tr><tr><th>30</th><td>155</td><td>0</td><td>3</td><td>Olsen, Mr. Ole Martin</td><td>0</td><td>NA</td><td>0</td><td>0</td><td>Fa 265302</td><td>7.3125</td><td>NA</td><td>S</td><td>1</td><td>0</td><td>0</td></tr><tr><th>&vellip;</th><td>&vellip;</td><td>&vellip;</td><td>&vellip;</td><td>&vellip;</td><td>&vellip;</td><td>&vellip;</td><td>&vellip;</td><td>&vellip;</td><td>&vellip;</td><td>&vellip;</td><td>&vellip;</td><td>&vellip;</td><td>&vellip;</td><td>&vellip;</td><td>&vellip;</td></tr></tbody></table>"
      ],
      "text/plain": [
       "177×15 DataFrames.DataFrame\n",
       "│ Row │ PassengerId │ Survived │ Pclass │\n",
       "├─────┼─────────────┼──────────┼────────┤\n",
       "│ 1   │ 6           │ 0        │ 3      │\n",
       "│ 2   │ 18          │ 1        │ 2      │\n",
       "│ 3   │ 20          │ 1        │ 3      │\n",
       "│ 4   │ 27          │ 0        │ 3      │\n",
       "│ 5   │ 29          │ 1        │ 3      │\n",
       "│ 6   │ 30          │ 0        │ 3      │\n",
       "│ 7   │ 32          │ 1        │ 1      │\n",
       "│ 8   │ 33          │ 1        │ 3      │\n",
       "│ 9   │ 37          │ 1        │ 3      │\n",
       "│ 10  │ 43          │ 0        │ 3      │\n",
       "│ 11  │ 46          │ 0        │ 3      │\n",
       "⋮\n",
       "│ 166 │ 827         │ 0        │ 3      │\n",
       "│ 167 │ 829         │ 1        │ 3      │\n",
       "│ 168 │ 833         │ 0        │ 3      │\n",
       "│ 169 │ 838         │ 0        │ 3      │\n",
       "│ 170 │ 840         │ 1        │ 1      │\n",
       "│ 171 │ 847         │ 0        │ 3      │\n",
       "│ 172 │ 850         │ 1        │ 1      │\n",
       "│ 173 │ 860         │ 0        │ 3      │\n",
       "│ 174 │ 864         │ 0        │ 3      │\n",
       "│ 175 │ 869         │ 0        │ 3      │\n",
       "│ 176 │ 879         │ 0        │ 3      │\n",
       "│ 177 │ 889         │ 0        │ 3      │\n",
       "\n",
       "│ Row │ Name                                             │ Sex │ Age │ SibSp │\n",
       "├─────┼──────────────────────────────────────────────────┼─────┼─────┼───────┤\n",
       "│ 1   │ \"Moran, Mr. James\"                               │ 0   │ NA  │ 0     │\n",
       "│ 2   │ \"Williams, Mr. Charles Eugene\"                   │ 0   │ NA  │ 0     │\n",
       "│ 3   │ \"Masselmani, Mrs. Fatima\"                        │ 1   │ NA  │ 0     │\n",
       "│ 4   │ \"Emir, Mr. Farred Chehab\"                        │ 0   │ NA  │ 0     │\n",
       "│ 5   │ \"O'Dwyer, Miss. Ellen \\\"Nellie\\\"\"                  │ 1   │ NA  │ 0     │\n",
       "│ 6   │ \"Todoroff, Mr. Lalio\"                            │ 0   │ NA  │ 0     │\n",
       "│ 7   │ \"Spencer, Mrs. William Augustus (Marie Eugenie)\" │ 1   │ NA  │ 1     │\n",
       "│ 8   │ \"Glynn, Miss. Mary Agatha\"                       │ 1   │ NA  │ 0     │\n",
       "│ 9   │ \"Mamee, Mr. Hanna\"                               │ 0   │ NA  │ 0     │\n",
       "│ 10  │ \"Kraeff, Mr. Theodor\"                            │ 0   │ NA  │ 0     │\n",
       "│ 11  │ \"Rogers, Mr. William John\"                       │ 0   │ NA  │ 0     │\n",
       "⋮\n",
       "│ 166 │ \"Lam, Mr. Len\"                                   │ 0   │ NA  │ 0     │\n",
       "│ 167 │ \"McCormack, Mr. Thomas Joseph\"                   │ 0   │ NA  │ 0     │\n",
       "│ 168 │ \"Saad, Mr. Amin\"                                 │ 0   │ NA  │ 0     │\n",
       "│ 169 │ \"Sirota, Mr. Maurice\"                            │ 0   │ NA  │ 0     │\n",
       "│ 170 │ \"Marechal, Mr. Pierre\"                           │ 0   │ NA  │ 0     │\n",
       "│ 171 │ \"Sage, Mr. Douglas Bullen\"                       │ 0   │ NA  │ 8     │\n",
       "│ 172 │ \"Goldenberg, Mrs. Samuel L (Edwiga Grabowska)\"   │ 1   │ NA  │ 1     │\n",
       "│ 173 │ \"Razi, Mr. Raihed\"                               │ 0   │ NA  │ 0     │\n",
       "│ 174 │ \"Sage, Miss. Dorothy Edith \\\"Dolly\\\"\"              │ 1   │ NA  │ 8     │\n",
       "│ 175 │ \"van Melkebeke, Mr. Philemon\"                    │ 0   │ NA  │ 0     │\n",
       "│ 176 │ \"Laleff, Mr. Kristo\"                             │ 0   │ NA  │ 0     │\n",
       "│ 177 │ \"Johnston, Miss. Catherine Helen \\\"Carrie\\\"\"       │ 1   │ NA  │ 1     │\n",
       "\n",
       "│ Row │ Parch │ Ticket            │ Fare    │ Cabin │ Embarked │ S │ C │ Q │\n",
       "├─────┼───────┼───────────────────┼─────────┼───────┼──────────┼───┼───┼───┤\n",
       "│ 1   │ 0     │ \"330877\"          │ 8.4583  │ NA    │ \"Q\"      │ 0 │ 0 │ 1 │\n",
       "│ 2   │ 0     │ \"244373\"          │ 13.0    │ NA    │ \"S\"      │ 1 │ 0 │ 0 │\n",
       "│ 3   │ 0     │ \"2649\"            │ 7.225   │ NA    │ \"C\"      │ 0 │ 1 │ 0 │\n",
       "│ 4   │ 0     │ \"2631\"            │ 7.225   │ NA    │ \"C\"      │ 0 │ 1 │ 0 │\n",
       "│ 5   │ 0     │ \"330959\"          │ 7.8792  │ NA    │ \"Q\"      │ 0 │ 0 │ 1 │\n",
       "│ 6   │ 0     │ \"349216\"          │ 7.8958  │ NA    │ \"S\"      │ 1 │ 0 │ 0 │\n",
       "│ 7   │ 0     │ \"PC 17569\"        │ 146.521 │ \"B78\" │ \"C\"      │ 0 │ 1 │ 0 │\n",
       "│ 8   │ 0     │ \"335677\"          │ 7.75    │ NA    │ \"Q\"      │ 0 │ 0 │ 1 │\n",
       "│ 9   │ 0     │ \"2677\"            │ 7.2292  │ NA    │ \"C\"      │ 0 │ 1 │ 0 │\n",
       "│ 10  │ 0     │ \"349253\"          │ 7.8958  │ NA    │ \"C\"      │ 0 │ 1 │ 0 │\n",
       "│ 11  │ 0     │ \"S.C./A.4. 23567\" │ 8.05    │ NA    │ \"S\"      │ 1 │ 0 │ 0 │\n",
       "⋮\n",
       "│ 166 │ 0     │ \"1601\"            │ 56.4958 │ NA    │ \"S\"      │ 1 │ 0 │ 0 │\n",
       "│ 167 │ 0     │ \"367228\"          │ 7.75    │ NA    │ \"Q\"      │ 0 │ 0 │ 1 │\n",
       "│ 168 │ 0     │ \"2671\"            │ 7.2292  │ NA    │ \"C\"      │ 0 │ 1 │ 0 │\n",
       "│ 169 │ 0     │ \"392092\"          │ 8.05    │ NA    │ \"S\"      │ 1 │ 0 │ 0 │\n",
       "│ 170 │ 0     │ \"11774\"           │ 29.7    │ \"C47\" │ \"C\"      │ 0 │ 1 │ 0 │\n",
       "│ 171 │ 2     │ \"CA. 2343\"        │ 69.55   │ NA    │ \"S\"      │ 1 │ 0 │ 0 │\n",
       "│ 172 │ 0     │ \"17453\"           │ 89.1042 │ \"C92\" │ \"C\"      │ 0 │ 1 │ 0 │\n",
       "│ 173 │ 0     │ \"2629\"            │ 7.2292  │ NA    │ \"C\"      │ 0 │ 1 │ 0 │\n",
       "│ 174 │ 2     │ \"CA. 2343\"        │ 69.55   │ NA    │ \"S\"      │ 1 │ 0 │ 0 │\n",
       "│ 175 │ 0     │ \"345777\"          │ 9.5     │ NA    │ \"S\"      │ 1 │ 0 │ 0 │\n",
       "│ 176 │ 0     │ \"349217\"          │ 7.8958  │ NA    │ \"S\"      │ 1 │ 0 │ 0 │\n",
       "│ 177 │ 2     │ \"W./C. 6607\"      │ 23.45   │ NA    │ \"S\"      │ 1 │ 0 │ 0 │"
      ]
     },
     "execution_count": 36,
     "metadata": {},
     "output_type": "execute_result"
    }
   ],
   "source": [
    "df[flt,:]"
   ]
  },
  {
   "cell_type": "code",
   "execution_count": 33,
   "metadata": {
    "collapsed": false
   },
   "outputs": [
    {
     "data": {
      "text/plain": [
       "177"
      ]
     },
     "execution_count": 33,
     "metadata": {},
     "output_type": "execute_result"
    }
   ],
   "source": [
    "sum(flt)"
   ]
  },
  {
   "cell_type": "code",
   "execution_count": 34,
   "metadata": {
    "collapsed": false
   },
   "outputs": [
    {
     "data": {
      "text/plain": [
       "891"
      ]
     },
     "execution_count": 34,
     "metadata": {},
     "output_type": "execute_result"
    }
   ],
   "source": [
    "length(flt)"
   ]
  },
  {
   "cell_type": "code",
   "execution_count": null,
   "metadata": {
    "collapsed": true
   },
   "outputs": [],
   "source": []
  }
 ],
 "metadata": {
  "anaconda-cloud": {},
  "kernelspec": {
   "display_name": "Julia 0.5.0",
   "language": "julia",
   "name": "julia-0.5"
  },
  "language_info": {
   "file_extension": ".jl",
   "mimetype": "application/julia",
   "name": "julia",
   "version": "0.5.1"
  }
 },
 "nbformat": 4,
 "nbformat_minor": 0
}
