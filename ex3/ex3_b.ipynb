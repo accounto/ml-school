{
 "cells": [
  {
   "cell_type": "code",
   "execution_count": 25,
   "metadata": {
    "collapsed": false
   },
   "outputs": [],
   "source": [
    "using DataFrames\n",
    "using Plots\n",
    "using MLTools\n",
    "\n",
    "df = readtable(\"train.csv\");"
   ]
  },
  {
   "cell_type": "markdown",
   "metadata": {},
   "source": [
    "# Variablen-Typen\n",
    "Für statistische Variablen lassen sich gewisse Kenngrössen bestimmen welche die \n",
    "**allgemeine/durchschnittliche Tendenz**, die **Streuung** oder die **Form** der zugrundeliegenden\n",
    "Verteilung beschreiben. Je nach dem welche von diesen Grössen für den konkreten Fall (=Variable)\n",
    "wohldefiniert sind, kann man zwischen 3 Haupttypen unterscheiden.\n",
    "\n",
    "### Allgemeine Tendenz\n",
    "- Arithmetisches Mittel: $\\bar{x} = \\frac{1}{n}\\sum_{i=1}^n x_i$\n",
    "- Median: Es gibt $\\frac{n}{2}$ Werte die Grösser sind als der Median und $\\frac{n}{2}$ die kleiner sind.\n",
    "- Mode: Der am häufigsten vorkommende Wert.\n",
    "\n",
    "### Streuung\n",
    "- Gesamter Wertebereich (min bis max)\n",
    "- Quantile (die ersten, zweiten, letzten.. x-ten Prozent)\n",
    "- Varianz: $\\sigma^2 = \\frac{1}{n}\\sum_{i=1}^n (x_i - \\bar{x})^2$\n",
    "- Standardabweichung: $\\sigma = \\sqrt{\\sigma^2}$\n",
    "\n",
    "### Form\n",
    "- Skewness (Schiefe): Wie symmetrisch ist die Verteilung? $\\frac{1}{n}\\sum_{i=1}^n (x_i - \\bar{x})^3$\n",
    "- Kurtosis (Wölbung): Wie spitzig ist die Verteilung $\\frac{1}{n}\\sum_{i=1}^n (x_i - \\bar{x})^4$\n",
    "\n",
    "# Quantitative Variablen\n",
    "Lassen Berechnungen für alle oben genannten Kenngrössen zu und\n",
    "werden in der Regel durch Reale Zahlen dargestellt, wie z.B:\n",
    "- Körpergewicht in kg\n",
    "- Temperatur in Grad Kelvin\n",
    "- Kokainverbrauch pro Person pro Jahr\n",
    "- Anzahl Einwohner\n",
    "\n",
    "Weiter liegt Quantitativen Variablen eine sinnvolle numerische Skala zugrunde auf der sich eine\n",
    "\"Distanz\" berechnen lässt. Als Beispiel ist es sinnvoll zu sagen 2000 kg sind 4 mal so viel wie 500 kg.\n",
    "\n",
    "**Alle oben genannten Kenngrössen sind wohldefiniert.**\n",
    "\n",
    "# Ordinale Variablen\n",
    "Haben keine sinnvolle nuerische Skala als Grundlage, es gibt aber eine eindeutig definierte Reihenfolge der Elemente. Man kann also Elemente sortieren, aber keine sinnvolle euklidische Distanz zwischen ihen Bestimmen.\n",
    "- Hausnummern\n",
    "- T-shirt Grössen\n",
    "- Akunto Abo-Preise\n",
    "\n",
    "**Definierte Kenngrössen: Reihenfolge, Median, Mode, Quantile**\n",
    "\n",
    "# Kategorische Variablen\n",
    "Es lassen sich weder eine Reihenfolge, noch eine Distanz zwischen Elementen sinnvoll definieren.\n",
    "\n",
    "- Farben\n",
    "- Vornamen\n",
    "- Nationalität\n",
    "\n",
    "**Definierte Kenngrössen: Mode**\n",
    "\n",
    "\n",
    "\n",
    "\n"
   ]
  },
  {
   "cell_type": "code",
   "execution_count": 26,
   "metadata": {
    "collapsed": false
   },
   "outputs": [
    {
     "data": {
      "text/plain": [
       "12-element Array{Symbol,1}:\n",
       " :PassengerId\n",
       " :Survived   \n",
       " :Pclass     \n",
       " :Name       \n",
       " :Sex        \n",
       " :Age        \n",
       " :SibSp      \n",
       " :Parch      \n",
       " :Ticket     \n",
       " :Fare       \n",
       " :Cabin      \n",
       " :Embarked   "
      ]
     },
     "execution_count": 26,
     "metadata": {},
     "output_type": "execute_result"
    }
   ],
   "source": [
    "# Untersuche nochmals die Daten und Bestimme den Typ für jede Variable:\n",
    "names(df)"
   ]
  },
  {
   "cell_type": "code",
   "execution_count": 27,
   "metadata": {
    "collapsed": false
   },
   "outputs": [
    {
     "data": {
      "text/html": [
       "<table class=\"data-frame\"><thead><tr><th></th><th>PassengerId</th><th>Survived</th><th>Pclass</th><th>Name</th><th>Sex</th><th>Age</th><th>SibSp</th><th>Parch</th><th>Ticket</th><th>Fare</th><th>Cabin</th><th>Embarked</th></tr></thead><tbody><tr><th>1</th><td>1</td><td>0</td><td>3</td><td>Braund, Mr. Owen Harris</td><td>male</td><td>22.0</td><td>1</td><td>0</td><td>A/5 21171</td><td>7.25</td><td>NA</td><td>S</td></tr><tr><th>2</th><td>2</td><td>1</td><td>1</td><td>Cumings, Mrs. John Bradley (Florence Briggs Thayer)</td><td>female</td><td>38.0</td><td>1</td><td>0</td><td>PC 17599</td><td>71.2833</td><td>C85</td><td>C</td></tr><tr><th>3</th><td>3</td><td>1</td><td>3</td><td>Heikkinen, Miss. Laina</td><td>female</td><td>26.0</td><td>0</td><td>0</td><td>STON/O2. 3101282</td><td>7.925</td><td>NA</td><td>S</td></tr><tr><th>4</th><td>4</td><td>1</td><td>1</td><td>Futrelle, Mrs. Jacques Heath (Lily May Peel)</td><td>female</td><td>35.0</td><td>1</td><td>0</td><td>113803</td><td>53.1</td><td>C123</td><td>S</td></tr><tr><th>5</th><td>5</td><td>0</td><td>3</td><td>Allen, Mr. William Henry</td><td>male</td><td>35.0</td><td>0</td><td>0</td><td>373450</td><td>8.05</td><td>NA</td><td>S</td></tr><tr><th>6</th><td>6</td><td>0</td><td>3</td><td>Moran, Mr. James</td><td>male</td><td>NA</td><td>0</td><td>0</td><td>330877</td><td>8.4583</td><td>NA</td><td>Q</td></tr></tbody></table>"
      ],
      "text/plain": [
       "6×12 DataFrames.DataFrame\n",
       "│ Row │ PassengerId │ Survived │ Pclass │\n",
       "├─────┼─────────────┼──────────┼────────┤\n",
       "│ 1   │ 1           │ 0        │ 3      │\n",
       "│ 2   │ 2           │ 1        │ 1      │\n",
       "│ 3   │ 3           │ 1        │ 3      │\n",
       "│ 4   │ 4           │ 1        │ 1      │\n",
       "│ 5   │ 5           │ 0        │ 3      │\n",
       "│ 6   │ 6           │ 0        │ 3      │\n",
       "\n",
       "│ Row │ Name                                                  │ Sex      │\n",
       "├─────┼───────────────────────────────────────────────────────┼──────────┤\n",
       "│ 1   │ \"Braund, Mr. Owen Harris\"                             │ \"male\"   │\n",
       "│ 2   │ \"Cumings, Mrs. John Bradley (Florence Briggs Thayer)\" │ \"female\" │\n",
       "│ 3   │ \"Heikkinen, Miss. Laina\"                              │ \"female\" │\n",
       "│ 4   │ \"Futrelle, Mrs. Jacques Heath (Lily May Peel)\"        │ \"female\" │\n",
       "│ 5   │ \"Allen, Mr. William Henry\"                            │ \"male\"   │\n",
       "│ 6   │ \"Moran, Mr. James\"                                    │ \"male\"   │\n",
       "\n",
       "│ Row │ Age  │ SibSp │ Parch │ Ticket             │ Fare    │ Cabin  │\n",
       "├─────┼──────┼───────┼───────┼────────────────────┼─────────┼────────┤\n",
       "│ 1   │ 22.0 │ 1     │ 0     │ \"A/5 21171\"        │ 7.25    │ NA     │\n",
       "│ 2   │ 38.0 │ 1     │ 0     │ \"PC 17599\"         │ 71.2833 │ \"C85\"  │\n",
       "│ 3   │ 26.0 │ 0     │ 0     │ \"STON/O2. 3101282\" │ 7.925   │ NA     │\n",
       "│ 4   │ 35.0 │ 1     │ 0     │ \"113803\"           │ 53.1    │ \"C123\" │\n",
       "│ 5   │ 35.0 │ 0     │ 0     │ \"373450\"           │ 8.05    │ NA     │\n",
       "│ 6   │ NA   │ 0     │ 0     │ \"330877\"           │ 8.4583  │ NA     │\n",
       "\n",
       "│ Row │ Embarked │\n",
       "├─────┼──────────┤\n",
       "│ 1   │ \"S\"      │\n",
       "│ 2   │ \"C\"      │\n",
       "│ 3   │ \"S\"      │\n",
       "│ 4   │ \"S\"      │\n",
       "│ 5   │ \"S\"      │\n",
       "│ 6   │ \"Q\"      │"
      ]
     },
     "execution_count": 27,
     "metadata": {},
     "output_type": "execute_result"
    }
   ],
   "source": [
    "head(df)"
   ]
  },
  {
   "cell_type": "markdown",
   "metadata": {},
   "source": [
    "# Fehlende Daten\n",
    "\n",
    "Werden in Julia (DataFrames) mit NA gekennzeichnet. Obwohl NAs in DataFrames erlaubt sind, so dürfen wir keine fehlenden Daten in unsere Machine Learning Methoden einbauen. Die Daten sind ja genau der Schlüssel zu einem guten Modell.\n",
    "\n",
    "Im einfachsten Fall entfernen wir einfach alle Messungen mit NAs. In Julia geht das mit der Funktion **complete_cases!(df)**, welche nur Zeilen ohne NAs beibehält. In der Regel wollen wir aber so viele Daten wie möglich behalten, um nicht potentielle Information in diesen Zeilen wegzuwerfen.\n",
    "\n",
    "Wir müssen also \"von Hand\" eigene Werte für die NAs einfügen, am besten solche die möglichst sinnvoll sind. Es gibt allerdings kein Standardverfahren um dieses Problem zu lösen, denn es hängt vom jeweiligen Problem ab, was wir als sinnvoll erachten.\n",
    "\n",
    "Eine oft verwendete Strategie ist das ersetzen der NAs mit einer der Grössen **mean**, **mode** oder **median**.\n"
   ]
  },
  {
   "cell_type": "code",
   "execution_count": 7,
   "metadata": {
    "collapsed": true
   },
   "outputs": [],
   "source": [
    "# Untersuche die Variable :Embarked auf NAs und beantworte folgende Fragen:\n",
    "# Tipp: Die folgenden Funktionen sind nützlich:\n",
    "# isna(df[:Embarked])\n",
    "# df[:Embarked] .== \"S\"\n",
    "# sum()\n",
    "\n",
    "# 1) Wieviele NAs kommen vor?\n",
    "\n",
    "# 2) Mean, Mode oder Median als \"Füller\"?\n",
    "\n",
    "# 3) ML-Modell aus den restlichen Variablen um :Embarked vorherzusagen?\n",
    "\n",
    "# 4) Können wir so ein Modell (mit unserem jetzigen Wissen) bauen?"
   ]
  },
  {
   "cell_type": "code",
   "execution_count": null,
   "metadata": {
    "collapsed": false
   },
   "outputs": [],
   "source": []
  },
  {
   "cell_type": "code",
   "execution_count": 10,
   "metadata": {
    "collapsed": true
   },
   "outputs": [],
   "source": [
    "# Dasselbe Spiel mit der Variablen :Age"
   ]
  },
  {
   "cell_type": "markdown",
   "metadata": {},
   "source": [
    "# One Hot Encoding\n",
    "Mit one hot encoding kann man Kategorische Variablen in numerische Werte umwandeln. Dabei werden neue **Dummy-Variablen** eingeführt. Eine neue Variable für jeden in der ursprünglichen Variable vorkommenden Wert. Diese Variablen werden dann auf 0 oder 1 gesetzt wenn der entsprechende Wert vorkommt.\n",
    "\n",
    "Im :Embarked Beispiel werden also neu die Dummy-Variablen S, Q, und C eingeführt.\n",
    "Dies kann durch die Funktion **onehot!(df, :Embarked)** erreicht werden"
   ]
  },
  {
   "cell_type": "code",
   "execution_count": 21,
   "metadata": {
    "collapsed": false
   },
   "outputs": [
    {
     "ename": "LoadError",
     "evalue": "TypeError: non-boolean (DataArrays.NAtype) used in boolean context",
     "output_type": "error",
     "traceback": [
      "TypeError: non-boolean (DataArrays.NAtype) used in boolean context",
      "",
      " in onehot!(::DataFrames.DataFrame, ::Symbol) at /home/juser/.julia/v0.5/MLTools/src/mls_datautils.jl:6"
     ]
    }
   ],
   "source": [
    "onehot!(df, :Embarked)\n",
    "head(df)"
   ]
  },
  {
   "cell_type": "markdown",
   "metadata": {},
   "source": [
    "# Binarization\n",
    "Ähnlich müssen wir bei der Variable \"Sex\" vorgehen. Da nur zwei verschiedene Werte vorkommen werden wir diese mit der Funktion **binarize!(df, :Sex)** 1 und 0 ersetzen. Es ist hier nicht nötig (sogar hinderlich) zwei Variablen \"male\" und \"female\" einzuführen welche beide jeweils 1 und 0 für die entsprechenden Werte enthalten. \n",
    "\n",
    "Dieselbe Menge an Information kann und soll in einer einzigen Variable ausgedrückt werden. Die zweite Variable ist im Grunde nur die inverse der ersten, es besteht also eine direkte korrelation zwischen diesen beiden Variablen. Für die Machine-Learning Algorithmen ist dann nur schwer beurteilbar welche Performance-Änderungen bei der Suche nach dem Optimum von der einen oder der anderen Variablen kommt.\n",
    "\n",
    "**Auch im One Hote Encoding fall ist es ratsam eine Variable wegzulassen**, da wiederum diesselbe Menge and Information durch N-1 binäre Variablen wiedergegeben werden kann."
   ]
  },
  {
   "cell_type": "code",
   "execution_count": 28,
   "metadata": {
    "collapsed": false
   },
   "outputs": [
    {
     "data": {
      "text/html": [
       "<table class=\"data-frame\"><thead><tr><th></th><th>PassengerId</th><th>Survived</th><th>Pclass</th><th>Name</th><th>Sex</th><th>Age</th><th>SibSp</th><th>Parch</th><th>Ticket</th><th>Fare</th><th>Cabin</th><th>Embarked</th></tr></thead><tbody><tr><th>1</th><td>1</td><td>0</td><td>3</td><td>Braund, Mr. Owen Harris</td><td>0</td><td>22.0</td><td>1</td><td>0</td><td>A/5 21171</td><td>7.25</td><td>NA</td><td>S</td></tr><tr><th>2</th><td>2</td><td>1</td><td>1</td><td>Cumings, Mrs. John Bradley (Florence Briggs Thayer)</td><td>1</td><td>38.0</td><td>1</td><td>0</td><td>PC 17599</td><td>71.2833</td><td>C85</td><td>C</td></tr><tr><th>3</th><td>3</td><td>1</td><td>3</td><td>Heikkinen, Miss. Laina</td><td>1</td><td>26.0</td><td>0</td><td>0</td><td>STON/O2. 3101282</td><td>7.925</td><td>NA</td><td>S</td></tr><tr><th>4</th><td>4</td><td>1</td><td>1</td><td>Futrelle, Mrs. Jacques Heath (Lily May Peel)</td><td>1</td><td>35.0</td><td>1</td><td>0</td><td>113803</td><td>53.1</td><td>C123</td><td>S</td></tr><tr><th>5</th><td>5</td><td>0</td><td>3</td><td>Allen, Mr. William Henry</td><td>0</td><td>35.0</td><td>0</td><td>0</td><td>373450</td><td>8.05</td><td>NA</td><td>S</td></tr><tr><th>6</th><td>6</td><td>0</td><td>3</td><td>Moran, Mr. James</td><td>0</td><td>NA</td><td>0</td><td>0</td><td>330877</td><td>8.4583</td><td>NA</td><td>Q</td></tr></tbody></table>"
      ],
      "text/plain": [
       "6×12 DataFrames.DataFrame\n",
       "│ Row │ PassengerId │ Survived │ Pclass │\n",
       "├─────┼─────────────┼──────────┼────────┤\n",
       "│ 1   │ 1           │ 0        │ 3      │\n",
       "│ 2   │ 2           │ 1        │ 1      │\n",
       "│ 3   │ 3           │ 1        │ 3      │\n",
       "│ 4   │ 4           │ 1        │ 1      │\n",
       "│ 5   │ 5           │ 0        │ 3      │\n",
       "│ 6   │ 6           │ 0        │ 3      │\n",
       "\n",
       "│ Row │ Name                                                  │ Sex │ Age  │\n",
       "├─────┼───────────────────────────────────────────────────────┼─────┼──────┤\n",
       "│ 1   │ \"Braund, Mr. Owen Harris\"                             │ 0   │ 22.0 │\n",
       "│ 2   │ \"Cumings, Mrs. John Bradley (Florence Briggs Thayer)\" │ 1   │ 38.0 │\n",
       "│ 3   │ \"Heikkinen, Miss. Laina\"                              │ 1   │ 26.0 │\n",
       "│ 4   │ \"Futrelle, Mrs. Jacques Heath (Lily May Peel)\"        │ 1   │ 35.0 │\n",
       "│ 5   │ \"Allen, Mr. William Henry\"                            │ 0   │ 35.0 │\n",
       "│ 6   │ \"Moran, Mr. James\"                                    │ 0   │ NA   │\n",
       "\n",
       "│ Row │ SibSp │ Parch │ Ticket             │ Fare    │ Cabin  │ Embarked │\n",
       "├─────┼───────┼───────┼────────────────────┼─────────┼────────┼──────────┤\n",
       "│ 1   │ 1     │ 0     │ \"A/5 21171\"        │ 7.25    │ NA     │ \"S\"      │\n",
       "│ 2   │ 1     │ 0     │ \"PC 17599\"         │ 71.2833 │ \"C85\"  │ \"C\"      │\n",
       "│ 3   │ 0     │ 0     │ \"STON/O2. 3101282\" │ 7.925   │ NA     │ \"S\"      │\n",
       "│ 4   │ 1     │ 0     │ \"113803\"           │ 53.1    │ \"C123\" │ \"S\"      │\n",
       "│ 5   │ 0     │ 0     │ \"373450\"           │ 8.05    │ NA     │ \"S\"      │\n",
       "│ 6   │ 0     │ 0     │ \"330877\"           │ 8.4583  │ NA     │ \"Q\"      │"
      ]
     },
     "execution_count": 28,
     "metadata": {},
     "output_type": "execute_result"
    }
   ],
   "source": [
    "binarize!(df, :Sex)\n",
    "head(df)"
   ]
  },
  {
   "cell_type": "markdown",
   "metadata": {},
   "source": [
    "# Machine Learning Modell\n",
    "Wir können nun ein Machine-Learning Modell aufstellen um das Überleben der Passagiere vorauszusagen.\n",
    "Dazu konvertieren wir Variablen aus dem DataFrame in reguläre Julia-Arrays.\n",
    "Die unabhängigen Variablen werden X genannt (Matrix), die abhängige Variable y (Vektor)\n",
    "Dazu brauchen wir die **convert()** Funktion:\n",
    "\n",
    "convert(Matrix, df[:, [var1, var2, var3... varN])\n",
    "\n",
    "convert(Vector, df[:, var]\n",
    "\n",
    "wobei var1 etc die zu verwendenden Variablen sind"
   ]
  },
  {
   "cell_type": "code",
   "execution_count": 17,
   "metadata": {
    "collapsed": true
   },
   "outputs": [],
   "source": [
    "# X = convert(Matrix, df[:, [:Pclass, :Age]])\n",
    "# y = ...\n",
    "\n",
    "# bei X muss dann noch eine Spalte mit Einsen angefügt werden, der sogenannte Offset oder Bias Term.\n",
    "# die Funktion hcat(a, b) kann dabei Vektoren oder Matrizen horizontal zusammenfügen.\n",
    "# Mit ones(N) wird ein Vektor mit N Einsen gebildet\n",
    "\n",
    "# Schliesslich muss noch der Vektor theta initialisiert werden.\n",
    "# Die Funktion randn(N) erzeugt einen Vektor mit N normalverteilten Zufallszahlen."
   ]
  },
  {
   "cell_type": "code",
   "execution_count": null,
   "metadata": {
    "collapsed": false
   },
   "outputs": [],
   "source": [
    "model = LogisticRegression(X, y, theta)\n",
    "result = MLTools.fit!(model)\n",
    "prediction = MLTools.predict(X, model)"
   ]
  }
 ],
 "metadata": {
  "kernelspec": {
   "display_name": "Julia 0.5.0",
   "language": "julia",
   "name": "julia-0.5"
  },
  "language_info": {
   "file_extension": ".jl",
   "mimetype": "application/julia",
   "name": "julia",
   "version": "0.5.1"
  }
 },
 "nbformat": 4,
 "nbformat_minor": 1
}
