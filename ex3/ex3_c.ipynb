{
 "cells": [
  {
   "cell_type": "code",
   "execution_count": 2,
   "metadata": {
    "collapsed": false
   },
   "outputs": [],
   "source": [
    "#Pkg.clone(\"https://github.com/accounto/MLTools.git\")\n",
    "using DataFrames\n",
    "using Plots\n",
    "using MLTools\n",
    "using StatsBase\n",
    "using Query\n",
    "plotlyjs()\n",
    "\n",
    "df = readtable(\"train.csv\");"
   ]
  },
  {
   "cell_type": "code",
   "execution_count": 3,
   "metadata": {
    "collapsed": false
   },
   "outputs": [
    {
     "data": {
      "text/plain": [
       "12-element Array{Symbol,1}:\n",
       " :PassengerId\n",
       " :Survived   \n",
       " :Pclass     \n",
       " :Name       \n",
       " :Sex        \n",
       " :Age        \n",
       " :SibSp      \n",
       " :Parch      \n",
       " :Ticket     \n",
       " :Fare       \n",
       " :Cabin      \n",
       " :Embarked   "
      ]
     },
     "execution_count": 3,
     "metadata": {},
     "output_type": "execute_result"
    }
   ],
   "source": [
    "# Untersuche nochmals die Daten und Bestimme den Typ für jede Variable:\n",
    "names(df)"
   ]
  },
  {
   "cell_type": "code",
   "execution_count": 81,
   "metadata": {
    "collapsed": false
   },
   "outputs": [
    {
     "data": {
      "text/html": [
       "<table class=\"data-frame\"><thead><tr><th></th><th>Name</th><th>Survived</th><th>Pclass</th><th>Age</th><th>Sex</th><th>SibSp</th><th>Parch</th><th>Fare</th><th>Embarked</th></tr></thead><tbody><tr><th>1</th><td>Isham, Miss. Ann Elizabeth</td><td>0</td><td>1</td><td>50.0</td><td>female</td><td>0</td><td>0</td><td>28.7125</td><td>C</td></tr><tr><th>2</th><td>Allison, Miss. Helen Loraine</td><td>0</td><td>1</td><td>2.0</td><td>female</td><td>1</td><td>2</td><td>151.55</td><td>S</td></tr><tr><th>3</th><td>Allison, Mrs. Hudson J C (Bessie Waldo Daniels)</td><td>0</td><td>1</td><td>25.0</td><td>female</td><td>1</td><td>2</td><td>151.55</td><td>S</td></tr></tbody></table>"
      ],
      "text/plain": [
       "3×9 DataFrames.DataFrame\n",
       "│ Row │ Name                                              │ Survived │ Pclass │\n",
       "├─────┼───────────────────────────────────────────────────┼──────────┼────────┤\n",
       "│ 1   │ \"Isham, Miss. Ann Elizabeth\"                      │ 0        │ 1      │\n",
       "│ 2   │ \"Allison, Miss. Helen Loraine\"                    │ 0        │ 1      │\n",
       "│ 3   │ \"Allison, Mrs. Hudson J C (Bessie Waldo Daniels)\" │ 0        │ 1      │\n",
       "\n",
       "│ Row │ Age  │ Sex      │ SibSp │ Parch │ Fare    │ Embarked │\n",
       "├─────┼──────┼──────────┼───────┼───────┼─────────┼──────────┤\n",
       "│ 1   │ 50.0 │ \"female\" │ 0     │ 0     │ 28.7125 │ \"C\"      │\n",
       "│ 2   │ 2.0  │ \"female\" │ 1     │ 2     │ 151.55  │ \"S\"      │\n",
       "│ 3   │ 25.0 │ \"female\" │ 1     │ 2     │ 151.55  │ \"S\"      │"
      ]
     },
     "execution_count": 81,
     "metadata": {},
     "output_type": "execute_result"
    }
   ],
   "source": [
    "survivors = @from row in df begin\n",
    "    @where row.Survived == 1\n",
    "    @select {row.Survived, row.Pclass, row.Age, row.Sex, row.SibSp, row.Parch, row.Fare, row.Embarked}\n",
    "    @collect DataFrame\n",
    "end\n",
    "\n",
    "deads = @from row in df begin\n",
    "    @where row.Survived == 0\n",
    "    @select {row.Survived, row.Pclass, row.Age, row.Sex, row.SibSp, row.Parch, row.Fare, row.Embarked}\n",
    "    @collect DataFrame\n",
    "end\n",
    "\n",
    "rich_chicks = @from row in df begin\n",
    "    @where row.Sex == \"female\" && row.Pclass == 1 && row.Survived == 0\n",
    "    @select {row.Name, row.Survived, row.Pclass, row.Age, row.Sex, row.SibSp, row.Parch, row.Fare, row.Embarked}\n",
    "    @collect DataFrame\n",
    "end\n"
   ]
  },
  {
   "cell_type": "code",
   "execution_count": 75,
   "metadata": {
    "collapsed": false
   },
   "outputs": [
    {
     "data": {
      "text/plain": [
       "Dict{Union{DataArrays.NAtype,Int64},Float64} with 1 entry:\n",
       "  1 => 1.0"
      ]
     },
     "execution_count": 75,
     "metadata": {},
     "output_type": "execute_result"
    }
   ],
   "source": [
    "proportionmap(survivors[:])"
   ]
  },
  {
   "cell_type": "code",
   "execution_count": 73,
   "metadata": {
    "collapsed": false
   },
   "outputs": [
    {
     "data": {
      "text/plain": [
       "Dict{Union{DataArrays.NAtype,Int64},Float64} with 3 entries:\n",
       "  2 => 0.23662\n",
       "  3 => 0.588732\n",
       "  1 => 0.174648"
      ]
     },
     "execution_count": 73,
     "metadata": {},
     "output_type": "execute_result"
    }
   ],
   "source": [
    "proportionmap(deads[:Pclass])"
   ]
  },
  {
   "cell_type": "code",
   "execution_count": 79,
   "metadata": {
    "collapsed": false
   },
   "outputs": [
    {
     "data": {
      "text/plain": [
       "Dict{Union{DataArrays.NAtype,Int64},Int64} with 2 entries:\n",
       "  0 => 3\n",
       "  1 => 91"
      ]
     },
     "execution_count": 79,
     "metadata": {},
     "output_type": "execute_result"
    }
   ],
   "source": [
    "countmap(rich_chicks[:Survived])"
   ]
  },
  {
   "cell_type": "code",
   "execution_count": null,
   "metadata": {
    "collapsed": true
   },
   "outputs": [],
   "source": []
  }
 ],
 "metadata": {
  "anaconda-cloud": {},
  "kernelspec": {
   "display_name": "Julia 0.5.0",
   "language": "julia",
   "name": "julia-0.5"
  },
  "language_info": {
   "file_extension": ".jl",
   "mimetype": "application/julia",
   "name": "julia",
   "version": "0.5.1"
  }
 },
 "nbformat": 4,
 "nbformat_minor": 1
}
