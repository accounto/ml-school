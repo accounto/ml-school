{
 "cells": [
  {
   "cell_type": "markdown",
   "metadata": {
    "nbpresent": {
     "id": "b4fd9e86-c7d7-427f-a2ac-4dfcae22f6bb"
    },
    "slideshow": {
     "slide_type": "slide"
    }
   },
   "source": [
    "# Vektoren\n",
    "\n",
    "* Im vergleich zu normalen Zahlen (Skalare) sind Vektoren meistens Objekte mit mehreren elementen.\n",
    "\n",
    "\n",
    "* Für unsere Zwecke gehen wir nur von Vektoren aus die Skalare als Elemente haben.\n",
    "\n",
    "\n",
    "* Beispiel für einen 3-dimensionalen Vektor $v_z$ = [2, 5, 1] oder $v_z$ = (2, 5, 1)"
   ]
  },
  {
   "cell_type": "markdown",
   "metadata": {
    "nbpresent": {
     "id": "ee7191a5-c399-437c-9524-b88deb510fb0"
    },
    "slideshow": {
     "slide_type": "slide"
    }
   },
   "source": [
    "* Wir unterscheiden zwei Typen von Vektoren: Spalten- und Zeilenvektor\n",
    "* Zeilenvektoren schreiben wir horizontal und Spaltenvektoren vertikal\n",
    "* Durch transponieren wandelt man Zeilen in Spaltenvektoren und umgekenrt.\n",
    "* $v_z'$ = $v_s \\quad$ und $\\quad v_s' = v_z$ wobei $'$ für das transponieren steht\n",
    "\n",
    "$$\n",
    "v_s = \\left(\\begin{matrix}2 \\\\ 5 \\\\ 1\\end{matrix}\\right) \\quad v_z = \\left(\\begin{matrix} 2 &5 &1\\end{matrix} \\right)\n",
    "$$"
   ]
  },
  {
   "cell_type": "markdown",
   "metadata": {
    "nbpresent": {
     "id": "5bf41a0e-e17e-417e-a5fd-3c18bfcc1eee"
    },
    "slideshow": {
     "slide_type": "slide"
    }
   },
   "source": [
    "* Vor allem in der Physik werden Vektoren als Pfeile in einem Koordinatensystem dargestellt.\n",
    "* So ein Pfeil hat 3 wichtige Eigenschaften die ihn definieren:\n",
    " - Richtung\n",
    " - Betrag\n",
    " - Länge (= Anzahl Elemente)\n",
    " \n",
    "Als Beispiel für einen Vektor kann man Windgeschwindigkeit nehmen\n",
    " - Länge = 3 (Weil wir im 3-dimensionalen Raum sind)\n",
    " - Richtung = Nord-West (als Beispiel)\n",
    " - Betrag = 45 km/h\n",
    " \n",
    " \n",
    "Im Gegensatz dazu sind Dinge wie *Temperatur* oder *Franken* keine Vektoren, denn sie besitzen keine\n",
    "Richtung."
   ]
  },
  {
   "cell_type": "markdown",
   "metadata": {
    "nbpresent": {
     "id": "727bf9d3-3bc9-4faf-8e8d-2a64a2d4fafc"
    },
    "slideshow": {
     "slide_type": "slide"
    }
   },
   "source": [
    "## Addition von Vektoren\n",
    "\n",
    "Vektoren gleicher dimension können addiert werden, dies geschieht elementweise.\n",
    "\n",
    "$$\n",
    "\\left(\\begin{matrix}x_1 \\\\ x_2 \\\\ x_3\\end{matrix}\\right) + \\left(\\begin{matrix}y_1 \\\\ y_2 \\\\ y_3\\end{matrix}\\right) = \\left(\\begin{matrix}x_1+y_1 \\\\ x_2+y_2 \\\\ x_3+y_3\\end{matrix}\\right)\n",
    "$$\n",
    "\n",
    "\n",
    "Und als ein konkretes Beispiel\n",
    "\n",
    "\n",
    "$$\n",
    "\\left(\\begin{matrix}2 \\\\ 5 \\\\ 1\\end{matrix}\\right) + \\left(\\begin{matrix}1 \\\\ -2 \\\\ 0\\end{matrix}\\right) = \\left(\\begin{matrix}2+1 \\\\ 5-2 \\\\ 1+0\\end{matrix}\\right) = \\left(\\begin{matrix}3 \\\\ 3 \\\\ 1\\end{matrix}\\right)\n",
    "$$\n"
   ]
  },
  {
   "cell_type": "markdown",
   "metadata": {
    "nbpresent": {
     "id": "b958e72e-1c16-4946-82b9-ffa97fdfea6c"
    },
    "slideshow": {
     "slide_type": "slide"
    }
   },
   "source": [
    "## Multiplikation mit Skalar (=Zahl)\n",
    "\n",
    "Wird ein Vektor mit einem Skalar multipliziert, so geschieht das ebenfalls elementweise.\n",
    "$$\n",
    "a \\cdot \\left(\\begin{matrix}x_1 \\\\ x_2 \\\\ x_3\\end{matrix}\\right) = \\left(\\begin{matrix}a\\cdot x_1 \\\\ a\\cdot x_2 \\\\ a\\cdot x_3\\end{matrix}\\right)\n",
    "$$\n",
    "\n",
    "\n",
    "Mit folgendem Zahlenbeispiel\n",
    "\n",
    "\n",
    "$$\n",
    "2 \\cdot \\left(\\begin{matrix}2 \\\\ 5 \\\\ 1\\end{matrix}\\right) = \\left(\\begin{matrix}4 \\\\ 10 \\\\ 2\\end{matrix}\\right)\n",
    "$$"
   ]
  },
  {
   "cell_type": "markdown",
   "metadata": {
    "nbpresent": {
     "id": "fdee1777-f210-4d5e-b701-ed8753519a7f"
    },
    "slideshow": {
     "slide_type": "slide"
    }
   },
   "source": [
    "# Aufgaben\n",
    "\n",
    "a) Skizziere auf ein Blatt die zwei Vektoren **$a$** = (3, 1),  **$b$** = (2, 2) und **$c$** = (-4, 0)\n",
    "\n",
    "b) Skizziere $a$ + $b$\n",
    "\n",
    "c) Skizziere $a + b + c$\n",
    "\n",
    "d) Skizziere $c - b$\n",
    "\n",
    "e) Skizziere $2\\cdot a$\n",
    "\n",
    "f) Skizziere $3\\cdot a$\n",
    "\n",
    "g) Skizziere $(-1)\\cdot b$\n",
    "\n",
    "h) Löse aufgaben b) bis g) mit Julia"
   ]
  },
  {
   "cell_type": "code",
   "execution_count": 12,
   "metadata": {
    "collapsed": false,
    "nbpresent": {
     "id": "623b6462-4a2f-4e42-8391-d39fa0d358ec"
    },
    "slideshow": {
     "slide_type": "slide"
    }
   },
   "outputs": [
    {
     "name": "stdout",
     "output_type": "stream",
     "text": [
      "vec_2 = [2,4,0]\n",
      "foo + bar = 9\n"
     ]
    }
   ],
   "source": [
    "# In Julia heissen Vektoren 'Arrays' und werden folgendermassen definiert: A = [1, 2, 3]\n",
    "# Definiere nun die Vektoren a, b, und c in Julia und Löse die vorhergehenden Aufgaben mit Julia.\n",
    "# Um Code auszuführen musst du Shift+Enter drücken.\n",
    "# Versuche den \"Code\" für die Aufgabe zu erraten... :)\n",
    "# Resultate können mit @show(...) ausgegeben werden\n",
    "\n",
    "# Definition von Arrays\n",
    "vec_1 = [1, 2, 3]\n",
    "vec_2 = [2, 4, 0]\n",
    "\n",
    "# Definition von Skalaren\n",
    "foo = 3\n",
    "bar = 6\n",
    "\n",
    "@show(vec_2)\n",
    "@show(foo + bar);\n",
    "\n",
    "\n",
    "##############################################\n",
    "# Setze deinen Code unterhalb dieser Zeile ein\n",
    "\n"
   ]
  },
  {
   "cell_type": "markdown",
   "metadata": {
    "nbpresent": {
     "id": "9657c0e8-3288-45e2-baf8-b9d2b90a96db"
    },
    "slideshow": {
     "slide_type": "slide"
    }
   },
   "source": [
    "# Inneres Produkt\n",
    "* Das Innere Produkt zwischen zwei Vektoren $a$ und $b$ ist so DEFINIERT, dass es proportional zum cos() des Winkels zwischen den beiden Vektoren ist.\n",
    "\n",
    "* Das Vektorprodukt nimmt also zwei Vektoren und gibt einen Skalar zurück.\n",
    "\n",
    "\n",
    "\n",
    "\n",
    "\n",
    "** Diese Zahl hat folgende nützliche Eigenschaften:**\n",
    "* Das Vektorprodukt ist = 0, wenn die Vektoren senkrecht zueinander stehen.\n",
    "* Das Vektorprodukt ist > 0, falls der Winkel zwischen $a$ und $b$ kleiner als 90 Grad ist.\n",
    "* Das Vektorprodukt ist < 0, falls der Winkel zwischen $a$ und $b$ grösser als 90 Grad ist."
   ]
  },
  {
   "cell_type": "markdown",
   "metadata": {
    "nbpresent": {
     "id": "7e843bfa-62f3-4e47-8b5c-00c497b8674a"
    },
    "slideshow": {
     "slide_type": "slide"
    }
   },
   "source": [
    "* Das Innere Produkt zwischen zwei Vektoren schreibt sich $a \\cdot b$, also mit einem \"Punkt\" zwischen zwei Vektoren.\n",
    "* Es gilt folgende Definition für Vektoren der Länge n\n",
    "\n",
    "$$ a \\cdot b = \\sum_{i=1}^n{a_i\\: b_i} = a_1 b_1 + a_2b_2 + \\dots + a_n b_n$$\n",
    "\n",
    "* Der Betrag eines Vektors **||a||** misst dessen \"Grösse\", sprich wie lang der Pfeil ist.\n",
    "* Der Betrag eines Vektors wird als das Innere Produkt des Vektors mit sich selbst berechnet:\n",
    "\n",
    "$$ ||a|| = \\sqrt{a \\cdot a} = \\sqrt{\\sum_{i=1}^n{a_i \\: a_i}}$$"
   ]
  },
  {
   "cell_type": "code",
   "execution_count": 34,
   "metadata": {
    "collapsed": false,
    "nbpresent": {
     "id": "ceae7099-c69e-451c-88aa-78f6e9e99fb7"
    },
    "slideshow": {
     "slide_type": "slide"
    }
   },
   "outputs": [
    {
     "data": {
      "text/plain": [
       "3-element Array{Int64,1}:\n",
       " -6\n",
       "  0\n",
       " -2"
      ]
     },
     "execution_count": 34,
     "metadata": {},
     "output_type": "execute_result"
    }
   ],
   "source": [
    "# AUFGABEN\n",
    "##########\n",
    "# In Julia heisst die Funktion zur Berechnung des Inneren Produkts\n",
    "# \"dot(vec_1, vec_2)\", gemäss dem Punkt in der Notation.\n",
    "# Der Betrag eines Vektors berechnet sich mit der Funktion \"norm()\"\n",
    "# Finde einen Wert für c[2] so dass der Vektor c senkrecht auf a \n",
    "# und auf b steht.\n",
    "\n",
    "a = [1, 2, 3]\n",
    "b = [2, 2, 0]\n",
    "\n",
    "c = [-6, 0, -2]"
   ]
  },
  {
   "cell_type": "code",
   "execution_count": null,
   "metadata": {
    "collapsed": false,
    "nbpresent": {
     "id": "073ce5ea-2794-4542-bbf2-bc48c8b29886"
    },
    "slideshow": {
     "slide_type": "slide"
    }
   },
   "outputs": [],
   "source": [
    "# AUFGABEN\n",
    "##########\n",
    "# Du hast eine Liste mit Esswaren die und deren kcal/100g.\n",
    "# Apfel:50 Salat:35, Fleisch:250, Reis:130, Nudeln:160\n",
    "# Yoghurt:95, Schoggi:550\n",
    "# Stell dir ein Menu zusammen (z.B. 100g Apfel, 400g Fleisch etc.)\n",
    "# und berechne die Gesamtkalorienmenge mit hilfe des Skalarprodukts.\n"
   ]
  },
  {
   "cell_type": "code",
   "execution_count": 35,
   "metadata": {
    "collapsed": true,
    "nbpresent": {
     "id": "b7fc3e43-7c99-47fb-9ca7-a3a208cc254d"
    }
   },
   "outputs": [],
   "source": [
    "# AUFGABE\n",
    "#(alle Angaben in Metern, falls nichts anderes erwähnt)\n",
    "#########################################################\n",
    "\n",
    "# Willhelm Tell steht mit seiner Armbrust parat.\n",
    "# Seine Finger befindet sich am Abzug, und die Pfeilspitze\n",
    "# am Punkt [0.5, 0.0, 1.7]. Walterli steht mit Apfel auf\n",
    "# dem Kopf ebenfalls parat. Die Koordinaten des Apfels\n",
    "# sind [10.5, 22.0, 1.5]. Wie gross ist die Distanz zw.\n",
    "# Pfeilspitze und Apfel?\n",
    "\n",
    "\n",
    "\n",
    "\n",
    "# Bonusaufgabe:\n",
    "###############\n",
    "# Angenommen der Apfel hat einen Radius von\n",
    "# ca. 5 cm, mach eine Abschätzung für den Spielraum den\n",
    "# Tell hat um nicht Walterli in den Kopf zu treffen.\n",
    "# D.h. um welchen Winkel darf er sich vertun ohne seinen\n",
    "# Sohn zu verletzen.\n",
    "\n",
    "# Tipp 1: Für zwei Vektoren a und b und den Winkel w zwischen\n",
    "# ihnen gilt:\n",
    "# cos(w) = a / ||a|| . b / ||b||\n",
    "\n",
    "# Tipp 2: Um von cos(w) auf den Winkel w zu kommen gibt es\n",
    "# in Julia die Funktion acos(). Also acos(cos(w)) = w.\n",
    "\n",
    "# Tipp 3: Der Winkel w ist dann in radian, um auf grad zu\n",
    "# zu kommen rechnet man radian / pi * 180"
   ]
  },
  {
   "cell_type": "code",
   "execution_count": 1,
   "metadata": {
    "collapsed": false,
    "nbpresent": {
     "id": "b3b5861f-1e2a-4ad0-9292-a200ee1a9437"
    }
   },
   "outputs": [
    {
     "name": "stderr",
     "output_type": "stream",
     "text": [
      "QGtkStyle could not resolve GTK. Make sure you have installed the proper libraries.\n"
     ]
    },
    {
     "data": {
      "text/html": [
       "<img src=\"data:image/png;base64,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\" />"
      ]
     },
     "execution_count": 1,
     "metadata": {},
     "output_type": "execute_result"
    }
   ],
   "source": [
    "using Plots\n",
    "include(\"io.jl\")\n",
    "\n",
    "\n",
    "X = readcsv(\"data_ex1.csv\")\n",
    "\n",
    "nPerClass = floor(Int, size(X, 1)/2)\n",
    "ipos = 1:nPerClass\n",
    "ineg = nPerClass+1:2nPerClass\n",
    "\n",
    "y = ones(Int64, 2*nPerClass)\n",
    "y[nPerClass+1:2*nPerClass] *= -1\n",
    "\n",
    "show_data(X)"
   ]
  },
  {
   "cell_type": "code",
   "execution_count": 3,
   "metadata": {
    "collapsed": false,
    "nbpresent": {
     "id": "4f0dd5b5-28e2-4718-8805-0cfba480e3c3"
    }
   },
   "outputs": [
    {
     "name": "stdout",
     "output_type": "stream",
     "text": [
      "Classification accuracy: 26.190476190476193 %\n"
     ]
    },
    {
     "data": {
      "text/html": [
       "<img src=\"data:image/png;base64,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\" />"
      ]
     },
     "execution_count": 3,
     "metadata": {},
     "output_type": "execute_result"
    }
   ],
   "source": [
    "# Machine Learning Aufgabe!\n",
    "###########################\n",
    "\n",
    "# Es wurden 2 dimensionale Daten geladen und in\n",
    "# die Variable X gespeichert. X besteht aus 42(!)\n",
    "# Datenpunkten und jeder Datenpunkt hat zwei\n",
    "# Koordinaten.\n",
    "\n",
    "# Je die Hälfte der Datenpunkte gehört\n",
    "# zu Klasse positiv (blau), die andere zur Klasse negativ (rot).\n",
    "# Die Information zur Klasse ist in der Variable y hinterlegt.\n",
    "# D.h. y ist ein Array mit 42 Zahlen. +1 für die positive Klasse\n",
    "# und -1 für die negative Klasse.\n",
    "\n",
    "# Auch wenn die Daten als blaue oder rote Punkte dargestellt sind,\n",
    "# kannst du dir sie als Vektoren vorstellen. Diese Vektoren haben\n",
    "# den Schwanz bei [0,0] und die Spitze beim jeweiligen (blauen oder roten)\n",
    "# Kreis.\n",
    "\n",
    "# Das Ziel ist nun ein Modell zu finden, welches die blauen von den \n",
    "# roten Punkten unterscheiden kann. Und zwar mit Hilfe des Skalarprodukts.\n",
    "\n",
    "\n",
    "\n",
    "# a) Finde einen Vektor 'theta' so dass:\n",
    "# theta . x > 0 für alle blauen Datenpunkte\n",
    "# theta . x < 0 für alle roten Datenpunkte.\n",
    "# Verändere die Werte in theta so dass du 100 % classification\n",
    "# erreichst. Die Grafik zeigt die eigentlichen Werte und die \n",
    "# Werte die durch das Modell\n",
    "\n",
    "# b) Erkläre in Worten was für einen Zusammenhang du zwischen\n",
    "# dem Vektor theta und den Resultaten deines Modells du erkennen\n",
    "# kannst.\n",
    "\n",
    "# c) Falls in b) nicht beantwortet: Was spielt das Skalarpodukt\n",
    "# bei diesem Modell für eine Rolle?\n",
    "\n",
    " \n",
    "\n",
    "theta = [-1, 1]\n",
    "\n",
    "show_data(X)\n",
    "show_predicted_labels!(X, theta)\n",
    "show_theta!(theta)"
   ]
  },
  {
   "cell_type": "code",
   "execution_count": null,
   "metadata": {
    "collapsed": false,
    "nbpresent": {
     "id": "d1151279-9032-48fa-beba-7ea22a2d597e"
    }
   },
   "outputs": [],
   "source": []
  },
  {
   "cell_type": "markdown",
   "metadata": {
    "nbpresent": {
     "id": "669d10e1-26bb-4be9-942d-73f1413d8552"
    },
    "slideshow": {
     "slide_type": "slide"
    }
   },
   "source": [
    "# Lineare Gleichungssysteme\n",
    "\n",
    "* Wenn mehr als eine Unbekannte vorkommen, müssen auch mehrere Gleichungen definiert werden, da sonst das Problem unbestimmt ist.\n",
    "\n",
    "* Beispiel: Die folgende Gleichung mit zwei Unbekannten hat unendlich viele Lösungen:\n",
    "\n",
    "$$ x_1 + x_2 = 10$$\n",
    "\n",
    "$$ 1 + 9 = 10$$\n",
    "$$ 2 + 8 = 10$$\n",
    "$$ \\vdots $$\n",
    "$$   $$\n",
    "$$ 5 + 5 = 10$$"
   ]
  },
  {
   "cell_type": "markdown",
   "metadata": {
    "nbpresent": {
     "id": "7132fe19-f1ca-4568-8484-30c9e6f12c5c"
    },
    "slideshow": {
     "slide_type": "slide"
    }
   },
   "source": [
    "* Erst durch zusätzliche Bedingungen wird eine eindeutige Lösung bestimmt.\n",
    "* Es wird erwartet dass $x_1$ und $x_2$ so gefunden werden, dass alle Bedingungen erfüllt werden.\n",
    "* Es gibt also einen Zusammenhang zwischen den Gleichungen, ein Gleichungssystem.\n",
    "\n",
    "$$ \\begin{align}\n",
    "x_1 + x_2 &= 10\\\\\n",
    "x_1 - 3x_2 &= -2\\\\\n",
    "\\end{align}$$\n",
    "\n",
    "In der allgemeinen Form:\n",
    "\n",
    "$$ \\begin{align}\n",
    "a_{11} x_1 + a_{12} x_2 &= y_1\\\\\n",
    "a_{21} x_1 + a_{22} x_2 &= y_2\\\\\n",
    "\\end{align}\n",
    "$$\n",
    "\n",
    "Finde $a_{ij}$ und ${y_i}$ für obiges Gleichungssystem\n"
   ]
  },
  {
   "cell_type": "markdown",
   "metadata": {
    "nbpresent": {
     "id": "912296eb-d0b6-47a6-a904-8534cf96fedc"
    },
    "slideshow": {
     "slide_type": "slide"
    }
   },
   "source": [
    "# Lösungsmethoden für Gleichungssysteme\n",
    "Alle Lösungsmethoden beziehen sich auf das Gleichungssystem\n",
    "\n",
    "$$ \\begin{align}\n",
    "x_1 + x_2 &= 10\\\\\n",
    "x_1 - 3x_2 &= -2\\\\\n",
    "\\end{align}$$\n",
    "\n"
   ]
  },
  {
   "cell_type": "markdown",
   "metadata": {
    "nbpresent": {
     "id": "fabd11f1-141d-48f3-b0dd-6bf8c7df29df"
    },
    "slideshow": {
     "slide_type": "slide"
    }
   },
   "source": [
    "## 1. Gleichsetzen\n",
    "Zum Beispiel beide Gleichungen oben nach $x_1$ auflösen und diese gleichsetzen.\n",
    "$$\\begin{align}\n",
    "x_1 &= 10 - x_2\\\\\n",
    "x_1 &= -2 + 3x_2\\\\\n",
    "\\end{align}$$\n",
    "\n",
    "\n",
    "$$\\begin{align}\n",
    "10 - x_2 &= -2 + 3x_2\\\\\n",
    "12 - x_2 &= 3x_2\\\\\n",
    "12 &= 4x_2\\\\\n",
    "3 &= x_2\\\\\n",
    "\\end{align}$$\n",
    "\n",
    "\n",
    "\n"
   ]
  },
  {
   "cell_type": "markdown",
   "metadata": {
    "nbpresent": {
     "id": "4b90dacb-62e3-4965-ad05-f6a4e3981f3a"
    },
    "slideshow": {
     "slide_type": "slide"
    }
   },
   "source": [
    "## 2. Einsetzen\n",
    "Alternativ kann auch nach einer Variablen aufgelöst werden und diese dann in die anderen Formeln einsetzen.\n",
    "\n",
    "$$ x = 10 - y$$\n",
    "\n",
    "\n",
    "Den gefundenen Ausdruck für $x$ jetzt in die zweite Gleichung $x - 3y = -2$ einsetzen.\n",
    "\n",
    "\n",
    "$$\n",
    "\\begin{align}\n",
    "10 - y - 3y &= -2\\\\\n",
    "10 -4y &= -2\\\\\n",
    "-4y &= -12\\\\\n",
    "-y &= -3\\\\\n",
    "y &= 3\\\\\n",
    "\\end{align}$$"
   ]
  },
  {
   "cell_type": "markdown",
   "metadata": {
    "nbpresent": {
     "id": "a1700d84-74e2-4d47-b494-f3a6f95afb67"
    },
    "slideshow": {
     "slide_type": "slide"
    }
   },
   "source": [
    "## 3. Eliminationsverfahren\n",
    "Die gebräuchlichste und effizienteste Methode ist das Eliminationsverfahren. Dabei werden Gleichungen miteinander addiert oder subtrahiert, so dass dadurch Variablen sich gegenseitig rauskürzen. Wenn man im oberen Beispiel von der oberen Gleichung die Untere abzieht, erhält man\n",
    "\n",
    "$$\\begin{align}\n",
    "4y &= 12\\\\\n",
    "y &= 3\n",
    "\\end{align}$$\n",
    "\n",
    "Das Eliminationsverfahren wird auch von Computern verwendet um Gleichungssysteme zu lösen und skaliert sehr gut für den Fall von vielen Gleichungen und Unbekannten.\n"
   ]
  },
  {
   "cell_type": "code",
   "execution_count": null,
   "metadata": {
    "collapsed": true,
    "nbpresent": {
     "id": "82c37a63-9447-4bbe-b413-54ddd64a0568"
    }
   },
   "outputs": [],
   "source": []
  },
  {
   "cell_type": "markdown",
   "metadata": {
    "nbpresent": {
     "id": "dc586593-19f3-4726-b626-28af47920ba7"
    }
   },
   "source": [
    "$$ a_{11}x_1 + a_{12}x_2 + a_{13}x_3 = y_1$$\n",
    "$$ a_{21}x_1 + a_{22}x_2 + a_{23}x_3 = y_2$$\n",
    "$$ a_{31}x_1 + a_{32}x_2 + a_{33}x_3 = y_3$$"
   ]
  },
  {
   "cell_type": "code",
   "execution_count": 3,
   "metadata": {
    "collapsed": false,
    "nbpresent": {
     "id": "24a0806b-ac0c-4ed7-8e3c-1531877cd5fb"
    }
   },
   "outputs": [
    {
     "name": "stderr",
     "output_type": "stream",
     "text": [
      "WARNING: Method definition solver1(Any, Any) in module Main at In[2]:2 overwritten at In[3]:2.\n",
      "WARNING: Method definition solver2(Any, Any) in module Main at In[2]:6 overwritten at In[3]:6.\n"
     ]
    },
    {
     "data": {
      "text/plain": [
       "solver2 (generic function with 1 method)"
      ]
     },
     "execution_count": 3,
     "metadata": {},
     "output_type": "execute_result"
    }
   ],
   "source": [
    "function solver1(X, y)\n",
    "    inv(X' * X) * X' * y\n",
    "end\n",
    "\n",
    "function solver2(X, y)\n",
    "    X \\ y\n",
    "end"
   ]
  },
  {
   "cell_type": "code",
   "execution_count": 5,
   "metadata": {
    "collapsed": false,
    "nbpresent": {
     "id": "6ef29e29-4880-4295-8e20-4fad2912014e"
    }
   },
   "outputs": [
    {
     "name": "stdout",
     "output_type": "stream",
     "text": [
      "y = [90.0,55.0,86.0,25.0,95.5]\n"
     ]
    },
    {
     "data": {
      "text/plain": [
       "5×4 Array{Int64,2}:\n",
       " 4  2  3  1\n",
       " 2  0  2  1\n",
       " 5  5  0  2\n",
       " 1  1  1  0\n",
       " 1  4  2  2"
      ]
     },
     "execution_count": 5,
     "metadata": {},
     "output_type": "execute_result"
    }
   ],
   "source": [
    "#              Getraenk, Salat, Menu I, Pizza   Total_CHF\n",
    "##########################################################\n",
    "# Montag     :     4        2      3       1    |   90.0       \n",
    "# Dienstag   :     2        0      2       1    |   55.0\n",
    "# Mittwoch   :     5        5      0       2    |   86.0\n",
    "# Donnerstag :     1        1      1       0    |   25.0\n",
    "# Freitag    :     1        4      2       2    |   95.5\n",
    "\n",
    "\n",
    "item_price = [3.5, 6.5, 15.0, 18.0]\n",
    "A = [4 2 3 1; 2 0 2 1; 5 5 0 2; 1 1 1 0; 1 4 2 2]\n",
    "\n",
    "y = A * item_price\n",
    "@show(y);\n",
    "A"
   ]
  },
  {
   "cell_type": "code",
   "execution_count": 7,
   "metadata": {
    "collapsed": false,
    "nbpresent": {
     "id": "dea061b4-ec99-408d-8560-0752551e4c95"
    },
    "scrolled": true
   },
   "outputs": [
    {
     "name": "stdout",
     "output_type": "stream",
     "text": [
      "  0.000049 seconds (23 allocations: 4.297 KB)\n"
     ]
    },
    {
     "data": {
      "text/plain": [
       "4-element Array{Float64,1}:\n",
       "  3.5\n",
       "  6.5\n",
       " 15.0\n",
       " 18.0"
      ]
     },
     "execution_count": 7,
     "metadata": {},
     "output_type": "execute_result"
    }
   ],
   "source": [
    "@time solver1(A, y)"
   ]
  },
  {
   "cell_type": "code",
   "execution_count": 12,
   "metadata": {
    "collapsed": false,
    "nbpresent": {
     "id": "e691c75b-b939-4b08-9ad6-bc22c120c9e5"
    }
   },
   "outputs": [
    {
     "name": "stdout",
     "output_type": "stream",
     "text": [
      "  0.000105 seconds (87 allocations: 72.609 KB)\n"
     ]
    },
    {
     "data": {
      "text/plain": [
       "4-element Array{Float64,1}:\n",
       "  3.5\n",
       "  6.5\n",
       " 15.0\n",
       " 18.0"
      ]
     },
     "execution_count": 12,
     "metadata": {},
     "output_type": "execute_result"
    }
   ],
   "source": [
    "@time solver2(A, y)"
   ]
  },
  {
   "cell_type": "code",
   "execution_count": 14,
   "metadata": {
    "collapsed": false,
    "nbpresent": {
     "id": "c30af7be-3e1d-4332-b532-ea6f711ae85b"
    }
   },
   "outputs": [
    {
     "ename": "LoadError",
     "evalue": "LoadError: UndefVarError: theta not defined\nwhile loading In[14], in expression starting on line 1",
     "output_type": "error",
     "traceback": [
      "LoadError: UndefVarError: theta not defined\nwhile loading In[14], in expression starting on line 1",
      ""
     ]
    }
   ],
   "source": [
    "(A*theta - A*theta_real) ./ y"
   ]
  }
 ],
 "metadata": {
  "celltoolbar": "Slideshow",
  "kernelspec": {
   "display_name": "Julia 0.5.0",
   "language": "julia",
   "name": "julia-0.5"
  },
  "language_info": {
   "file_extension": ".jl",
   "mimetype": "application/julia",
   "name": "julia",
   "version": "0.5.0"
  },
  "nbpresent": {
   "slides": {
    "7e8c14a2-cb96-437c-b604-53a204fd0105": {
     "id": "7e8c14a2-cb96-437c-b604-53a204fd0105",
     "prev": null,
     "regions": {
      "8fe2ff6d-6c54-413f-a843-1f862a2e8ba2": {
       "attrs": {
        "height": 1,
        "width": 1,
        "x": 0,
        "y": 0
       },
       "content": {
        "cell": "b4fd9e86-c7d7-427f-a2ac-4dfcae22f6bb",
        "part": "whole"
       },
       "id": "8fe2ff6d-6c54-413f-a843-1f862a2e8ba2"
      }
     }
    }
   },
   "themes": {}
  }
 },
 "nbformat": 4,
 "nbformat_minor": 0
}
