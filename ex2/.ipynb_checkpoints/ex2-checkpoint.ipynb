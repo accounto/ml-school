{
 "cells": [
  {
   "cell_type": "markdown",
   "metadata": {
    "collapsed": true,
    "slideshow": {
     "slide_type": "slide"
    }
   },
   "source": [
    "# Repetition\n",
    "\n",
    "## Vektoren\n",
    "* Sind für unsere Zwecke \"Listen\" oder \"Tupel\" von Zahlen.\n",
    "Zum beispiel [1, 3, 2, 10], oder [0, 0, 1] die man horizontal oder vertikal schreiben kann.\n",
    "* Vektoren (mit gleicher Anzahl Elementen!) kann man zusammenzählen und mit einem Skalar multiplizieren.\n",
    "* $$ \\left(\\begin{matrix}2 \\\\ 5 \\\\ 1\\end{matrix}\\right)  + \\left(\\begin{matrix}1 \\\\ -1 \\\\ 0\\end{matrix}\\right) = \\left(\\begin{matrix}3 \\\\ 4 \\\\ 1\\end{matrix}\\right)$$\n",
    "\n",
    "\n",
    "* $$ 3 \\; \\left(\\begin{matrix}2 \\\\ 5 \\\\ 1\\end{matrix}\\right) = \\left(\\begin{matrix}6 \\\\ 15 \\\\ 3\\end{matrix}\\right)$$"
   ]
  },
  {
   "cell_type": "markdown",
   "metadata": {
    "collapsed": true,
    "slideshow": {
     "slide_type": "slide"
    }
   },
   "source": [
    "## Skalarprodukt\n",
    "* Wird in der Mathematik mit einem Punkt geschrieben. Für zwei Vektoren $a$ und $b$ also $a \\cdot b$\n",
    "\n",
    "\n",
    "* Ist ein Mass für den Winkel zwischen den zwei Vektoren.\n",
    "* Falls Skalarprodukt > 0 --> Vektoren zeigen in dieselbe Richtung\n",
    "* Falls Skalarprodukt = 0 --> Vektoren senkrecht zueinander\n",
    "* Falls Skalarprodukt < 0 --> Vektoren zeigen in entgegengesetzte Richtungen\n",
    "\n",
    "* In Julia ist das Skalarprodukt eine eingebaute Funktion und heist \"dot()\". Also dot(a, b) entspricht dem $ a \\cdot b$"
   ]
  },
  {
   "cell_type": "code",
   "execution_count": null,
   "metadata": {
    "collapsed": true
   },
   "outputs": [],
   "source": []
  }
 ],
 "metadata": {
  "anaconda-cloud": {},
  "celltoolbar": "Slideshow",
  "kernelspec": {
   "display_name": "Julia 0.5.0",
   "language": "julia",
   "name": "julia-0.5"
  },
  "language_info": {
   "file_extension": ".jl",
   "mimetype": "application/julia",
   "name": "julia",
   "version": "0.5.0"
  }
 },
 "nbformat": 4,
 "nbformat_minor": 0
}
