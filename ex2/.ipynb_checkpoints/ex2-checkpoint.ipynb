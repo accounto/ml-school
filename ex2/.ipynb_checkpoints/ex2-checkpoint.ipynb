{
 "cells": [
  {
   "cell_type": "markdown",
   "metadata": {
    "collapsed": true,
    "slideshow": {
     "slide_type": "slide"
    }
   },
   "source": [
    "## Vektoren\n",
    "* Sind für unsere Zwecke \"Listen\" oder \"Tupel\" von Zahlen.\n",
    "Zum beispiel [1, 3, 2, 10], oder [0, 0, 1] die man horizontal oder vertikal schreiben kann.\n",
    "* Vektoren (mit gleicher Anzahl Elementen!) kann man zusammenzählen und mit einem Skalar multiplizieren.\n",
    "* $$ \\left(\\begin{matrix}2 \\\\ 5 \\\\ 1\\end{matrix}\\right)  + \\left(\\begin{matrix}1 \\\\ -1 \\\\ 0\\end{matrix}\\right) = \\left(\\begin{matrix}3 \\\\ 4 \\\\ 1\\end{matrix}\\right)$$\n",
    "\n",
    "\n",
    "* $$ 3 \\; \\left(\\begin{matrix}2 \\\\ 5 \\\\ 1\\end{matrix}\\right) = \\left(\\begin{matrix}6 \\\\ 15 \\\\ 3\\end{matrix}\\right)$$"
   ]
  },
  {
   "cell_type": "markdown",
   "metadata": {
    "collapsed": true,
    "slideshow": {
     "slide_type": "slide"
    }
   },
   "source": [
    "## Skalarprodukt\n",
    "* Wird in der Mathematik mit einem Punkt geschrieben. Für zwei Vektoren $a$ und $b$ also $a \\cdot b$\n",
    "\n",
    "\n",
    "* Ist ein Mass für den Winkel zwischen den zwei Vektoren.\n",
    "* Falls Skalarprodukt > 0 --> Vektoren zeigen in dieselbe Richtung\n",
    "* Falls Skalarprodukt = 0 --> Vektoren senkrecht zueinander\n",
    "* Falls Skalarprodukt < 0 --> Vektoren zeigen in entgegengesetzte Richtungen\n",
    "\n",
    "* In Julia ist das Skalarprodukt eine eingebaute Funktion und heist \"dot()\". Also dot(a, b) entspricht dem $ a \\cdot b$\n",
    "\n",
    "* $a_1 b_1 + a_2b_2 + \\dots + a_nb_n$"
   ]
  },
  {
   "cell_type": "code",
   "execution_count": 1,
   "metadata": {
    "collapsed": false,
    "slideshow": {
     "slide_type": "slide"
    }
   },
   "outputs": [
    {
     "name": "stderr",
     "output_type": "stream",
     "text": [
      "\u001b[1m\u001b[34mINFO: Recompiling stale cache file /home/abieler/.julia/lib/v0.5/Plots.ji for module Plots.\n",
      "\u001b[0m\u001b[1m\u001b[34mINFO: Recompiling stale cache file /home/abieler/.julia/lib/v0.5/KernelDensity.ji for module KernelDensity.\n",
      "\u001b[0m"
     ]
    }
   ],
   "source": [
    "# Import the necessary libraries to work with tabulated data\n",
    "# and for plotting.\n",
    "using DataFrames\n",
    "using StatPlots\n",
    "using Plots\n",
    "using Optim"
   ]
  },
  {
   "cell_type": "code",
   "execution_count": 3,
   "metadata": {
    "collapsed": false,
    "slideshow": {
     "slide_type": "-"
    }
   },
   "outputs": [
    {
     "name": "stdout",
     "output_type": "stream",
     "text": [
      "size(df) = (507,8)\n"
     ]
    },
    {
     "data": {
      "text/html": [
       "<table class=\"data-frame\"><thead><tr><th></th><th>UmfangBrust</th><th>UmfangHuefte</th><th>UmfangBizeps</th><th>UmfangHandgelenk</th><th>Alter</th><th>Gewicht</th><th>Groesse</th><th>Geschlecht</th></tr></thead><tbody><tr><th>1</th><td>89.5</td><td>93.5</td><td>32.5</td><td>16.5</td><td>21</td><td>65.6</td><td>174.0</td><td>1</td></tr><tr><th>2</th><td>97.0</td><td>94.8</td><td>34.4</td><td>17.0</td><td>23</td><td>71.8</td><td>175.3</td><td>1</td></tr><tr><th>3</th><td>97.5</td><td>95.0</td><td>33.4</td><td>16.9</td><td>28</td><td>80.7</td><td>193.5</td><td>1</td></tr><tr><th>4</th><td>97.0</td><td>94.0</td><td>31.0</td><td>16.6</td><td>23</td><td>72.6</td><td>186.5</td><td>1</td></tr><tr><th>5</th><td>97.5</td><td>98.5</td><td>32.0</td><td>18.0</td><td>22</td><td>78.8</td><td>187.2</td><td>1</td></tr><tr><th>6</th><td>99.9</td><td>95.3</td><td>33.0</td><td>16.9</td><td>21</td><td>74.8</td><td>181.5</td><td>1</td></tr></tbody></table>"
      ],
      "text/plain": [
       "6×8 DataFrames.DataFrame\n",
       "│ Row │ UmfangBrust │ UmfangHuefte │ UmfangBizeps │ UmfangHandgelenk │ Alter │\n",
       "├─────┼─────────────┼──────────────┼──────────────┼──────────────────┼───────┤\n",
       "│ 1   │ 89.5        │ 93.5         │ 32.5         │ 16.5             │ 21    │\n",
       "│ 2   │ 97.0        │ 94.8         │ 34.4         │ 17.0             │ 23    │\n",
       "│ 3   │ 97.5        │ 95.0         │ 33.4         │ 16.9             │ 28    │\n",
       "│ 4   │ 97.0        │ 94.0         │ 31.0         │ 16.6             │ 23    │\n",
       "│ 5   │ 97.5        │ 98.5         │ 32.0         │ 18.0             │ 22    │\n",
       "│ 6   │ 99.9        │ 95.3         │ 33.0         │ 16.9             │ 21    │\n",
       "\n",
       "│ Row │ Gewicht │ Groesse │ Geschlecht │\n",
       "├─────┼─────────┼─────────┼────────────┤\n",
       "│ 1   │ 65.6    │ 174.0   │ 1          │\n",
       "│ 2   │ 71.8    │ 175.3   │ 1          │\n",
       "│ 3   │ 80.7    │ 193.5   │ 1          │\n",
       "│ 4   │ 72.6    │ 186.5   │ 1          │\n",
       "│ 5   │ 78.8    │ 187.2   │ 1          │\n",
       "│ 6   │ 74.8    │ 181.5   │ 1          │"
      ]
     },
     "execution_count": 3,
     "metadata": {},
     "output_type": "execute_result"
    }
   ],
   "source": [
    "# Lade Daten und speichere sie in der Variable \"df\" ab.\n",
    "# df steht hier für DataFrame und ist vergleichbar mit\n",
    "# einer Excel Tabelle.\n",
    "# Jede Spalte der Tabelle ist dabei eine Variable.\n",
    "# Jede Zeile der Tabelle ist eine \"Messung\"\n",
    "# Geschlecht ist die Zielvariable welche wir voraussagen wollen.\n",
    "# 1 := maennlich, 0 := weiblich\n",
    "\n",
    "df = readtable(\"data_ex2.csv\")\n",
    "raw_data  = convert(Matrix{Float64}, df[:, [:UmfangHandgelenk, :Alter]])\n",
    "\n",
    "@show(size(df))\n",
    "head(df)"
   ]
  },
  {
   "cell_type": "code",
   "execution_count": 4,
   "metadata": {
    "collapsed": false,
    "scrolled": false
   },
   "outputs": [
    {
     "name": "stderr",
     "output_type": "stream",
     "text": [
      "\u001b[1m\u001b[34mINFO: Recompiling stale cache file /home/abieler/.julia/lib/v0.5/PyPlot.ji for module PyPlot.\n",
      "\u001b[0m"
     ]
    },
    {
     "name": "stdout",
     "output_type": "stream",
     "text": [
      "\n",
      " If the code has a Segmentation fault error switch to qt v4.8.5 by pasting the following code into julia: \n",
      " \n",
      "if !Plots.is_installed(\"PyPlot\")\n",
      "    Pkg.add(\"PyPlot\")\n",
      "end\n",
      "withenv(\"PYTHON\" => \"\") do\n",
      "    Pkg.build(\"PyPlot\")\n",
      "end\n",
      "import Conda\n",
      "Conda.add(\"qt=4.8.5\")\n",
      "\n",
      "# now restart julia!\n"
     ]
    },
    {
     "name": "stderr",
     "output_type": "stream",
     "text": [
      "QGtkStyle could not resolve GTK. Make sure you have installed the proper libraries.\n"
     ]
    },
    {
     "data": {
      "text/html": [
       "<img src=\"data:image/png;base64,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\" />"
      ]
     },
     "execution_count": 4,
     "metadata": {},
     "output_type": "execute_result"
    }
   ],
   "source": [
    "# Darstellen der Messpunkte\n",
    "scatter(df, :UmfangHuefte, :Groesse, group=:Geschlecht)\n",
    "\n",
    "# Wähle zwei Variablen aus die du denkst sind vielversprechend"
   ]
  },
  {
   "cell_type": "code",
   "execution_count": 2,
   "metadata": {
    "collapsed": false
   },
   "outputs": [
    {
     "ename": "LoadError",
     "evalue": "UndefVarError: raw_data not defined",
     "output_type": "error",
     "traceback": [
      "UndefVarError: raw_data not defined",
      ""
     ]
    }
   ],
   "source": [
    "# Normalisieren der Datenpunkte. Wird in einer späteren Lektion\n",
    "# erklärt.\n",
    "\n",
    "# X ist die Matrix der Messwerte\n",
    "# y ist der Vektor \"Geschlecht\"\n",
    "\n",
    "X_norm = (raw_data .- mean(raw_data, 1)) ./ std(raw_data, 1)\n",
    "\n",
    "const X = hcat(ones(size(X_norm, 1)), X_norm)\n",
    "const y = convert(Vector{Float64}, df[:,:Geschlecht]);"
   ]
  },
  {
   "cell_type": "markdown",
   "metadata": {
    "slideshow": {
     "slide_type": "slide"
    }
   },
   "source": [
    "# Hypothese\n",
    "Unser Ziel ist es, an hand der Messungen eine Vorhersage über das Geschlecht\n",
    "der Person machen zu können. Das heisst für jede Messung wollen wir berechnen ob die Zielvariable = 1 (Mann) oder 0 (Frau) ist.\n",
    "\n",
    "Man stellt mit Hilfe des Skalarprodukts eine Hypothese \"H\" auf um die Zielvariable y vorauszusagen.\n",
    "H = dot(x, theta)\n",
    "\n",
    "Unsere Hypothese ist also:\n",
    "\n",
    "$$Geschlecht = y \\approx H(s)$$\n",
    "\n",
    "$$s = x_1\\theta_1 + x_2 \\theta_2 + \\cdots + x_n \\theta_n$$\n",
    "\n",
    "Mit den unbekannten $\\theta_i$ und den Messungen/Variablen $x_i$:\n",
    "\n",
    "* $x_1$ = :UmfangBrust\n",
    "* $x_2$ = :UmfangHuefte\n",
    "* $\\vdots$\n",
    "* $x_7$ = :Groesse\n",
    "* y = :Geschlecht\n",
    "\n",
    "\n",
    "$s$ ist das Skalarprodukt zwischen $x$ und $\\theta$. Zur Erinnerung:\n",
    "$s$ kann eine Zahl zwischen -Unendlich bis +Unendlich sein.\n",
    "\n",
    "\n",
    "Weil die Zielvariable nur entweder 0 oder 1 sein kann, brauchen wir also noch eine Funktion, die das Skalarprodukt nimmt und dann 0 oder 1 ausspuckt. Diese Funktion ist $H(s)$ (sprich: Ha von Ess)\n",
    "\n",
    "\n",
    "Wir werden als erstes die folgende Funktion verwenden:\n",
    "\n",
    "$H(s)$ = 1 falls s $\\geq$ 0\n",
    "\n",
    "$H(s)$ = 0 falls s $<$ 0\n",
    "\n",
    "# Lösungsvorgehen\n",
    "Nun müssen $\\theta_1$ bis $\\theta_7$ so gefunden werden, dass unsere\n",
    "Hypothese möglichst gut funktioniert. Das ist Machine Learning."
   ]
  },
  {
   "cell_type": "markdown",
   "metadata": {},
   "source": [
    "$$\n",
    "X \\cdot \\theta = y\n",
    "$$\n",
    "\n",
    "Zeile für Zeile geschrieben:\n",
    "\n",
    "$$\n",
    "\\theta_1 x_1 + \\theta_2 x_2 + \\dots + \\theta_7 x_7 = y_1\n",
    "$$\n",
    "\n",
    "$$\n",
    "\\theta_1 \\cdot \\text{UmfangBrust}_{001} + \\theta_2 \\cdot \\text{UmfangHuefte}_{001} + \\dots + \\theta_7 \\cdot \\text{Groesse}_{001} = \\text{Geschlecht}_{001}\n",
    "$$\n",
    "$$\n",
    "\\theta_1 \\cdot \\text{UmfangBrust}_{002} + \\theta_2 \\cdot \\text{UmfangHuefte}_{002} + \\dots + \\theta_7 \\cdot \\text{Groesse}_{002} = \\text{Geschlecht}_{002}\n",
    "$$\n",
    "$$\n",
    "\\vdots\n",
    "$$\n",
    "$$\n",
    "\\theta_1 \\cdot \\text{UmfangBrust}_{507} + \\theta_2 \\cdot \\text{UmfangHuefte}_{507} + \\dots + \\theta_7 \\cdot \\text{Groesse}_{507} = \\text{Geschlecht}_{507}\n",
    "$$\n",
    "\n",
    "Jetzt muss man $\\theta_1$ bis $\\theta_7$ finden, so dass möglichst viele der Gleichungen oben stimmen."
   ]
  },
  {
   "cell_type": "markdown",
   "metadata": {
    "slideshow": {
     "slide_type": "slide"
    }
   },
   "source": [
    "# Optimierungsprobleme\n",
    "Das finden von $\\theta$ für unsere Aufgabe ist ein Optimierungsproblem. **Finde $\\theta$ so dass $H(s)$ möglichst gut funktioniert!**. Es gitb sehr viele verschiedene Methoden um dieses Optimum zu finden und in der Regel können wir einfach eine dieser fertigen Methoden benutzen.\n",
    "\n",
    "Als erstes brauchen wir also nur noch eine definition was überhaupt \"gut\" ist. Am liebsten wird diese Qualität als Skalar gemessen. Das Ziel ist dann diese Zahl möglichst klein/gross zu machen. Z.b.\n",
    "\n",
    "* **Gewinn** einer Firma (mehr ist besser).\n",
    "* **zu fahrende Kilometer** für einen Amazon Lieferwagen (weniger ist besser)\n",
    "\n",
    "\n",
    "Julia hat ein Modul **Optim** welche verschiedene optimierungsverfahren bereitstellt.\n",
    "Um damit Probleme zu lösen müssen wir eine Funktion definieren die ein $\\theta$ annimmt,\n",
    "und dann eine Zahl zurück gibt welche die Qualität von $\\theta$ beschreibt.\n",
    "\n",
    "\n",
    "1) bestimme einen Anfangswert für $\\theta$.\n",
    "\n",
    "2) Aus $\\theta$ und $X$ bekommen wir das Skalarprodukt $s$.\n",
    "\n",
    "3) H(s) ergibt unsere Vorhersage für \"Geschlecht\".\n",
    "\n",
    "4) Vergleiche Vorhersage und \"Geschlecht\" um Qualität zu bestimmen.\n",
    "\n",
    "5) Ändere $\\theta$ so ab, dass Qualität zunimmt* --> (das macht Optim)"
   ]
  },
  {
   "cell_type": "code",
   "execution_count": 79,
   "metadata": {
    "collapsed": false
   },
   "outputs": [
    {
     "name": "stderr",
     "output_type": "stream",
     "text": [
      "WARNING: Method definition H(Any) in module Main at In[71]:3 overwritten at In[79]:3.\n",
      "WARNING: Method definition cost(Any) in module Main at In[71]:11 overwritten at In[79]:11.\n"
     ]
    },
    {
     "data": {
      "text/plain": [
       "cost (generic function with 1 method)"
      ]
     },
     "execution_count": 79,
     "metadata": {},
     "output_type": "execute_result"
    }
   ],
   "source": [
    "# Definition der Funktionen für optimize()\n",
    "function H(s)\n",
    "    if s >= 0\n",
    "        return 1\n",
    "    else\n",
    "        return 0\n",
    "    end\n",
    "end\n",
    "\n",
    "function cost(theta)\n",
    "    s = X * theta\n",
    "    prediction = H.(s)\n",
    "    accuracy = mean(prediction .== y)\n",
    "    score = -accuracy\n",
    "    return score\n",
    "end"
   ]
  },
  {
   "cell_type": "code",
   "execution_count": 85,
   "metadata": {
    "collapsed": false
   },
   "outputs": [
    {
     "name": "stdout",
     "output_type": "stream",
     "text": [
      "accuracy = -0.8954635108481263\n",
      "theta_opt = [0.195846,3.45667,0.425519]\n"
     ]
    }
   ],
   "source": [
    "# Finde einen Anfangswert für theta\n",
    "theta_init = randn(size(X, 2))\n",
    "\n",
    "# Starte Optimierung\n",
    "opt = optimize(cost, theta_init)\n",
    "\n",
    "# Zeige Resultate\n",
    "theta_opt = opt.minimizer\n",
    "accuracy = opt.minimum\n",
    "@show(accuracy)\n",
    "@show(theta_opt);"
   ]
  },
  {
   "cell_type": "code",
   "execution_count": null,
   "metadata": {
    "collapsed": true
   },
   "outputs": [],
   "source": []
  }
 ],
 "metadata": {
  "anaconda-cloud": {},
  "celltoolbar": "Slideshow",
  "kernelspec": {
   "display_name": "Julia 0.5.0",
   "language": "julia",
   "name": "julia-0.5"
  },
  "language_info": {
   "file_extension": ".jl",
   "mimetype": "application/julia",
   "name": "julia",
   "version": "0.5.0"
  }
 },
 "nbformat": 4,
 "nbformat_minor": 0
}
