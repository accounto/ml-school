{
 "cells": [
  {
   "cell_type": "markdown",
   "metadata": {
    "collapsed": true,
    "slideshow": {
     "slide_type": "slide"
    }
   },
   "source": [
    "## Vektoren\n",
    "* Sind für unsere Zwecke \"Listen\" oder \"Tupel\" von Zahlen.\n",
    "Zum beispiel [1, 3, 2, 10], oder [0, 0, 1] die man horizontal oder vertikal schreiben kann.\n",
    "* Vektoren (mit gleicher Anzahl Elementen!) kann man zusammenzählen und mit einem Skalar multiplizieren.\n",
    "* $$ \\left(\\begin{matrix}2 \\\\ 5 \\\\ 1\\end{matrix}\\right)  + \\left(\\begin{matrix}1 \\\\ -1 \\\\ 0\\end{matrix}\\right) = \\left(\\begin{matrix}3 \\\\ 4 \\\\ 1\\end{matrix}\\right)$$\n",
    "\n",
    "\n",
    "* $$ 3 \\; \\left(\\begin{matrix}2 \\\\ 5 \\\\ 1\\end{matrix}\\right) = \\left(\\begin{matrix}6 \\\\ 15 \\\\ 3\\end{matrix}\\right)$$"
   ]
  },
  {
   "cell_type": "markdown",
   "metadata": {
    "collapsed": true,
    "slideshow": {
     "slide_type": "slide"
    }
   },
   "source": [
    "## Skalarprodukt\n",
    "* Wird in der Mathematik mit einem Punkt geschrieben. Für zwei Vektoren $a$ und $b$ also $a \\cdot b$\n",
    "\n",
    "\n",
    "* Ist ein Mass für den Winkel zwischen den zwei Vektoren.\n",
    "* Falls Skalarprodukt > 0 --> Vektoren zeigen in dieselbe Richtung\n",
    "* Falls Skalarprodukt = 0 --> Vektoren senkrecht zueinander\n",
    "* Falls Skalarprodukt < 0 --> Vektoren zeigen in entgegengesetzte Richtungen\n",
    "\n",
    "* In Julia ist das Skalarprodukt eine eingebaute Funktion und heist \"dot()\". Also dot(a, b) entspricht dem $ a \\cdot b$\n",
    "\n",
    "* $a_1 b_1 + a_2b_2 + \\dots + a_nb_n$"
   ]
  },
  {
   "cell_type": "code",
   "execution_count": 1,
   "metadata": {
    "collapsed": false,
    "slideshow": {
     "slide_type": "slide"
    }
   },
   "outputs": [],
   "source": [
    "# Import the necessary libraries to work with tabulated\n",
    "# data in Julia and show results\n",
    "using DataFrames\n",
    "using StatPlots\n",
    "using Plots\n",
    "using Optim"
   ]
  },
  {
   "cell_type": "code",
   "execution_count": 68,
   "metadata": {
    "collapsed": false,
    "slideshow": {
     "slide_type": "-"
    }
   },
   "outputs": [
    {
     "name": "stderr",
     "output_type": "stream",
     "text": [
      "WARNING: redefining constant X\n",
      "WARNING: redefining constant y\n"
     ]
    }
   ],
   "source": [
    "# Lade Daten und speichere sie in der Variable \"df\" ab.\n",
    "# df steht hier für DataFrame und ist vergleichbar mit\n",
    "# einer Excel Tabelle.\n",
    "# Jede Spalte der Tabelle ist dabei eine Variable.\n",
    "# Jede Zeile der Tabelle ist eine \"Messung\"\n",
    "# Geschlecht ist die Zielvariable, das was wir voraussagen wollen.\n",
    "# 1 := maennlich, 0 := weiblich\n",
    "\n",
    "df = readtable(\"data_ex2.csv\")\n",
    "#raw_data  = convert(Matrix{Float64}, df[:, [:UmfangBrust, :UmfangHuefte, :UmfangBizeps, :UmfangHandgelenk, :Alter, :Gewicht,:Groesse]])\n",
    "raw_data  = convert(Matrix{Float64}, df[:, [:UmfangHandgelenk, :Alter]])\n",
    "\n",
    "X_norm = (raw_data .- mean(raw_data, 1)) ./ std(raw_data, 1)\n",
    "\n",
    "const X = hcat(ones(size(X_norm, 1)), X_norm)\n",
    "const y = convert(Vector{Float64}, df[:,:Geschlecht]);"
   ]
  },
  {
   "cell_type": "code",
   "execution_count": 56,
   "metadata": {
    "collapsed": false
   },
   "outputs": [
    {
     "name": "stdout",
     "output_type": "stream",
     "text": [
      "size(df) = (507,8)\n"
     ]
    },
    {
     "data": {
      "text/html": [
       "<table class=\"data-frame\"><thead><tr><th></th><th>UmfangBrust</th><th>UmfangHuefte</th><th>UmfangBizeps</th><th>UmfangHandgelenk</th><th>Alter</th><th>Gewicht</th><th>Groesse</th><th>Geschlecht</th></tr></thead><tbody><tr><th>1</th><td>89.5</td><td>93.5</td><td>32.5</td><td>16.5</td><td>21</td><td>65.6</td><td>174.0</td><td>1</td></tr><tr><th>2</th><td>97.0</td><td>94.8</td><td>34.4</td><td>17.0</td><td>23</td><td>71.8</td><td>175.3</td><td>1</td></tr><tr><th>3</th><td>97.5</td><td>95.0</td><td>33.4</td><td>16.9</td><td>28</td><td>80.7</td><td>193.5</td><td>1</td></tr><tr><th>4</th><td>97.0</td><td>94.0</td><td>31.0</td><td>16.6</td><td>23</td><td>72.6</td><td>186.5</td><td>1</td></tr><tr><th>5</th><td>97.5</td><td>98.5</td><td>32.0</td><td>18.0</td><td>22</td><td>78.8</td><td>187.2</td><td>1</td></tr><tr><th>6</th><td>99.9</td><td>95.3</td><td>33.0</td><td>16.9</td><td>21</td><td>74.8</td><td>181.5</td><td>1</td></tr></tbody></table>"
      ],
      "text/plain": [
       "6×8 DataFrames.DataFrame\n",
       "│ Row │ UmfangBrust │ UmfangHuefte │ UmfangBizeps │ UmfangHandgelenk │ Alter │\n",
       "├─────┼─────────────┼──────────────┼──────────────┼──────────────────┼───────┤\n",
       "│ 1   │ 89.5        │ 93.5         │ 32.5         │ 16.5             │ 21    │\n",
       "│ 2   │ 97.0        │ 94.8         │ 34.4         │ 17.0             │ 23    │\n",
       "│ 3   │ 97.5        │ 95.0         │ 33.4         │ 16.9             │ 28    │\n",
       "│ 4   │ 97.0        │ 94.0         │ 31.0         │ 16.6             │ 23    │\n",
       "│ 5   │ 97.5        │ 98.5         │ 32.0         │ 18.0             │ 22    │\n",
       "│ 6   │ 99.9        │ 95.3         │ 33.0         │ 16.9             │ 21    │\n",
       "\n",
       "│ Row │ Gewicht │ Groesse │ Geschlecht │\n",
       "├─────┼─────────┼─────────┼────────────┤\n",
       "│ 1   │ 65.6    │ 174.0   │ 1          │\n",
       "│ 2   │ 71.8    │ 175.3   │ 1          │\n",
       "│ 3   │ 80.7    │ 193.5   │ 1          │\n",
       "│ 4   │ 72.6    │ 186.5   │ 1          │\n",
       "│ 5   │ 78.8    │ 187.2   │ 1          │\n",
       "│ 6   │ 74.8    │ 181.5   │ 1          │"
      ]
     },
     "execution_count": 56,
     "metadata": {},
     "output_type": "execute_result"
    }
   ],
   "source": [
    "@show(size(df))\n",
    "head(df)"
   ]
  },
  {
   "cell_type": "code",
   "execution_count": 49,
   "metadata": {
    "collapsed": false,
    "scrolled": false
   },
   "outputs": [
    {
     "data": {
      "text/html": [
       "<script src=\"/opt/julia_packages/.julia/v0.5/Plots/src/backends/../../deps/plotly-latest.min.js\"></script>    <div id=\"eebe44d7-38b7-449d-806a-7555179c7044\" style=\"width:600px;height:400px;\"></div>\n",
       "    <script>\n",
       "    PLOT = document.getElementById('eebe44d7-38b7-449d-806a-7555179c7044');\n",
       "    Plotly.plot(PLOT, [{\"yaxis\":\"y\",\"y\":[161.2,167.5,159.5,157.0,155.8,170.0,159.1,166.0,176.2,160.2,172.5,170.9,172.9,153.4,160.0,147.2,168.2,175.0,157.0,167.6,159.5,175.0,166.8,176.5,170.2,174.0,173.0,179.9,170.5,160.0,154.4,162.0,176.5,160.0,152.0,162.1,170.0,160.2,161.3,166.4,168.9,163.8,167.6,160.0,161.3,167.6,165.1,160.0,170.0,157.5,167.6,160.7,163.2,152.4,157.5,168.3,180.3,165.5,165.0,164.5,156.0,160.0,163.0,165.7,161.0,162.0,166.0,174.0,172.7,167.6,151.1,164.5,163.5,152.0,169.0,164.0,161.2,155.0,170.0,176.2,170.0,162.5,170.3,164.1,169.5,163.2,154.5,159.8,173.2,170.0,161.4,169.0,166.2,159.4,162.5,159.0,162.8,159.0,179.8,162.9,161.0,151.1,168.2,168.9,173.2,171.8,178.0,164.3,163.0,168.5,166.8,172.7,163.5,169.4,167.8,159.5,167.6,161.2,160.0,163.2,162.2,161.3,149.5,157.5,163.2,172.7,155.0,156.5,164.0,160.9,162.8,167.0,160.0,160.0,168.9,158.2,156.0,160.0,167.1,158.0,167.6,156.0,162.1,173.4,159.8,170.5,159.2,157.5,161.3,162.6,160.0,168.9,165.1,162.6,165.1,166.4,160.0,152.4,170.2,162.6,170.2,158.8,172.7,167.6,162.6,167.6,156.2,175.2,172.1,162.6,160.0,165.1,182.9,166.4,165.1,177.8,165.1,175.3,154.9,158.8,172.7,168.9,161.3,167.6,165.1,175.3,157.5,163.8,167.6,165.1,165.1,168.9,162.6,164.5,176.5,168.9,175.3,159.4,160.0,170.2,162.6,167.6,162.6,160.7,160.0,157.5,162.6,152.4,170.2,165.1,172.7,165.1,170.2,170.2,170.2,161.3,167.6,167.6,165.1,162.6,152.4,168.9,170.2,175.2,175.2,160.0,165.1,174.0,170.2,160.0,167.6,167.6,167.6,154.9,162.6,175.3,171.4,157.5,165.1,160.0,174.0,162.6,174.0,162.6,161.3,156.2,149.9,169.5,160.0,175.3,169.5,160.0,172.7,162.6,157.5,176.5,164.4,160.7,174.0,163.8],\"showlegend\":true,\"name\":\"0\",\"type\":\"scatter\",\"xaxis\":\"x\",\"x\":[92.0,90.5,91.0,99.5,91.5,94.0,85.5,104.0,104.1,108.1,90.3,91.6,94.4,80.9,87.7,88.5,88.5,101.0,88.5,99.0,91.0,110.2,94.2,111.0,103.0,90.0,96.0,93.7,101.5,82.5,89.0,93.9,106.4,92.0,86.0,89.1,104.1,88.0,102.6,95.9,98.8,93.5,92.9,86.9,94.9,95.3,93.3,90.0,99.3,95.6,95.8,104.6,92.2,80.7,98.1,89.6,94.0,94.7,94.1,93.7,86.7,105.9,97.5,105.3,102.6,91.6,83.9,108.1,99.1,89.3,89.9,85.8,85.8,96.0,98.7,94.9,90.5,86.6,103.0,97.9,98.1,94.8,96.5,103.0,86.8,89.3,89.5,88.4,100.5,94.0,101.3,95.5,95.3,84.1,91.0,83.9,93.1,92.3,97.1,97.5,92.0,112.1,89.9,104.9,94.2,90.4,99.5,98.7,103.5,100.0,95.2,114.0,91.2,93.8,92.0,85.8,95.4,88.4,84.5,91.7,87.4,95.9,84.3,96.5,91.8,101.0,92.6,95.2,96.0,89.9,92.7,94.1,93.8,78.8,96.0,84.9,97.5,86.0,96.8,93.5,93.0,90.2,91.9,88.5,90.2,97.6,95.0,98.0,97.4,98.2,100.0,95.5,101.9,87.6,102.6,90.4,92.0,102.2,106.7,109.8,89.1,93.0,98.6,112.1,95.0,100.2,101.2,100.8,96.5,93.2,95.8,97.6,108.3,102.4,94.3,96.5,94.0,106.2,98.6,89.3,106.9,91.9,89.1,95.5,101.1,98.9,83.3,94.0,100.1,93.8,103.9,93.5,90.2,100.2,109.5,97.6,96.9,90.3,94.8,92.7,108.4,94.7,90.6,90.8,96.7,101.2,94.7,87.0,103.6,107.5,96.1,97.6,100.2,91.6,94.7,107.0,86.3,97.8,107.9,103.3,94.9,95.1,104.9,96.3,90.4,92.8,128.3,87.6,107.2,112.0,94.0,102.7,92.0,98.4,103.5,96.7,90.6,92.0,90.4,96.7,94.9,95.5,88.4,97.8,95.4,97.7,84.6,91.6,103.3,96.3,93.5,104.3,96.3,98.3,112.1,101.0,89.5,86.9,98.6,102.2],\"mode\":\"markers\",\"marker\":{\"symbol\":\"circle\",\"line\":{\"width\":1,\"color\":\"rgba(0, 0, 0, 1.000)\"},\"size\":8,\"color\":\"rgba(0, 154, 250, 1.000)\"}},{\"yaxis\":\"y\",\"y\":[174.0,175.3,193.5,186.5,187.2,181.5,184.0,184.5,175.0,184.0,180.0,177.8,192.0,176.0,174.0,184.0,192.7,171.5,173.0,176.0,176.0,180.5,172.7,176.0,173.5,178.0,180.3,180.3,164.5,173.0,183.5,175.5,188.0,189.2,172.8,170.0,182.0,170.0,177.8,184.2,186.7,171.4,172.7,175.3,180.3,182.9,188.0,177.2,172.1,167.0,169.5,174.0,172.7,182.2,164.1,163.0,171.5,184.2,174.0,174.0,177.0,186.0,167.0,171.8,182.0,167.0,177.8,164.5,192.0,175.5,171.2,181.6,167.4,181.1,177.0,174.5,177.5,170.5,182.4,197.1,180.1,175.5,180.6,184.4,175.5,180.6,177.0,177.1,181.6,176.5,175.0,174.0,165.1,177.0,192.0,176.5,169.4,182.1,179.8,175.3,184.9,177.3,167.4,178.1,168.9,157.2,180.3,170.2,177.8,172.7,165.1,186.7,165.1,174.0,175.3,185.4,177.8,180.3,180.3,177.8,177.8,177.8,177.8,177.8,163.8,188.0,198.1,175.3,166.4,190.5,166.4,177.8,179.7,172.7,190.5,185.4,168.9,167.6,175.3,170.2,190.5,177.8,190.5,177.8,184.2,176.5,177.8,180.3,171.4,172.7,172.7,177.8,177.8,182.9,170.2,167.6,175.3,165.1,185.4,181.6,172.7,190.5,179.1,175.3,170.2,193.0,171.4,177.8,177.8,167.6,167.6,180.3,182.9,176.5,186.7,188.0,188.0,177.8,174.0,177.8,171.4,185.4,185.4,188.0,188.0,182.9,176.5,175.3,175.3,188.0,188.0,175.3,170.5,179.1,177.8,175.3,182.9,170.8,188.0,180.3,177.8,185.4,168.9,185.4,180.3,174.0,167.6,182.9,160.0,180.3,167.6,186.7,175.3,175.3,175.9,175.3,179.1,181.6,177.8,182.9,177.8,184.2,179.1,176.5,188.0,174.0,167.6,170.2,167.6,188.0,174.0,176.5,180.3,167.6,188.0,180.3,167.6,183.0,183.0,179.1,170.2,177.8,179.1,190.5,177.8,180.3,180.3],\"showlegend\":true,\"name\":\"1\",\"type\":\"scatter\",\"xaxis\":\"x\",\"x\":[93.5,94.8,95.0,94.0,98.5,95.3,101.0,98.0,89.5,99.8,98.4,95.0,103.0,98.0,95.0,97.0,105.0,90.1,94.5,101.1,98.0,99.5,92.2,101.2,98.8,106.0,105.0,97.0,89.0,93.5,95.0,90.0,96.4,100.0,95.4,90.0,91.3,91.0,93.2,97.0,103.9,102.6,97.1,90.7,101.8,103.9,101.4,108.7,98.4,86.5,94.8,100.9,98.0,100.9,85.7,84.1,91.4,98.0,104.5,95.8,91.7,103.4,90.0,91.7,94.0,93.0,93.0,97.4,108.3,90.0,100.2,97.7,96.0,92.0,95.3,86.3,92.5,85.5,94.5,103.0,116.5,98.5,92.0,91.6,92.7,95.0,94.5,100.5,91.8,87.5,94.9,93.0,92.0,91.3,111.7,92.8,91.2,96.2,100.0,108.2,101.1,93.0,88.6,92.8,81.5,91.3,94.7,93.9,89.4,89.3,92.6,96.3,88.0,105.5,102.3,91.6,93.4,103.6,94.8,85.9,98.4,98.4,93.3,115.5,97.7,98.6,94.9,101.3,108.1,98.0,100.2,97.0,97.4,107.9,93.9,98.6,91.3,105.3,88.2,93.3,107.9,103.3,94.4,101.5,110.0,98.4,95.0,98.3,99.0,95.7,96.0,89.5,93.7,97.0,103.6,93.0,90.0,90.0,109.5,91.6,108.5,101.6,99.6,91.9,90.8,104.8,111.4,96.5,108.1,95.3,104.3,96.3,98.8,93.2,106.7,99.9,103.8,107.1,100.0,103.9,95.3,99.5,107.0,101.7,103.8,100.6,103.6,91.2,95.2,98.2,97.1,97.5,94.9,106.3,105.8,96.7,96.4,118.7,104.3,95.9,89.2,101.7,95.1,105.0,101.3,92.0,89.5,100.5,94.0,104.5,98.0,107.4,112.2,94.3,106.8,100.3,101.8,106.7,98.4,101.3,107.9,92.7,94.3,104.6,103.3,96.7,97.9,97.5,97.7,102.5,103.3,100.9,94.8,96.6,98.1,95.5,100.4,92.0,101.5,103.3,87.6,97.9,95.9,111.8,99.9,103.3,100.6],\"mode\":\"markers\",\"marker\":{\"symbol\":\"circle\",\"line\":{\"width\":1,\"color\":\"rgba(0, 0, 0, 1.000)\"},\"size\":8,\"color\":\"rgba(227, 111, 71, 1.000)\"}}], {\"yaxis\":{\"type\":\"-\",\"titlefont\":{\"size\":15,\"color\":\"rgba(0, 0, 0, 1.000)\",\"family\":\"sans-serif\"},\"title\":\"Groesse\",\"tickfont\":{\"size\":11,\"color\":\"rgba(0, 0, 0, 1.000)\",\"family\":\"sans-serif\"},\"ticks\":\"inside\",\"tickmode\":\"array\",\"showgrid\":true,\"tickvals\":[150.0,160.0,170.0,180.0,190.0],\"domain\":[0.07581474190726165,0.9901574803149606],\"ticktext\":[\"150\",\"160\",\"170\",\"180\",\"190\"],\"tickangle\":0,\"zeroline\":false,\"linecolor\":\"rgba(0, 0, 0, 1.000)\",\"tickcolor\":\"rgba(0, 0, 0, 1.000)\",\"anchor\":\"x\"},\"annotations\":[],\"width\":600,\"plot_bgcolor\":\"rgba(255, 255, 255, 1.000)\",\"showlegend\":true,\"legend\":{\"bgcolor\":\"rgba(255, 255, 255, 1.000)\",\"y\":1.0,\"font\":{\"size\":11,\"color\":\"rgba(0, 0, 0, 1.000)\",\"family\":\"sans-serif\"},\"bordercolor\":\"rgba(0, 0, 0, 1.000)\",\"x\":1.0},\"xaxis\":{\"type\":\"-\",\"titlefont\":{\"size\":15,\"color\":\"rgba(0, 0, 0, 1.000)\",\"family\":\"sans-serif\"},\"title\":\"UmfangHuefte\",\"tickfont\":{\"size\":11,\"color\":\"rgba(0, 0, 0, 1.000)\",\"family\":\"sans-serif\"},\"ticks\":\"inside\",\"tickmode\":\"array\",\"showgrid\":true,\"tickvals\":[80.0,90.0,100.0,110.0,120.0],\"domain\":[0.07646908719743364,0.9934383202099737],\"ticktext\":[\"80\",\"90\",\"100\",\"110\",\"120\"],\"tickangle\":0,\"zeroline\":false,\"linecolor\":\"rgba(0, 0, 0, 1.000)\",\"tickcolor\":\"rgba(0, 0, 0, 1.000)\",\"anchor\":\"y\"},\"paper_bgcolor\":\"rgba(255, 255, 255, 1.000)\",\"height\":400,\"margin\":{\"r\":0,\"l\":0,\"b\":0,\"t\":20}});\n",
       "    </script>\n"
      ]
     },
     "execution_count": 49,
     "metadata": {},
     "output_type": "execute_result"
    }
   ],
   "source": [
    "# Darstellen der Messpunkte\n",
    "scatter(df, :UmfangHuefte, :Groesse, group=:Geschlecht)\n",
    "\n",
    "# Wähle zwei Variablen aus die du denkst sind vielversprechend"
   ]
  },
  {
   "cell_type": "markdown",
   "metadata": {
    "slideshow": {
     "slide_type": "slide"
    }
   },
   "source": [
    "# Hypothese\n",
    "Unser Ziel ist es, an hand der Messungen eine Vorhersage über das Geschlecht\n",
    "der Person machen zu können. Das heisst für jede Messung wollen wir berechnen ob die Zielvariable = 1 (Mann) oder 0 (Frau) ist.\n",
    "\n",
    "Man stellt mit Hilfe des Skalarprodukts eine Hypothese \"H\" auf um die Zielvariable y vorauszusagen.\n",
    "H = dot(x, theta)\n",
    "\n",
    "Unsere Hypothese ist also:\n",
    "\n",
    "$$Geschlecht = y \\approx H(s)$$\n",
    "\n",
    "$$s = x_1\\theta_1 + x_2 \\theta_2 + \\cdots + x_n \\theta_n$$\n",
    "\n",
    "Mit den unbekannten $\\theta_i$ und den Messungen/Variablen $x_i$:\n",
    "\n",
    "* $x_1$ = :UmfangBrust\n",
    "* $x_2$ = :UmfangHuefte\n",
    "* $\\vdots$\n",
    "* $x_7$ = :Groesse\n",
    "* y = :Geschlecht\n",
    "\n",
    "\n",
    "$s$ ist das Skalarprodukt zwischen $x$ und $\\theta$. Zur Erinnerung:\n",
    "$s$ kann eine Zahl zwischen -Unendlich bis +Unendlich sein.\n",
    "\n",
    "\n",
    "Weil die Zielvariable nur entweder 0 oder 1 sein kann, brauchen wir also noch eine Funktion, die das Skalarprodukt nimmt und dann 0 oder 1 ausspuckt. Diese Funktion ist $H(s)$ (sprich: Ha von Ess)\n",
    "\n",
    "\n",
    "Wir werden als erstes die folgende Funktion verwenden:\n",
    "\n",
    "$H(s)$ = 1 falls s $\\geq$ 0\n",
    "\n",
    "$H(s)$ = 0 falls s $<$ 0\n",
    "\n",
    "# Lösungsvorgehen\n",
    "Nun müssen $\\theta_1$ bis $\\theta_7$ so gefunden werden, dass unsere\n",
    "Hypothese möglichst gut funktioniert. Das ist Machine Learning."
   ]
  },
  {
   "cell_type": "markdown",
   "metadata": {
    "slideshow": {
     "slide_type": "slide"
    }
   },
   "source": [
    "# Optimierungsprobleme\n",
    "Das finden von $\\theta$ für unsere Aufgabe ist ein Optimierungsproblem. **Finde $\\theta$ so dass $H(s)$ möglichst gut funktioniert!**. Es gitb sehr viele verschiedene Methoden um dieses Optimum zu finden und in der Regel können wir einfach eine dieser fertigen Methoden benutzen.\n",
    "\n",
    "Als erstes brauchen wir also nur noch eine definition was überhaupt \"gut\" ist. Am liebsten wird diese Qualität als Skalar gemessen. Das Ziel ist dann diese Zahl möglichst klein/gross zu machen. Z.b.\n",
    "\n",
    "* **Gewinn** einer Firma (mehr ist besser).\n",
    "* **zu fahrende Kilometer** für einen Amazon Lieferwagen (weniger ist besser)\n",
    "\n",
    "\n",
    "Julia hat ein Modul **Optim** welche verschiedene optimierungsverfahren bereitstellt.\n",
    "Um damit Probleme zu lösen müssen wir eine Funktion definieren die ein $\\theta$ annimmt,\n",
    "und dann eine Zahl zurück gibt welche die Qualität von $\\theta$ beschreibt.\n",
    "\n",
    "\n",
    "1) bestimme einen Anfangswert für $\\theta$.\n",
    "\n",
    "2) Aus $\\theta$ und $X$ bekommen wir das Skalarprodukt $s$.\n",
    "\n",
    "3) H(s) ergibt unsere Vorhersage für \"Geschlecht\".\n",
    "\n",
    "4) Vergleiche Vorhersage und \"Geschlecht\" um Qualität zu bestimmen.\n",
    "\n",
    "5) Ändere $\\theta$ so ab, dass Qualität zunimmt* --> (das macht Optim)"
   ]
  },
  {
   "cell_type": "code",
   "execution_count": 79,
   "metadata": {
    "collapsed": false
   },
   "outputs": [
    {
     "name": "stderr",
     "output_type": "stream",
     "text": [
      "WARNING: Method definition H(Any) in module Main at In[71]:3 overwritten at In[79]:3.\n",
      "WARNING: Method definition cost(Any) in module Main at In[71]:11 overwritten at In[79]:11.\n"
     ]
    },
    {
     "data": {
      "text/plain": [
       "cost (generic function with 1 method)"
      ]
     },
     "execution_count": 79,
     "metadata": {},
     "output_type": "execute_result"
    }
   ],
   "source": [
    "# Definition der Funktionen für optimize()\n",
    "function H(s)\n",
    "    if s >= 0\n",
    "        return 1\n",
    "    else\n",
    "        return 0\n",
    "    end\n",
    "end\n",
    "\n",
    "function cost(theta)\n",
    "    s = X * theta\n",
    "    prediction = H.(s)\n",
    "    accuracy = mean(prediction .== y)\n",
    "    score = -accuracy\n",
    "    return score\n",
    "end"
   ]
  },
  {
   "cell_type": "code",
   "execution_count": 85,
   "metadata": {
    "collapsed": false
   },
   "outputs": [
    {
     "name": "stdout",
     "output_type": "stream",
     "text": [
      "accuracy = -0.8954635108481263\n",
      "theta_opt = [0.195846,3.45667,0.425519]\n"
     ]
    }
   ],
   "source": [
    "# Finde einen Anfangswert für theta\n",
    "theta_init = randn(size(X, 2))\n",
    "\n",
    "# Starte Optimierung\n",
    "opt = optimize(cost, theta_init)\n",
    "\n",
    "# Zeige Resultate\n",
    "theta_opt = opt.minimizer\n",
    "accuracy = opt.minimum\n",
    "@show(accuracy)\n",
    "@show(theta_opt);"
   ]
  },
  {
   "cell_type": "code",
   "execution_count": null,
   "metadata": {
    "collapsed": true
   },
   "outputs": [],
   "source": []
  }
 ],
 "metadata": {
  "anaconda-cloud": {},
  "celltoolbar": "Slideshow",
  "kernelspec": {
   "display_name": "Julia 0.5.0",
   "language": "julia",
   "name": "julia-0.5"
  },
  "language_info": {
   "file_extension": ".jl",
   "mimetype": "application/julia",
   "name": "julia",
   "version": "0.5.0"
  }
 },
 "nbformat": 4,
 "nbformat_minor": 0
}
