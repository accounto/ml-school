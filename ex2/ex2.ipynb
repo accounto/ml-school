{
 "cells": [
  {
   "cell_type": "markdown",
   "metadata": {},
   "source": [
    "## Vektoren\n",
    "* Sind für unsere Zwecke \"Listen\" oder \"Tupel\" von Zahlen.\n",
    "Zum beispiel [1, 3, 2, 10], oder [0, 0, 1] die man horizontal oder vertikal schreiben kann.\n",
    "* Vektoren (mit gleicher Anzahl Elementen!) kann man zusammenzählen und mit einem Skalar multiplizieren.\n",
    "* $$ \\left(\\begin{matrix}2 \\\\ 5 \\\\ 1\\end{matrix}\\right)  + \\left(\\begin{matrix}1 \\\\ -1 \\\\ 0\\end{matrix}\\right) = \\left(\\begin{matrix}3 \\\\ 4 \\\\ 1\\end{matrix}\\right)$$\n",
    "\n",
    "\n",
    "* $$ 3 \\; \\left(\\begin{matrix}2 \\\\ 5 \\\\ 1\\end{matrix}\\right) = \\left(\\begin{matrix}6 \\\\ 15 \\\\ 3\\end{matrix}\\right)$$"
   ]
  },
  {
   "cell_type": "markdown",
   "metadata": {},
   "source": [
    "## Skalarprodukt\n",
    "* Wird in der Mathematik mit einem Punkt geschrieben. Für zwei Vektoren $a$ und $b$ also $a \\cdot b$\n",
    "\n",
    "\n",
    "* Ist ein Mass für den Winkel zwischen den zwei Vektoren.\n",
    "* Falls Skalarprodukt > 0 --> Vektoren zeigen in dieselbe Richtung\n",
    "* Falls Skalarprodukt = 0 --> Vektoren senkrecht zueinander\n",
    "* Falls Skalarprodukt < 0 --> Vektoren zeigen in entgegengesetzte Richtungen\n",
    "\n",
    "* In Julia ist das Skalarprodukt eine eingebaute Funktion und heist \"dot()\". Also dot(a, b) entspricht dem $ a \\cdot b$\n",
    "\n",
    "* $a_1 b_1 + a_2b_2 + \\dots + a_nb_n$"
   ]
  },
  {
   "cell_type": "code",
   "execution_count": null,
   "metadata": {
    "collapsed": true
   },
   "outputs": [],
   "source": [
    "# Import the necessary libraries to work with tabulated data\n",
    "# and for plotting.\n",
    "using DataFrames\n",
    "using StatPlots\n",
    "using Plots\n",
    "using Optim"
   ]
  },
  {
   "cell_type": "code",
   "execution_count": null,
   "metadata": {
    "collapsed": false
   },
   "outputs": [],
   "source": [
    "# Lade Daten und speichere sie in der Variable \"df\" ab.\n",
    "# df steht hier für DataFrame und ist vergleichbar mit\n",
    "# einer Excel Tabelle.\n",
    "# Jede Spalte der Tabelle ist dabei eine Variable.\n",
    "# Jede Zeile der Tabelle ist eine \"Messung\"\n",
    "# Geschlecht ist die Zielvariable welche wir voraussagen wollen.\n",
    "# 1 := maennlich, 0 := weiblich\n",
    "\n",
    "df = readtable(\"data_ex2.csv\")\n",
    "raw_data  = convert(Matrix{Float64}, df[:, [:UmfangHandgelenk, :Alter]])\n",
    "\n",
    "@show(size(df))\n",
    "head(df)"
   ]
  },
  {
   "cell_type": "code",
   "execution_count": null,
   "metadata": {
    "collapsed": false
   },
   "outputs": [],
   "source": [
    "# Darstellen der Messpunkte\n",
    "scatter(df, :UmfangHuefte, :Groesse, group=:Geschlecht)\n",
    "\n",
    "# Wähle zwei Variablen aus die du denkst sind vielversprechend"
   ]
  },
  {
   "cell_type": "code",
   "execution_count": null,
   "metadata": {
    "collapsed": true
   },
   "outputs": [],
   "source": [
    "# Normalisieren der Datenpunkte. Wird in einer späteren Lektion\n",
    "# erklärt.\n",
    "\n",
    "# X ist die Matrix der Messwerte\n",
    "# y ist der Vektor \"Geschlecht\"\n",
    "\n",
    "X_norm = (raw_data .- mean(raw_data, 1)) ./ std(raw_data, 1)\n",
    "\n",
    "const X = hcat(ones(size(X_norm, 1)), X_norm)\n",
    "const y = convert(Vector{Float64}, df[:,:Geschlecht]);"
   ]
  },
  {
   "cell_type": "markdown",
   "metadata": {},
   "source": [
    "# Hypothese\n",
    "Unser Ziel ist es, an hand der Messungen eine Vorhersage über das Geschlecht\n",
    "der Person machen zu können. Das heisst für jede Messung wollen wir berechnen ob die Zielvariable = 1 (Mann) oder 0 (Frau) ist.\n",
    "\n",
    "Man stellt mit Hilfe des Skalarprodukts eine Hypothese \"H\" auf um die Zielvariable y vorauszusagen.\n",
    "H = dot(x, theta)\n",
    "\n",
    "Unsere Hypothese ist also:\n",
    "\n",
    "$$Geschlecht = y \\approx H(s)$$\n",
    "\n",
    "$$s = x_1\\theta_1 + x_2 \\theta_2 + \\cdots + x_n \\theta_n$$\n",
    "\n",
    "Mit den unbekannten $\\theta_i$ und den Messungen/Variablen $x_i$:\n",
    "\n",
    "* $x_1$ = :UmfangBrust\n",
    "* $x_2$ = :UmfangHuefte\n",
    "* $\\vdots$\n",
    "* $x_7$ = :Groesse\n",
    "* y = :Geschlecht\n",
    "\n",
    "\n",
    "$s$ ist das Skalarprodukt zwischen $x$ und $\\theta$. Zur Erinnerung:\n",
    "$s$ kann eine Zahl zwischen -Unendlich bis +Unendlich sein.\n",
    "\n",
    "\n",
    "Weil die Zielvariable nur entweder 0 oder 1 sein kann, brauchen wir also noch eine Funktion, die das Skalarprodukt nimmt und dann 0 oder 1 ausspuckt. Diese Funktion ist $H(s)$ (sprich: Ha von Ess)\n",
    "\n",
    "\n",
    "Wir werden als erstes die folgende Funktion verwenden:\n",
    "\n",
    "$H(s)$ = 1 falls s $\\geq$ 0\n",
    "\n",
    "$H(s)$ = 0 falls s $<$ 0\n",
    "\n",
    "# Lösungsvorgehen\n",
    "Nun müssen $\\theta_1$ bis $\\theta_7$ so gefunden werden, dass unsere\n",
    "Hypothese möglichst gut funktioniert. Das ist Machine Learning."
   ]
  },
  {
   "cell_type": "markdown",
   "metadata": {},
   "source": [
    "![title](df_messung.png)"
   ]
  },
  {
   "cell_type": "markdown",
   "metadata": {},
   "source": [
    "![title](df_variablen.png)"
   ]
  },
  {
   "cell_type": "markdown",
   "metadata": {},
   "source": [
    "![title](Xy_new.png)"
   ]
  },
  {
   "cell_type": "markdown",
   "metadata": {},
   "source": [
    "$$\n",
    "X \\cdot \\theta = y\n",
    "$$\n",
    "\n",
    "Zeile für Zeile geschrieben:\n",
    "\n",
    "$$\n",
    "\\theta_1 x_1 + \\theta_2 x_2 + \\dots + \\theta_7 x_7 = y_1\n",
    "$$\n",
    "\n",
    "$$\n",
    "\\theta_1 \\cdot \\text{UmfangBrust}_{001} + \\theta_2 \\cdot \\text{UmfangHuefte}_{001} + \\dots + \\theta_7 \\cdot \\text{Groesse}_{001} = \\text{Geschlecht}_{001}\n",
    "$$\n",
    "$$\n",
    "\\theta_1 \\cdot \\text{UmfangBrust}_{002} + \\theta_2 \\cdot \\text{UmfangHuefte}_{002} + \\dots + \\theta_7 \\cdot \\text{Groesse}_{002} = \\text{Geschlecht}_{002}\n",
    "$$\n",
    "$$\n",
    "\\vdots\n",
    "$$\n",
    "$$\n",
    "\\theta_1 \\cdot \\text{UmfangBrust}_{507} + \\theta_2 \\cdot \\text{UmfangHuefte}_{507} + \\dots + \\theta_7 \\cdot \\text{Groesse}_{507} = \\text{Geschlecht}_{507}\n",
    "$$\n",
    "\n",
    "Jetzt muss man $\\theta_1$ bis $\\theta_7$ finden, so dass möglichst viele der Gleichungen oben stimmen."
   ]
  },
  {
   "cell_type": "markdown",
   "metadata": {},
   "source": [
    "# Optimierungsprobleme\n",
    "Das finden von $\\theta$ für unsere Aufgabe ist ein Optimierungsproblem. **Finde $\\theta$ so dass $H(s)$ möglichst gut funktioniert!**. Es gitb sehr viele verschiedene Methoden um dieses Optimum zu finden und in der Regel können wir einfach eine dieser fertigen Methoden benutzen.\n",
    "\n",
    "Als erstes brauchen wir also nur noch eine definition was überhaupt \"gut\" ist. Am liebsten wird diese Qualität als Skalar gemessen. Das Ziel ist dann diese Zahl möglichst klein/gross zu machen. Z.b.\n",
    "\n",
    "* **Gewinn** einer Firma (mehr ist besser).\n",
    "* **zu fahrende Kilometer** für einen Amazon Lieferwagen (weniger ist besser)\n",
    "\n",
    "\n",
    "Julia hat ein Modul **Optim** welche verschiedene optimierungsverfahren bereitstellt.\n",
    "Um damit Probleme zu lösen müssen wir eine Funktion definieren die ein $\\theta$ annimmt,\n",
    "und dann eine Zahl zurück gibt welche die Qualität von $\\theta$ beschreibt.\n",
    "\n",
    "\n",
    "1) bestimme einen Anfangswert für $\\theta$.\n",
    "\n",
    "2) Aus $\\theta$ und $X$ bekommen wir das Skalarprodukt $s$.\n",
    "\n",
    "3) H(s) ergibt unsere Vorhersage für \"Geschlecht\".\n",
    "\n",
    "4) Vergleiche Vorhersage und \"Geschlecht\" um Qualität zu bestimmen.\n",
    "\n",
    "5) Ändere $\\theta$ so ab, dass Qualität zunimmt* --> (das macht Optim)"
   ]
  },
  {
   "cell_type": "code",
   "execution_count": null,
   "metadata": {
    "collapsed": false
   },
   "outputs": [],
   "source": [
    "# Definition der Funktionen für optimize()\n",
    "function H(s)\n",
    "    if s >= 0\n",
    "        return 1\n",
    "    else\n",
    "        return 0\n",
    "    end\n",
    "end\n",
    "\n",
    "function cost(theta)\n",
    "    s = X * theta\n",
    "    prediction = H.(s)\n",
    "    accuracy = mean(prediction .== y)\n",
    "    score = -accuracy\n",
    "    return score\n",
    "end"
   ]
  },
  {
   "cell_type": "code",
   "execution_count": null,
   "metadata": {
    "collapsed": false
   },
   "outputs": [],
   "source": [
    "# Finde einen Anfangswert für theta\n",
    "theta_init = randn(size(X, 2))\n",
    "\n",
    "# Starte Optimierung\n",
    "opt = optimize(cost, theta_init)\n",
    "\n",
    "# Zeige Resultate\n",
    "theta_opt = opt.minimizer\n",
    "accuracy = opt.minimum\n",
    "@show(accuracy)\n",
    "@show(theta_opt);"
   ]
  },
  {
   "cell_type": "markdown",
   "metadata": {},
   "source": [
    "![title](peaks.png)"
   ]
  },
  {
   "cell_type": "markdown",
   "metadata": {},
   "source": [
    "![title](noisy_quadratic_surf.png)"
   ]
  },
  {
   "cell_type": "markdown",
   "metadata": {},
   "source": [
    "![title](schwefelsfunction.jpg)"
   ]
  },
  {
   "cell_type": "code",
   "execution_count": null,
   "metadata": {
    "collapsed": true
   },
   "outputs": [],
   "source": []
  }
 ],
 "metadata": {
  "kernelspec": {
   "display_name": "Julia 0.5.0",
   "language": "julia",
   "name": "julia-0.5"
  },
  "language_info": {
   "file_extension": ".jl",
   "mimetype": "application/julia",
   "name": "julia",
   "version": "0.5.0"
  }
 },
 "nbformat": 4,
 "nbformat_minor": 0
}
